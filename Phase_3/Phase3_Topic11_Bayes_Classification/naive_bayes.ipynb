{
 "cells": [
  {
   "cell_type": "markdown",
   "metadata": {
    "cell_style": "center",
    "slideshow": {
     "slide_type": "slide"
    }
   },
   "source": [
    "<div style=\"color:white;\n",
    "           display:fill;\n",
    "           border-radius:5px;\n",
    "           background-color:#5642C5;\n",
    "           font-size:200%;\n",
    "           font-family:Arial;letter-spacing:0.5px\">\n",
    "\n",
    "<p width = 20%, style=\"padding: 10px;\n",
    "              color:white;\">\n",
    "Bayes Classifiers (Naive Bayes and beyond)\n",
    "              \n",
    "</p>\n",
    "</div>\n",
    "\n",
    "Data Science Cohort Live NYC March 2023\n",
    "<p>Phase 3: Topic 28</p>\n",
    "<br>\n",
    "<br>\n",
    "\n",
    "<div align = \"right\">\n",
    "<img src=\"Images/flatiron-school-logo.png\" align = \"right\" width=\"200\"/>\n",
    "</div>\n",
    "    \n",
    "    "
   ]
  },
  {
   "cell_type": "code",
   "execution_count": null,
   "metadata": {
    "slideshow": {
     "slide_type": "skip"
    }
   },
   "outputs": [],
   "source": [
    "import numpy as np\n",
    "import pandas as pd\n",
    "from scipy import stats\n",
    "from sklearn.naive_bayes import MultinomialNB, GaussianNB\n",
    "\n",
    "import seaborn as sns\n",
    "from matplotlib import pyplot as plt\n",
    "from sklearn.model_selection import train_test_split\n",
    "from sklearn.preprocessing import OneHotEncoder\n",
    "\n",
    "\n",
    "\n",
    "\n",
    "#from sklearn.metrics import plot_confusion_matrix\n",
    "from sklearn.metrics import ConfusionMatrixDisplay\n",
    "\n",
    "from sklearn.metrics import classification_report\n",
    "\n",
    "from scipy.stats import norm\n",
    "%matplotlib inline\n",
    "sns.set_palette('tab10')"
   ]
  },
  {
   "cell_type": "markdown",
   "metadata": {
    "heading_collapsed": true,
    "slideshow": {
     "slide_type": "slide"
    }
   },
   "source": [
    "#### Motivating the Bayesian Classifier "
   ]
  },
  {
   "cell_type": "markdown",
   "metadata": {
    "slideshow": {
     "slide_type": "fragment"
    }
   },
   "source": [
    "With classifiers so far:\n",
    "\n",
    "- Only learned probability of each class *given* a data point.\n",
    "- Haven't learned how data is distributed *within* each class"
   ]
  },
  {
   "cell_type": "markdown",
   "metadata": {
    "cell_style": "split",
    "slideshow": {
     "slide_type": "slide"
    }
   },
   "source": [
    "- **Logistic Regression: classified by finding hyperplane**:\n",
    "    - learned probability of each class *given* a data point and logistic regression weight $\\textbf{w}$.\n",
    "    - .predict_proba()\n",
    "    - minimized log loss to find $\\textbf{w}$\n"
   ]
  },
  {
   "cell_type": "markdown",
   "metadata": {
    "cell_style": "split",
    "slideshow": {
     "slide_type": "fragment"
    }
   },
   "source": [
    "<img src = \"Images/sigmoid.png\" width = 500/>\n",
    "<center> Maximize probability (sigmoid) of correct class assignment using training data. </center>"
   ]
  },
  {
   "cell_type": "markdown",
   "metadata": {
    "cell_style": "center",
    "slideshow": {
     "slide_type": "subslide"
    }
   },
   "source": [
    "- **Decision Tree**: \n",
    "    - Make choices about class based on feature splits\n",
    "    - Minimize entropy (measuring of mixing/probability of class purity)\n",
    "    \n",
    "    "
   ]
  },
  {
   "cell_type": "markdown",
   "metadata": {
    "cell_style": "center",
    "slideshow": {
     "slide_type": "fragment"
    }
   },
   "source": [
    "<img src = \"Images/decisiontree_boundary.png\" width = 700/>\n"
   ]
  },
  {
   "cell_type": "markdown",
   "metadata": {
    "slideshow": {
     "slide_type": "subslide"
    }
   },
   "source": [
    "- **KNN: majority voting** \n",
    "    - Learned probability of each class given feature point.\n",
    "    - Did this by local counting."
   ]
  },
  {
   "cell_type": "markdown",
   "metadata": {
    "slideshow": {
     "slide_type": "fragment"
    }
   },
   "source": [
    "<img src = \"Images/knn_3.webp\" />"
   ]
  },
  {
   "cell_type": "markdown",
   "metadata": {
    "slideshow": {
     "slide_type": "slide"
    }
   },
   "source": [
    "#### All examples of discriminative classifiers\n",
    "- Learn probability of class assignment given data point.\n",
    "- i.e. learned to maximize probability on train set/minimize rate of classification error."
   ]
  },
  {
   "cell_type": "markdown",
   "metadata": {
    "slideshow": {
     "slide_type": "slide"
    }
   },
   "source": [
    "#### But sometimes:\n",
    "- Want to understand/fit probability distribution of data for each individual class.\n"
   ]
  },
  {
   "cell_type": "markdown",
   "metadata": {
    "cell_style": "split",
    "slideshow": {
     "slide_type": "subslide"
    }
   },
   "source": [
    "**Probabilistic/generative modeling of data**\n",
    "- E.g. data for each class $c$ distributed according to a given distribution:\n",
    "    - Gaussian\n",
    "    - Poisson\n",
    "    - Binomial/multinomial\n"
   ]
  },
  {
   "cell_type": "markdown",
   "metadata": {
    "cell_style": "split",
    "slideshow": {
     "slide_type": "fragment"
    }
   },
   "source": [
    "- Different distribution parameters for each class.\n",
    "    - different means $\\mu_c$\n",
    "    - different covariances $\\Sigma_c$"
   ]
  },
  {
   "cell_type": "markdown",
   "metadata": {
    "slideshow": {
     "slide_type": "slide"
    }
   },
   "source": [
    "Concretely:"
   ]
  },
  {
   "cell_type": "markdown",
   "metadata": {
    "cell_style": "split",
    "slideshow": {
     "slide_type": "fragment"
    }
   },
   "source": [
    "<img src = \"Images/discriminative_voice_pitch.jpg\" />\n",
    "\n",
    "- Minimize classification training error.\n",
    "- Get probability of class assignment for each point in feature space.\n",
    "- No assumption on feature distributions for each class."
   ]
  },
  {
   "cell_type": "markdown",
   "metadata": {
    "cell_style": "split",
    "slideshow": {
     "slide_type": "slide"
    }
   },
   "source": [
    "<img src = \"Images/generative_voice_pitch.jpg\" />\n",
    "\n",
    "- Believe that male and females have different distributions of voice pitch.\n",
    "- Fit distribution of features (pitch) for each."
   ]
  },
  {
   "cell_type": "markdown",
   "metadata": {
    "slideshow": {
     "slide_type": "slide"
    }
   },
   "source": [
    "More abstractly:"
   ]
  },
  {
   "attachments": {
    "discriminative_vs_generative.png": {
     "image/png": "[encoded data removed]"
    }
   },
   "cell_type": "markdown",
   "metadata": {
    "slideshow": {
     "slide_type": "fragment"
    }
   },
   "source": [
    "![discriminative_vs_generative.png](attachment:discriminative_vs_generative.png)"
   ]
  },
  {
   "cell_type": "markdown",
   "metadata": {
    "cell_style": "split",
    "hidden": true,
    "slideshow": {
     "slide_type": "slide"
    }
   },
   "source": [
    "For classification:\n",
    "- $P(C|X)$ is the goal:\n",
    "- Select $c^*$ (specific class) with highest $P(C|X)$"
   ]
  },
  {
   "cell_type": "markdown",
   "metadata": {
    "cell_style": "split",
    "slideshow": {
     "slide_type": "fragment"
    }
   },
   "source": [
    "Using the fancy maths:\n",
    "\n",
    "$$ c^* = f(X) = \\arg\\max_{c} P(C = c| X)  $$"
   ]
  },
  {
   "cell_type": "markdown",
   "metadata": {
    "slideshow": {
     "slide_type": "slide"
    }
   },
   "source": [
    "But we can also take advantage of Bayes Theorem:\n",
    "\n",
    " $$ c^* = f(X) = \\arg\\max_{c} \\frac{P(X| C = c)P(C = c)}{P(X)} $$ \n",
    " "
   ]
  },
  {
   "cell_type": "markdown",
   "metadata": {
    "slideshow": {
     "slide_type": "fragment"
    }
   },
   "source": [
    " Simplifies as $P(X)$ doesn't depend on $C$:\n",
    " \n",
    " $$ c^* = f(X) = \\arg\\max_{c}  P(X| C = c)P(C = c)  $$ "
   ]
  },
  {
   "cell_type": "markdown",
   "metadata": {
    "cell_style": "center",
    "slideshow": {
     "slide_type": "slide"
    }
   },
   "source": [
    " $$ c^* = f(X) = \\arg\\max_{c} P(X| C = c)P(C = c)$$"
   ]
  },
  {
   "cell_type": "markdown",
   "metadata": {
    "cell_style": "split",
    "slideshow": {
     "slide_type": "fragment"
    }
   },
   "source": [
    "**Now can use generative model for each class to help make prediction**\n",
    "- How are features distributed within each class?\n",
    "- Use this to help make prediction."
   ]
  },
  {
   "cell_type": "markdown",
   "metadata": {
    "cell_style": "center",
    "slideshow": {
     "slide_type": "slide"
    }
   },
   "source": [
    "**Relative weights**:\n",
    "\n",
    "Sex is male given pitch of voice.\n",
    "\n",
    "$$ P(sex = M| pitch) \\propto P(pitch|sex = M)P(sex = M)$$\n",
    "\n",
    "Sex is female given pitch:\n",
    "\n",
    "$$P(sex = F| pitch) \\propto P(pitch|sex = F)P(sex = F)$$\n",
    "\n",
    "Then choose winner."
   ]
  },
  {
   "cell_type": "markdown",
   "metadata": {
    "cell_style": "center",
    "slideshow": {
     "slide_type": "slide"
    }
   },
   "source": [
    "<img src = \"Images/generative_voice_pitch.jpg\" />\n",
    "\n",
    "- Use the separate distributions of features for male and female to aid us."
   ]
  },
  {
   "cell_type": "markdown",
   "metadata": {
    "cell_style": "center",
    "slideshow": {
     "slide_type": "slide"
    }
   },
   "source": [
    "$$ P(C = c|X) \\propto P(X| C = c)P(C = c) $$\n",
    "\n",
    "\n",
    "- $P(C = c)$ is our prior estimate of class probabilities (before we factor in features)\n",
    "    - literally, count labels in each class and calculate class fraction.\n",
    "    - result of using DummyClassifier "
   ]
  },
  {
   "cell_type": "markdown",
   "metadata": {
    "slideshow": {
     "slide_type": "slide"
    }
   },
   "source": [
    "P(X) is just a constant (doesnt depend on class c). Thus:\n",
    "\n",
    " $$ c^* = f(X) = \\arg\\max_{c} P(X| C = c)P(C = c) $$\n",
    " \n",
    " is our Bayesian classifier.\n",
    " "
   ]
  },
  {
   "cell_type": "markdown",
   "metadata": {
    "cell_style": "split",
    "slideshow": {
     "slide_type": "slide"
    }
   },
   "source": [
    "$$ P(C = c|X) \\propto P(X| C = c)P(C = c) $$\n",
    "- $P(X| C = c)$ is the class-conditional distribution of features (likelihood function).\n",
    "- **Get best parameters of distribution to fit training data**"
   ]
  },
  {
   "cell_type": "markdown",
   "metadata": {
    "cell_style": "split",
    "slideshow": {
     "slide_type": "fragment"
    }
   },
   "source": [
    "Assuming Gaussians: fit $\\mu_c$, $\\sigma_c$ for each class $c$\n",
    "<img src = \"Images/generative_voice_pitch.jpg\" />"
   ]
  },
  {
   "cell_type": "markdown",
   "metadata": {
    "cell_style": "split",
    "slideshow": {
     "slide_type": "slide"
    }
   },
   "source": [
    "Fitting parameters of the class distribution on training set: \n",
    "- factor in the features and how they are distributed within the different classes.\n",
    "- Adding this new knowledge to enhance Dummy classifier"
   ]
  },
  {
   "cell_type": "markdown",
   "metadata": {
    "cell_style": "split",
    "slideshow": {
     "slide_type": "fragment"
    }
   },
   "source": [
    "Bayes classifier thus based on posterior:\n",
    "$$ P(C = c|X) \\propto P(X| C = c)P(C = c) $$\n",
    "\n",
    "after knowledge update on dummy classifier prior via fitting distributions."
   ]
  },
  {
   "cell_type": "markdown",
   "metadata": {
    "slideshow": {
     "slide_type": "slide"
    }
   },
   "source": [
    "Before jumping in to do this:\n",
    "- Why would I use this approach?"
   ]
  },
  {
   "cell_type": "markdown",
   "metadata": {
    "slideshow": {
     "slide_type": "slide"
    }
   },
   "source": [
    "#### Features for each class modeled by known distribution type"
   ]
  },
  {
   "cell_type": "markdown",
   "metadata": {
    "cell_style": "center",
    "slideshow": {
     "slide_type": "fragment"
    }
   },
   "source": [
    "- mass distribution for different species of penguin:\n",
    "    - might model with normal distributions\n",
    "- count rates of various words in spam vs. non-spam emails.\n",
    "    - might model with multinomial distributions\n",
    "    - like binomial counts but more than 2 outcomes\n"
   ]
  },
  {
   "cell_type": "code",
   "execution_count": null,
   "metadata": {
    "slideshow": {
     "slide_type": "slide"
    }
   },
   "outputs": [],
   "source": [
    "from sklearn.preprocessing import LabelEncoder"
   ]
  },
  {
   "cell_type": "code",
   "execution_count": null,
   "metadata": {
    "scrolled": true,
    "slideshow": {
     "slide_type": "fragment"
    }
   },
   "outputs": [],
   "source": [
    "penguin_df = pd.read_csv('data/penguins.csv')\n",
    "lab_enc = LabelEncoder()\n",
    "penguin_df['Species'] = lab_enc.fit_transform(penguin_df['Species'])\n",
    "penguin_reduced = penguin_df[penguin_df['Species'] != 1][['Body Mass (g)', 'Species']]\n",
    "penguin_reduced"
   ]
  },
  {
   "cell_type": "code",
   "execution_count": null,
   "metadata": {
    "cell_style": "split",
    "slideshow": {
     "slide_type": "slide"
    }
   },
   "outputs": [],
   "source": [
    "penguin_reduced.head()"
   ]
  },
  {
   "cell_type": "code",
   "execution_count": null,
   "metadata": {
    "cell_style": "split",
    "slideshow": {
     "slide_type": "fragment"
    }
   },
   "outputs": [],
   "source": [
    "targ_classes = penguin_reduced.Species.unique()\n",
    "print(targ_classes)\n",
    "penguin_reduced.Species.value_counts()"
   ]
  },
  {
   "cell_type": "code",
   "execution_count": null,
   "metadata": {
    "cell_style": "split",
    "slideshow": {
     "slide_type": "fragment"
    }
   },
   "outputs": [],
   "source": [
    "lab_enc.inverse_transform(targ_classes)"
   ]
  },
  {
   "cell_type": "code",
   "execution_count": null,
   "metadata": {
    "cell_style": "split",
    "slideshow": {
     "slide_type": "slide"
    }
   },
   "outputs": [],
   "source": [
    "sns.histplot(x = 'Body Mass (g)', hue = 'Species', data = penguin_reduced)\n",
    "plt.show()"
   ]
  },
  {
   "cell_type": "markdown",
   "metadata": {
    "cell_style": "split",
    "slideshow": {
     "slide_type": "fragment"
    }
   },
   "source": [
    "EDA suggests that we *might* want to model the class conditional feature distribution:\n",
    "- Mass for the different penguin species\n",
    "- model as normal for each subpopulation"
   ]
  },
  {
   "cell_type": "markdown",
   "metadata": {
    "cell_style": "split",
    "slideshow": {
     "slide_type": "fragment"
    }
   },
   "source": [
    "Could use Bayes' classifier here."
   ]
  },
  {
   "cell_type": "code",
   "execution_count": null,
   "metadata": {
    "cell_style": "center",
    "slideshow": {
     "slide_type": "slide"
    }
   },
   "outputs": [],
   "source": [
    "X = penguin_reduced['Body Mass (g)']\n",
    "y = penguin_reduced['Species']\n",
    "X_train, X_test, y_train, y_test = train_test_split(X, y, test_size = 0.2, random_state = 42)"
   ]
  },
  {
   "cell_type": "code",
   "execution_count": null,
   "metadata": {
    "cell_style": "split",
    "slideshow": {
     "slide_type": "slide"
    }
   },
   "outputs": [],
   "source": [
    "from sklearn.dummy import DummyClassifier\n",
    "prior_est = DummyClassifier(strategy = 'prior')\n",
    "prior_est.fit(X_train,y_train)"
   ]
  },
  {
   "cell_type": "code",
   "execution_count": null,
   "metadata": {
    "cell_style": "split",
    "slideshow": {
     "slide_type": "fragment"
    }
   },
   "outputs": [],
   "source": [
    "prior = prior_est.predict_proba(X_test)[0]\n",
    "prior_est.predict_proba(X_test)[0:2]"
   ]
  },
  {
   "cell_type": "code",
   "execution_count": null,
   "metadata": {
    "cell_style": "split",
    "slideshow": {
     "slide_type": "fragment"
    }
   },
   "outputs": [],
   "source": [
    "y_train.value_counts(normalize = True)"
   ]
  },
  {
   "cell_type": "markdown",
   "metadata": {
    "cell_style": "split",
    "slideshow": {
     "slide_type": "slide"
    }
   },
   "source": [
    "Now let's run a Bayes Gaussian classifier:\n",
    "- will model the features for different subclasses with separate normal distributions\n",
    "- fit separate means and variances for each class"
   ]
  },
  {
   "cell_type": "code",
   "execution_count": null,
   "metadata": {
    "cell_style": "split",
    "slideshow": {
     "slide_type": "fragment"
    }
   },
   "outputs": [],
   "source": [
    "sns.histplot(x = 'Body Mass (g)', hue = 'Species', data = penguin_reduced)\n",
    "plt.show()"
   ]
  },
  {
   "cell_type": "markdown",
   "metadata": {
    "slideshow": {
     "slide_type": "slide"
    }
   },
   "source": [
    "Import the Gaussian Naive Bayes Classifier"
   ]
  },
  {
   "cell_type": "code",
   "execution_count": null,
   "metadata": {
    "slideshow": {
     "slide_type": "fragment"
    }
   },
   "outputs": [],
   "source": [
    "from sklearn.naive_bayes import GaussianNB"
   ]
  },
  {
   "cell_type": "code",
   "execution_count": null,
   "metadata": {
    "cell_style": "split",
    "slideshow": {
     "slide_type": "slide"
    }
   },
   "outputs": [],
   "source": [
    "gb_clf = GaussianNB()\n",
    "gb_clf.fit(X_train.values.reshape(-1,1)\n",
    "           , y_train)\n"
   ]
  },
  {
   "cell_type": "markdown",
   "metadata": {
    "cell_style": "split",
    "slideshow": {
     "slide_type": "fragment"
    }
   },
   "source": [
    "Gaussian Naive Bayes stores:\n",
    "- estimated means and variances for each target class. \n",
    "- Parameters for normal distributions modeling mass for each target class."
   ]
  },
  {
   "cell_type": "markdown",
   "metadata": {
    "slideshow": {
     "slide_type": "slide"
    }
   },
   "source": [
    "The means"
   ]
  },
  {
   "cell_type": "code",
   "execution_count": null,
   "metadata": {
    "cell_style": "split",
    "slideshow": {
     "slide_type": "fragment"
    }
   },
   "outputs": [],
   "source": [
    "# The means\n",
    "gb_clf.theta_"
   ]
  },
  {
   "cell_type": "code",
   "execution_count": null,
   "metadata": {
    "cell_style": "split",
    "slideshow": {
     "slide_type": "fragment"
    }
   },
   "outputs": [],
   "source": [
    "train_df = pd.concat([X_train, y_train],\n",
    "                     axis = 1)\n",
    "man_mean = train_df.groupby('Species').mean()\n",
    "man_mean"
   ]
  },
  {
   "cell_type": "markdown",
   "metadata": {
    "slideshow": {
     "slide_type": "slide"
    }
   },
   "source": [
    "The variances"
   ]
  },
  {
   "cell_type": "code",
   "execution_count": null,
   "metadata": {
    "cell_style": "split",
    "slideshow": {
     "slide_type": "fragment"
    }
   },
   "outputs": [],
   "source": [
    "#gb_clf.sigma_\n",
    "gb_clf.var_"
   ]
  },
  {
   "cell_type": "code",
   "execution_count": null,
   "metadata": {
    "cell_style": "split",
    "slideshow": {
     "slide_type": "fragment"
    }
   },
   "outputs": [],
   "source": [
    "man_var = train_df.groupby('Species').var(ddof = 0)\n",
    "man_var"
   ]
  },
  {
   "cell_type": "markdown",
   "metadata": {
    "slideshow": {
     "slide_type": "slide"
    }
   },
   "source": [
    "Taken the data and now have Gaussians for each class:\n",
    "- mean extracted from data for each class\n",
    "- variance extracted from data for each class."
   ]
  },
  {
   "cell_type": "markdown",
   "metadata": {
    "slideshow": {
     "slide_type": "slide"
    }
   },
   "source": [
    "Predict on the test set"
   ]
  },
  {
   "cell_type": "code",
   "execution_count": null,
   "metadata": {
    "cell_style": "split",
    "slideshow": {
     "slide_type": "fragment"
    }
   },
   "outputs": [],
   "source": [
    "X_test_nump = X_test.values.reshape(-1,1)\n",
    "y_pred = gb_clf.predict(X_test_nump)"
   ]
  },
  {
   "cell_type": "code",
   "execution_count": null,
   "metadata": {
    "cell_style": "center",
    "slideshow": {
     "slide_type": "fragment"
    }
   },
   "outputs": [],
   "source": [
    "#plot_confusion_matrix(gb_clf, X_test_nump,y_test);\n",
    "ConfusionMatrixDisplay.from_estimator(gb_clf, X_test_nump,y_test);"
   ]
  },
  {
   "cell_type": "markdown",
   "metadata": {
    "cell_style": "split",
    "slideshow": {
     "slide_type": "slide"
    }
   },
   "source": [
    "- Bayesian classifier: decent given the simplicity/size of the data and the features. \n",
    "- But how?\n",
    "    - Get priors\n",
    "    - Fits each class-conditional normal\n",
    "    - Compute class posteriors"
   ]
  },
  {
   "cell_type": "markdown",
   "metadata": {
    "cell_style": "split",
    "slideshow": {
     "slide_type": "fragment"
    }
   },
   "source": [
    "$$ P(C = c|X) = \\frac{P(X| C = c)P(C = c)}{P(X)} $$"
   ]
  },
  {
   "cell_type": "code",
   "execution_count": null,
   "metadata": {
    "cell_style": "center",
    "slideshow": {
     "slide_type": "slide"
    }
   },
   "outputs": [],
   "source": [
    "def manual_predict_proba(X, means, variances, priors):\n",
    "    \n",
    "    posterior_list = []\n",
    "    \n",
    "    for i in range(len(priors)):\n",
    "        class_mean = means.iloc[i][0]\n",
    "        class_std = np.sqrt(variances.iloc[i][0])\n",
    "        \n",
    "        # take fit means and stds to calculate data likelihood for the class\n",
    "        # use normal distribution\n",
    "        class_likelihood = norm.pdf(X, loc = class_mean, scale = class_std)\n",
    "        \n",
    "        # get the class prior\n",
    "        prior = priors[i]\n",
    "        \n",
    "        # bayes theorem\n",
    "        posterior_est = class_likelihood*prior\n",
    "        posterior_list.append(posterior_est)\n",
    "    \n",
    "    return posterior_list/np.sum(posterior_list)\n",
    "\n",
    "        "
   ]
  },
  {
   "cell_type": "markdown",
   "metadata": {
    "slideshow": {
     "slide_type": "slide"
    }
   },
   "source": [
    "Get class posteriors for single data point:"
   ]
  },
  {
   "cell_type": "code",
   "execution_count": null,
   "metadata": {
    "slideshow": {
     "slide_type": "fragment"
    }
   },
   "outputs": [],
   "source": [
    "penguin_mass = 2000"
   ]
  },
  {
   "cell_type": "code",
   "execution_count": null,
   "metadata": {
    "cell_style": "split",
    "slideshow": {
     "slide_type": "fragment"
    }
   },
   "outputs": [],
   "source": [
    "manual_predict_proba(penguin_mass,man_mean,\n",
    "                     man_var, prior)"
   ]
  },
  {
   "cell_type": "code",
   "execution_count": null,
   "metadata": {
    "cell_style": "split",
    "slideshow": {
     "slide_type": "fragment"
    }
   },
   "outputs": [],
   "source": [
    "X_tp = np.array([penguin_mass])\n",
    "gb_clf.predict_proba(X_tp.reshape(-1,1))"
   ]
  },
  {
   "cell_type": "markdown",
   "metadata": {
    "slideshow": {
     "slide_type": "slide"
    }
   },
   "source": [
    "Which class does the Bayes classifier assign to?"
   ]
  },
  {
   "cell_type": "markdown",
   "metadata": {
    "cell_style": "split",
    "slideshow": {
     "slide_type": "slide"
    }
   },
   "source": [
    "The Bayes classifier can be extended to more feature dimensions:\n",
    "- In more dimensions **Naive** Bayes makes assumption\n",
    "- Input features not correlated."
   ]
  },
  {
   "cell_type": "markdown",
   "metadata": {
    "cell_style": "split",
    "slideshow": {
     "slide_type": "fragment"
    }
   },
   "source": [
    "$$ P(C = c|\\textbf{X}) = \\frac{P(\\textbf{X}| C = c)P(C = c)}{P(\\textbf{X})} $$"
   ]
  },
  {
   "cell_type": "markdown",
   "metadata": {
    "cell_style": "split",
    "slideshow": {
     "slide_type": "fragment"
    }
   },
   "source": [
    "In 2D: $ \\textbf{X} = (X_1, X_2) $.\n",
    "\n",
    "Under Naive assumption:\n",
    "\n",
    "$$ P(C = c|\\textbf{X}) = \\frac{P(X_1| C = c)P(X_2| C = c)P(C = c)}{P(\\textbf{X})} $$"
   ]
  },
  {
   "cell_type": "code",
   "execution_count": null,
   "metadata": {
    "slideshow": {
     "slide_type": "slide"
    }
   },
   "outputs": [],
   "source": [
    "penguin_df_2D = penguin_df[['Culmen Length (mm)', 'Delta 15 N (o/oo)', 'Species']].rename(\n",
    "    columns = {'Culmen Length (mm)': 'culmen_length', 'Species': 'species', 'Delta 15 N (o/oo)': 'N_isotope'}).dropna()"
   ]
  },
  {
   "cell_type": "code",
   "execution_count": null,
   "metadata": {
    "cell_style": "split",
    "slideshow": {
     "slide_type": "slide"
    }
   },
   "outputs": [],
   "source": [
    "sns.pairplot(hue = 'species', \n",
    "             data = penguin_df_2D);"
   ]
  },
  {
   "cell_type": "markdown",
   "metadata": {
    "cell_style": "split",
    "slideshow": {
     "slide_type": "fragment"
    }
   },
   "source": [
    "Not a lot of correlation between features within each group."
   ]
  },
  {
   "cell_type": "code",
   "execution_count": null,
   "metadata": {
    "cell_style": "split",
    "slideshow": {
     "slide_type": "fragment"
    }
   },
   "outputs": [],
   "source": [
    "X_2D = penguin_df_2D.drop(columns = ['species'])\n",
    "y_2D = penguin_df_2D['species']"
   ]
  },
  {
   "cell_type": "code",
   "execution_count": null,
   "metadata": {
    "cell_style": "split",
    "slideshow": {
     "slide_type": "fragment"
    }
   },
   "outputs": [],
   "source": [
    "penguin_df_2D.groupby('species').corr()"
   ]
  },
  {
   "cell_type": "code",
   "execution_count": null,
   "metadata": {
    "slideshow": {
     "slide_type": "slide"
    }
   },
   "outputs": [],
   "source": [
    "# train test split \n",
    "X_train_2D, X_test_2D, y_train_2D, y_test_2D = train_test_split(X_2D, y_2D, test_size = 0.3, random_state = 42)\n",
    "clf_2d_gauss = GaussianNB()\n",
    "clf_2d_gauss.fit(X_train_2D, y_train_2D)"
   ]
  },
  {
   "cell_type": "markdown",
   "metadata": {
    "slideshow": {
     "slide_type": "slide"
    }
   },
   "source": [
    "Let's look at the test performance:"
   ]
  },
  {
   "cell_type": "code",
   "execution_count": null,
   "metadata": {
    "slideshow": {
     "slide_type": "fragment"
    }
   },
   "outputs": [],
   "source": [
    "y_pred = clf_2d_gauss.predict(X_test_2D)"
   ]
  },
  {
   "cell_type": "code",
   "execution_count": null,
   "metadata": {
    "cell_style": "center",
    "slideshow": {
     "slide_type": "slide"
    }
   },
   "outputs": [],
   "source": [
    "#plot_confusion_matrix(clf_2d_gauss, X_test_2D, y_test_2D);\n",
    "ConfusionMatrixDisplay.from_estimator(clf_2d_gauss, X_test_2D, y_test_2D);"
   ]
  },
  {
   "cell_type": "code",
   "execution_count": null,
   "metadata": {
    "cell_style": "center",
    "slideshow": {
     "slide_type": "fragment"
    }
   },
   "outputs": [],
   "source": [
    "print(classification_report(y_pred, y_test_2D))"
   ]
  },
  {
   "cell_type": "markdown",
   "metadata": {
    "slideshow": {
     "slide_type": "slide"
    }
   },
   "source": [
    "It's working quite well. Let's look at the decision boundaries:"
   ]
  },
  {
   "cell_type": "code",
   "execution_count": null,
   "metadata": {
    "slideshow": {
     "slide_type": "slide"
    }
   },
   "outputs": [],
   "source": [
    "X_2Dn = X_2D.values\n",
    "x_min, x_max = X_2Dn[:, 0].min() - 1, X_2Dn[:, 0].max() + 1\n",
    "y_min, y_max = X_2Dn[:, 1].min() - 1, X_2Dn[:, 1].max() + 1\n",
    "xx, yy = np.meshgrid(np.arange(x_min, x_max, 0.1), np.arange(y_min, y_max, 0.1))\n",
    "\n",
    "f, ax = plt.subplots()\n",
    "\n",
    "Z = clf_2d_gauss.predict(np.c_[xx.ravel(), yy.ravel()])\n",
    "Z = Z.reshape(xx.shape)\n",
    "ax.contourf(xx, yy, Z, alpha=0.4)\n",
    "ax.scatter(X_2Dn[:, 0], X_2Dn[:, 1], c = y_2D, s=30, edgecolor=\"k\")\n",
    "ax.set_xlabel('Culmen Length [mm]')\n",
    "ax.set_ylabel('Nitrogen stable isotope ratio')\n",
    "ax.set_title('Decision Boundary: Naive Bayes')\n",
    "plt.show()"
   ]
  },
  {
   "cell_type": "markdown",
   "metadata": {
    "slideshow": {
     "slide_type": "slide"
    }
   },
   "source": [
    "Can learn quadratic decision surfaces easily. \n",
    "\n",
    "Now let' take a look at a different feature set:"
   ]
  },
  {
   "cell_type": "code",
   "execution_count": null,
   "metadata": {
    "slideshow": {
     "slide_type": "slide"
    }
   },
   "outputs": [],
   "source": [
    "reduced_pg_df = penguin_df[['Culmen Length (mm)', 'Culmen Depth (mm)', 'Species']]"
   ]
  },
  {
   "cell_type": "code",
   "execution_count": null,
   "metadata": {
    "cell_style": "split",
    "slideshow": {
     "slide_type": "fragment"
    }
   },
   "outputs": [],
   "source": [
    "sns.pairplot(hue = 'Species',\n",
    "             data = reduced_pg_df);"
   ]
  },
  {
   "cell_type": "code",
   "execution_count": null,
   "metadata": {
    "cell_style": "split",
    "slideshow": {
     "slide_type": "fragment"
    }
   },
   "outputs": [],
   "source": [
    "reduced_pg_df.groupby('Species').corr()"
   ]
  },
  {
   "cell_type": "markdown",
   "metadata": {
    "cell_style": "center",
    "hidden": true,
    "slideshow": {
     "slide_type": "slide"
    }
   },
   "source": [
    "Culmen length and depth are clearly correlated:\n",
    "- Naive Bayes probably won't be an optimal model."
   ]
  },
  {
   "cell_type": "code",
   "execution_count": null,
   "metadata": {
    "cell_style": "center",
    "slideshow": {
     "slide_type": "slide"
    }
   },
   "outputs": [],
   "source": [
    "X_2D_PG = reduced_pg_df.drop(columns = ['Species'])\n",
    "y_2D_PG = reduced_pg_df['Species']\n",
    "X_train_2D_PG, X_test_2D_PG, y_train_2D_PG, y_test_2D_PG = train_test_split(X_2D_PG, y_2D_PG,\n",
    "                                                                            test_size = 0.4, random_state = 42)"
   ]
  },
  {
   "cell_type": "markdown",
   "metadata": {
    "slideshow": {
     "slide_type": "slide"
    }
   },
   "source": [
    "#### Naive Bayes Results"
   ]
  },
  {
   "cell_type": "code",
   "execution_count": null,
   "metadata": {
    "scrolled": true,
    "slideshow": {
     "slide_type": "fragment"
    }
   },
   "outputs": [],
   "source": [
    "clf_2d_gauss2 = GaussianNB()\n",
    "clf_2d_gauss2.fit(X_train_2D_PG, y_train_2D_PG)\n",
    "y_pred = clf_2d_gauss2.predict(X_test_2D_PG)"
   ]
  },
  {
   "cell_type": "code",
   "execution_count": null,
   "metadata": {
    "cell_style": "center",
    "scrolled": false,
    "slideshow": {
     "slide_type": "slide"
    }
   },
   "outputs": [],
   "source": [
    "#plot_confusion_matrix(clf_2d_gauss2, X_test_2D_PG,y_test_2D_PG);\n",
    "ConfusionMatrixDisplay.from_estimator(clf_2d_gauss2, X_test_2D_PG,y_test_2D_PG);"
   ]
  },
  {
   "cell_type": "code",
   "execution_count": null,
   "metadata": {
    "cell_style": "center",
    "slideshow": {
     "slide_type": "fragment"
    }
   },
   "outputs": [],
   "source": [
    "print(classification_report(y_test_2D_PG,\n",
    "                     y_pred))"
   ]
  },
  {
   "cell_type": "markdown",
   "metadata": {
    "slideshow": {
     "slide_type": "slide"
    }
   },
   "source": [
    "#### Quadratic Discriminant Analysis"
   ]
  },
  {
   "cell_type": "markdown",
   "metadata": {
    "cell_style": "split",
    "slideshow": {
     "slide_type": "fragment"
    }
   },
   "source": [
    "$$ P(C = c|\\textbf{X}) = \\frac{P(\\textbf{X}| C = c)P(C = c)}{P(\\textbf{X})} $$\n",
    "\n",
    "- Use the **full multivariate normal** for each class including correlations between features."
   ]
  },
  {
   "cell_type": "markdown",
   "metadata": {
    "cell_style": "split",
    "slideshow": {
     "slide_type": "fragment"
    }
   },
   "source": [
    "As opposed to Naive Bayes:\n",
    "   \n",
    "$$ P(C = c|\\textbf{X}) = \\frac{P(X_1| C = c)P(X_2| C = c)P(C = c)}{P(\\textbf{X})} $$"
   ]
  },
  {
   "cell_type": "code",
   "execution_count": null,
   "metadata": {
    "slideshow": {
     "slide_type": "slide"
    }
   },
   "outputs": [],
   "source": [
    "from sklearn.discriminant_analysis import QuadraticDiscriminantAnalysis"
   ]
  },
  {
   "cell_type": "code",
   "execution_count": null,
   "metadata": {
    "slideshow": {
     "slide_type": "fragment"
    }
   },
   "outputs": [],
   "source": [
    "qda = QuadraticDiscriminantAnalysis()\n",
    "qda.fit(X_train_2D_PG, y_train_2D_PG)\n",
    "y_pred_qda = qda.predict(X_test_2D_PG)"
   ]
  },
  {
   "cell_type": "code",
   "execution_count": null,
   "metadata": {
    "cell_style": "center",
    "slideshow": {
     "slide_type": "slide"
    }
   },
   "outputs": [],
   "source": [
    "#plot_confusion_matrix(qda, X_test_2D_PG, y_test_2D_PG);\n",
    "ConfusionMatrixDisplay.from_estimator(qda, X_test_2D_PG, y_test_2D_PG);"
   ]
  },
  {
   "cell_type": "code",
   "execution_count": null,
   "metadata": {
    "cell_style": "center",
    "slideshow": {
     "slide_type": "fragment"
    }
   },
   "outputs": [],
   "source": [
    "print(classification_report(y_test_2D_PG,y_pred_qda))"
   ]
  },
  {
   "cell_type": "markdown",
   "metadata": {
    "slideshow": {
     "slide_type": "slide"
    }
   },
   "source": [
    "Evaluating the different decision boundaries:"
   ]
  },
  {
   "cell_type": "code",
   "execution_count": null,
   "metadata": {
    "cell_style": "split",
    "slideshow": {
     "slide_type": "slide"
    }
   },
   "outputs": [],
   "source": [
    "X_2Dn = X_2D_PG.values\n",
    "x_min, x_max = X_2Dn[:, 0].min() - 1, X_2Dn[:, 0].max() + 1\n",
    "y_min, y_max = X_2Dn[:, 1].min() - 1, X_2Dn[:, 1].max() + 1\n",
    "xx, yy = np.meshgrid(np.arange(x_min, x_max, 0.1), np.arange(y_min, y_max, 0.1))\n",
    "\n",
    "f, ax = plt.subplots()\n",
    "\n",
    "Z = clf_2d_gauss2.predict(np.c_[xx.ravel(), yy.ravel()])\n",
    "Z = Z.reshape(xx.shape)\n",
    "ax.contourf(xx, yy, Z, alpha=0.4)\n",
    "ax.scatter(X_2Dn[:, 0], X_2Dn[:, 1], c = y_2D_PG, s=30, edgecolor=\"k\")\n",
    "ax.set_xlabel('Culmen Length [mm]')\n",
    "ax.set_ylabel('Culmen Depth [mm]')\n",
    "ax.set_title('Decision Boundary: Naive Bayes')\n",
    "plt.show()"
   ]
  },
  {
   "cell_type": "code",
   "execution_count": null,
   "metadata": {
    "cell_style": "split",
    "slideshow": {
     "slide_type": "fragment"
    }
   },
   "outputs": [],
   "source": [
    "X_2Dn = X_2D_PG.values\n",
    "x_min, x_max = X_2Dn[:, 0].min() - 1, X_2Dn[:, 0].max() + 1\n",
    "y_min, y_max = X_2Dn[:, 1].min() - 1, X_2Dn[:, 1].max() + 1\n",
    "xx, yy = np.meshgrid(np.arange(x_min, x_max, 0.1), np.arange(y_min, y_max, 0.1))\n",
    "\n",
    "f, ax = plt.subplots()\n",
    "\n",
    "Z = qda.predict(np.c_[xx.ravel(), yy.ravel()])\n",
    "Z = Z.reshape(xx.shape)\n",
    "ax.contourf(xx, yy, Z, alpha=0.4)\n",
    "ax.scatter(X_2Dn[:, 0], X_2Dn[:, 1], c = y_2D_PG, s=30, edgecolor=\"k\")\n",
    "ax.set_xlabel('Culmen Length [mm]')\n",
    "ax.set_ylabel('Culmen Depth [mm]')\n",
    "ax.set_title('Decision Boundary: QDA')\n",
    "plt.show()"
   ]
  },
  {
   "cell_type": "markdown",
   "metadata": {
    "slideshow": {
     "slide_type": "slide"
    }
   },
   "source": [
    "#### Bayesian based classifiers"
   ]
  },
  {
   "cell_type": "markdown",
   "metadata": {
    "slideshow": {
     "slide_type": "fragment"
    }
   },
   "source": [
    "- Modeling the features partitioned by class by fitting\n",
    "- Downside: have to assume a reasonable distribution\n",
    "    - i.e. learning parameters of simpler functions\n",
    "    - less flexible than tree based methods"
   ]
  },
  {
   "cell_type": "markdown",
   "metadata": {
    "slideshow": {
     "slide_type": "fragment"
    }
   },
   "source": [
    "- Upside: \n",
    "    - Can work better than other methods when dataset is small\n",
    "    - Can use for inference\n",
    "    - Don't have to scale."
   ]
  },
  {
   "cell_type": "markdown",
   "metadata": {
    "slideshow": {
     "slide_type": "slide"
    }
   },
   "source": [
    "**Naturally allows you to update probabilities for sequential learning**\n",
    "- previous posterior becomes input prior\n",
    "- take in new data\n",
    "- get new probabilities.\n"
   ]
  },
  {
   "cell_type": "markdown",
   "metadata": {
    "slideshow": {
     "slide_type": "slide"
    }
   },
   "source": [
    "#### Will see other distributions in the Bayesian classifier framework later\n",
    "- MultinomialNB when doing classification in Natural language processing context."
   ]
  }
 ],
 "metadata": {
  "kernelspec": {
   "display_name": "dplearn",
   "language": "python",
   "name": "dplearn"
  },
  "language_info": {
   "codemirror_mode": {
    "name": "ipython",
    "version": 3
   },
   "file_extension": ".py",
   "mimetype": "text/x-python",
   "name": "python",
   "nbconvert_exporter": "python",
   "pygments_lexer": "ipython3",
   "version": "3.10.10"
  },
  "toc": {
   "base_numbering": 1,
   "nav_menu": {},
   "number_sections": true,
   "sideBar": true,
   "skip_h1_title": false,
   "title_cell": "Table of Contents",
   "title_sidebar": "TOC",
   "toc_cell": true,
   "toc_position": {
    "height": "calc(100% - 180px)",
    "left": "10px",
    "top": "150px",
    "width": "221px"
   },
   "toc_section_display": true,
   "toc_window_display": true
  }
 },
 "nbformat": 4,
 "nbformat_minor": 4
}
