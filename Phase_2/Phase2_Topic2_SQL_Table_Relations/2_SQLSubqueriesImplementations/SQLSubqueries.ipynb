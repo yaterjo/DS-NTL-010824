{
 "cells": [
  {
   "cell_type": "markdown",
   "id": "b1b58d2e",
   "metadata": {
    "cell_style": "center",
    "slideshow": {
     "slide_type": "slide"
    }
   },
   "source": [
    "<div style=\"color:white;\n",
    "           display:fill;\n",
    "           border-radius:5px;\n",
    "           background-color:#5642C5;\n",
    "           font-size:200%;\n",
    "           font-family:Arial;letter-spacing:0.5px\">\n",
    "\n",
    "<p width = 20%, style=\"padding: 10px;\n",
    "              color:white;\">\n",
    "SQL: Subqueries\n",
    "              \n",
    "</p>\n",
    "</div>\n",
    "\n",
    "DS-NTL-010824\n",
    "<p>Phase 2</p>\n",
    "<br>\n",
    "<br>\n",
    "\n",
    "<div align = \"right\">\n",
    "<img src=\"Images/flatiron-school-logo.png\" align = \"right\" width=\"200\"/>\n",
    "</div>\n",
    "    \n",
    "   "
   ]
  },
  {
   "cell_type": "markdown",
   "id": "7a9d7722",
   "metadata": {
    "cell_style": "center",
    "slideshow": {
     "slide_type": "slide"
    }
   },
   "source": [
    "Queries can get complex:\n",
    "- Helpful/necessary to build a query out of sub-units\n",
    "- These subunits are queries which might include:\n",
    "    - groupbys/agg functions\n",
    "    - selecting/filtering\n",
    "    - etc."
   ]
  },
  {
   "cell_type": "markdown",
   "id": "6070c392",
   "metadata": {
    "slideshow": {
     "slide_type": "slide"
    }
   },
   "source": [
    "<img src = \"Images/sql_subquery.jpg\">"
   ]
  },
  {
   "cell_type": "markdown",
   "id": "b7caf37f",
   "metadata": {
    "cell_style": "center",
    "slideshow": {
     "slide_type": "slide"
    }
   },
   "source": [
    "Sometimes:\n",
    "\n",
    "- Query a table.\n",
    "- Filter/select/... on that query\n",
    "- Return result of querying on the first query.\n",
    "\n",
    "First query is a **subquery**."
   ]
  },
  {
   "cell_type": "markdown",
   "id": "58a91ef1",
   "metadata": {
    "slideshow": {
     "slide_type": "slide"
    }
   },
   "source": [
    "Inner query is a **subquery**:\n",
    "\n",
    "- Generates an intermediate table that stores results temporarily in memory.\n",
    "- Subquery intermediate table can be used during execution of main query."
   ]
  },
  {
   "cell_type": "markdown",
   "id": "b4f324bb",
   "metadata": {
    "slideshow": {
     "slide_type": "slide"
    }
   },
   "source": [
    "Subqueries can be used to great effect in a variety of circumstances:\n",
    "    \n",
    "- Selecting from a table created by a subquery \n",
    "    - Subquery in FROM statement\n",
    "- Filtering on a subquery.\n",
    "    - Subquery in a WHERE statement\n",
    "- Filtering in a SELECT statement.\n"
   ]
  },
  {
   "cell_type": "markdown",
   "id": "586186bb",
   "metadata": {
    "slideshow": {
     "slide_type": "slide"
    }
   },
   "source": [
    "#### Subquery in FROM clause\n"
   ]
  },
  {
   "cell_type": "markdown",
   "id": "9eb3a1fa",
   "metadata": {
    "slideshow": {
     "slide_type": "slide"
    }
   },
   "source": [
    "First load our handy dandy flights database."
   ]
  },
  {
   "cell_type": "code",
   "execution_count": null,
   "id": "d894b5b1",
   "metadata": {
    "slideshow": {
     "slide_type": "fragment"
    }
   },
   "outputs": [],
   "source": [
    "import sqlite3\n",
    "import numpy as np\n",
    "import pandas as pd\n",
    "\n",
    "# connect to flights database\n",
    "con = sqlite3.connect('data/flights.db')"
   ]
  },
  {
   "cell_type": "markdown",
   "id": "58eab858",
   "metadata": {
    "slideshow": {
     "slide_type": "slide"
    }
   },
   "source": [
    "Recall the various tables in flight database:"
   ]
  },
  {
   "cell_type": "code",
   "execution_count": null,
   "id": "8c234195",
   "metadata": {
    "slideshow": {
     "slide_type": "fragment"
    }
   },
   "outputs": [],
   "source": [
    "%%bash \n",
    "\n",
    "sqlite3 data/flights.db\n",
    ".tables"
   ]
  },
  {
   "cell_type": "code",
   "execution_count": null,
   "id": "69bbaf54",
   "metadata": {
    "slideshow": {
     "slide_type": "slide"
    }
   },
   "outputs": [],
   "source": [
    "pd.read_sql(\"\"\"\n",
    "\n",
    "SELECT * \n",
    "FROM airports\n",
    "LIMIT 2\n",
    "\n",
    "\"\"\", con)"
   ]
  },
  {
   "cell_type": "markdown",
   "id": "9b8e5446",
   "metadata": {
    "slideshow": {
     "slide_type": "slide"
    }
   },
   "source": [
    "#### Problem\n",
    "\n",
    "Get the average altitude of the highest altitude airports in the United States, Russia, and China.\n",
    "\n",
    "Useful to break this into steps with a subquery."
   ]
  },
  {
   "cell_type": "markdown",
   "id": "1812da97",
   "metadata": {
    "slideshow": {
     "slide_type": "slide"
    }
   },
   "source": [
    "- Select airport name, city, and altitude for the highest airport in each country\n",
    "- Then filter this on the country.\n",
    "- Then get the average of the altitudes of the resultant airports.\n",
    "\n",
    "Step by step."
   ]
  },
  {
   "cell_type": "code",
   "execution_count": null,
   "id": "31fa729f",
   "metadata": {
    "cell_style": "center",
    "scrolled": true,
    "slideshow": {
     "slide_type": "fragment"
    }
   },
   "outputs": [],
   "source": [
    "pd.read_sql(\"\"\"\n",
    "\n",
    "SELECT name, \n",
    "     city,\n",
    "     country,\n",
    "     MAX(CAST(altitude as float)) AS max_altitude\n",
    "     \n",
    "     FROM airports\n",
    "\n",
    "     GROUP BY country\n",
    "\n",
    "\n",
    "\"\"\", con)"
   ]
  },
  {
   "cell_type": "markdown",
   "id": "7df765f0",
   "metadata": {
    "slideshow": {
     "slide_type": "slide"
    }
   },
   "source": [
    "This is a table produced by the query. We now want to filter this table on country.\n",
    "\n",
    "- Can select FROM results of above table and filter WHERE conditon is true.\n",
    "- Subquery creates intermediate table for us."
   ]
  },
  {
   "cell_type": "code",
   "execution_count": null,
   "id": "61cfd37e",
   "metadata": {
    "cell_style": "center",
    "slideshow": {
     "slide_type": "fragment"
    }
   },
   "outputs": [],
   "source": [
    "\n",
    "pd.read_sql(\"\"\"\n",
    "\n",
    "SELECT *\n",
    "    \n",
    "FROM \n",
    "\n",
    "(SELECT name, \n",
    "     city,\n",
    "     country,\n",
    "     MAX(CAST(altitude as float)) AS max_altitude\n",
    "     \n",
    "     FROM airports\n",
    "     \n",
    "     GROUP BY country\n",
    "     \n",
    "     ) AS high_alt_airp\n",
    "     \n",
    " WHERE high_alt_airp.country IN (\"United States\", \"Russia\", \"China\")\n",
    "\n",
    "\n",
    "\n",
    "\"\"\", con)"
   ]
  },
  {
   "cell_type": "markdown",
   "id": "70a71f90",
   "metadata": {
    "slideshow": {
     "slide_type": "slide"
    }
   },
   "source": [
    "Now I select the mean altitude across the three countries."
   ]
  },
  {
   "cell_type": "code",
   "execution_count": null,
   "id": "e9495d61",
   "metadata": {
    "slideshow": {
     "slide_type": "fragment"
    }
   },
   "outputs": [],
   "source": [
    "# Average altitude of the highest airports in Russia, United States, and China\n",
    "\n",
    "pd.read_sql(\"\"\"\n",
    "\n",
    "SELECT AVG(high_alt_airp.max_altitude) AS max_altitude_avg\n",
    "    \n",
    "FROM \n",
    "\n",
    "(SELECT name, \n",
    "     city,\n",
    "     country,\n",
    "     MAX(CAST(altitude as float)) AS max_altitude\n",
    "     \n",
    "     FROM airports\n",
    "     \n",
    "     GROUP BY country\n",
    "     \n",
    "     ) AS high_alt_airp\n",
    "     \n",
    " WHERE high_alt_airp.country IN (\"United States\", \"Russia\", \"China\")\n",
    "\n",
    "\n",
    "\n",
    "\"\"\", con)"
   ]
  },
  {
   "cell_type": "markdown",
   "id": "ef710fe4",
   "metadata": {
    "slideshow": {
     "slide_type": "slide"
    }
   },
   "source": [
    "One can create, in principle, a new table of derived columns and do selections and filtering on that new table.\n",
    "\n",
    "Let's take a look at our routes table again."
   ]
  },
  {
   "cell_type": "code",
   "execution_count": null,
   "id": "b5757b74",
   "metadata": {
    "slideshow": {
     "slide_type": "fragment"
    }
   },
   "outputs": [],
   "source": [
    "pd.read_sql(\"\"\"\n",
    "\n",
    "SELECT * \n",
    "     FROM routes\n",
    "     LIMIT 5\n",
    "\n",
    "\n",
    "\"\"\", con)"
   ]
  },
  {
   "cell_type": "markdown",
   "id": "1f5cf633",
   "metadata": {
    "slideshow": {
     "slide_type": "slide"
    }
   },
   "source": [
    "#### Using derived tables in joins\n",
    "\n",
    "- create set of tables from subqueries\n",
    "- use these to create a new table with derived columns from subqueries. \n",
    "\n",
    "Let's take an example of this."
   ]
  },
  {
   "cell_type": "markdown",
   "id": "3a2901cc",
   "metadata": {
    "slideshow": {
     "slide_type": "slide"
    }
   },
   "source": [
    "For each airport I want:\n",
    "- the count of routes that leaves from there.\n",
    "- the count of routes that arrive there.\n",
    "\n",
    "Many ways to do this. But we'll make full use of subqueries and joins here."
   ]
  },
  {
   "cell_type": "code",
   "execution_count": null,
   "id": "a3118ec5",
   "metadata": {
    "cell_style": "split",
    "slideshow": {
     "slide_type": "slide"
    }
   },
   "outputs": [],
   "source": [
    "departure_table = pd.read_sql(\"\"\"\n",
    "\n",
    "SELECT source, COUNT(*) as departure_count\n",
    "     FROM routes\n",
    "     \n",
    "     GROUP BY source\n",
    "     \n",
    "\"\"\", con)"
   ]
  },
  {
   "cell_type": "code",
   "execution_count": null,
   "id": "f65396d3",
   "metadata": {
    "cell_style": "split",
    "slideshow": {
     "slide_type": "fragment"
    }
   },
   "outputs": [],
   "source": [
    "departure_table"
   ]
  },
  {
   "cell_type": "code",
   "execution_count": null,
   "id": "b9573f20",
   "metadata": {
    "cell_style": "split",
    "slideshow": {
     "slide_type": "slide"
    }
   },
   "outputs": [],
   "source": [
    "arrival_table = pd.read_sql(\"\"\"\n",
    "\n",
    "SELECT dest, COUNT(dest) as arrival_count\n",
    "     FROM routes\n",
    "     \n",
    "     GROUP BY dest\n",
    "     \n",
    "\"\"\", con)"
   ]
  },
  {
   "cell_type": "code",
   "execution_count": null,
   "id": "97ea49b8",
   "metadata": {
    "cell_style": "split",
    "slideshow": {
     "slide_type": "fragment"
    }
   },
   "outputs": [],
   "source": [
    "arrival_table"
   ]
  },
  {
   "cell_type": "markdown",
   "id": "42cde3fc",
   "metadata": {
    "slideshow": {
     "slide_type": "slide"
    }
   },
   "source": [
    "We can link these the arrival tables and destination tables together:\n",
    "- Keep records where source and destination are in both tables.\n",
    "- What operation?"
   ]
  },
  {
   "cell_type": "markdown",
   "id": "63ba73d9",
   "metadata": {
    "slideshow": {
     "slide_type": "fragment"
    }
   },
   "source": [
    "INNER JOIN ON SUBQUERY RESULTS!"
   ]
  },
  {
   "cell_type": "code",
   "execution_count": null,
   "id": "e0cb27c8",
   "metadata": {
    "slideshow": {
     "slide_type": "slide"
    }
   },
   "outputs": [],
   "source": [
    "\n",
    "pd.read_sql(\"\"\"\n",
    "\n",
    "SELECT dep.source AS airport_code,\n",
    "        dep.departure_count,\n",
    "        arriv.arrival_count \n",
    "        \n",
    "FROM\n",
    "\n",
    "(SELECT source, COUNT(source) as departure_count\n",
    "     FROM routes\n",
    "     \n",
    "     GROUP BY source) AS dep\n",
    "\n",
    "INNER JOIN \n",
    "\n",
    "(SELECT dest, COUNT(dest) as arrival_count\n",
    "     FROM routes\n",
    "     \n",
    "     GROUP BY dest) AS arriv\n",
    "\n",
    "ON dep.source = arriv.dest\n",
    "     \n",
    "\"\"\", con)"
   ]
  },
  {
   "cell_type": "markdown",
   "id": "88d845a2",
   "metadata": {
    "slideshow": {
     "slide_type": "slide"
    }
   },
   "source": [
    "This result is a derived table telling us information for each airport and keeping relevant records.\n",
    "\n",
    "- We can filter or aggregate on this derived table as we see fit.\n",
    "\n",
    "\n",
    "- Get all airports with significance difference in:\n",
    "    - number of routes originating and terminating at given airport.\n",
    "    - dfference in departure and arrival route counts greater than 5.\n",
    "- Order in descending order of this difference.\n",
    "\n",
    "Help me out!\n"
   ]
  },
  {
   "cell_type": "code",
   "execution_count": null,
   "id": "712dc60f",
   "metadata": {
    "slideshow": {
     "slide_type": "fragment"
    }
   },
   "outputs": [],
   "source": [
    "\n",
    "pd.read_sql(\"\"\"\n",
    "\n",
    "SELECT dep.source AS airport_code,\n",
    "        dep.departure_count,\n",
    "        arriv.arrival_count\n",
    "        \n",
    "        \n",
    "FROM\n",
    "\n",
    "(SELECT source, COUNT(source) as departure_count\n",
    "     FROM routes\n",
    "     \n",
    "     GROUP BY source) AS dep\n",
    "\n",
    "INNER JOIN \n",
    "\n",
    "(SELECT dest, COUNT(dest) as arrival_count\n",
    "     FROM routes\n",
    "     \n",
    "     GROUP BY dest) AS arriv\n",
    "\n",
    "ON dep.source = arriv.dest\n",
    "\n",
    "     \n",
    "\"\"\", con)"
   ]
  },
  {
   "cell_type": "code",
   "execution_count": null,
   "id": "e5b4635f",
   "metadata": {},
   "outputs": [],
   "source": [
    "\n"
   ]
  },
  {
   "cell_type": "markdown",
   "id": "872fc732",
   "metadata": {
    "slideshow": {
     "slide_type": "fragment"
    }
   },
   "source": [
    "<details>\n",
    "    <summary><b><u>Click Here for Answer Code</u></b></summary>\n",
    "\n",
    "```python \n",
    "\n",
    "\n",
    "pd.read_sql(\"\"\"\n",
    "\n",
    "SELECT dep.source AS airport_code,\n",
    "        dep.departure_count,\n",
    "        arriv.arrival_count, \n",
    "        ABS(dep.departure_count - arrival_count) AS count_diff\n",
    "        \n",
    "FROM\n",
    "\n",
    "(SELECT source, COUNT(source) as departure_count\n",
    "     FROM routes\n",
    "     \n",
    "     GROUP BY source) AS dep\n",
    "\n",
    "INNER JOIN \n",
    "\n",
    "(SELECT dest, COUNT(dest) as arrival_count\n",
    "     FROM routes\n",
    "     \n",
    "     GROUP BY dest) AS arriv\n",
    "\n",
    "ON dep.source = arriv.dest\n",
    "\n",
    "WHERE count_diff > 5\n",
    "ORDER BY count_diff DESC\n",
    "     \n",
    "\"\"\", con)\n",
    "```\n",
    "</details>"
   ]
  },
  {
   "cell_type": "markdown",
   "id": "e819edd8",
   "metadata": {
    "slideshow": {
     "slide_type": "slide"
    }
   },
   "source": [
    "**Exercise**\n",
    "\n",
    "Get me the name, city, country and airport code of airports for countries with more than 10 active airlines companies\n",
    "\n",
    "Hints:\n",
    "- DISTINCT(name) will be useful.\n",
    "- A join might be useful. Aliasing tables will be important here as well.\n",
    "- Think of groupbys and aggregations and filtering on them."
   ]
  },
  {
   "cell_type": "code",
   "execution_count": null,
   "id": "21df1448",
   "metadata": {
    "cell_style": "split",
    "slideshow": {
     "slide_type": "fragment"
    }
   },
   "outputs": [],
   "source": [
    "%%bash \n",
    "\n",
    "sqlite3 data/flights.db\n",
    ".schema airlines"
   ]
  },
  {
   "cell_type": "code",
   "execution_count": null,
   "id": "fff41889",
   "metadata": {
    "cell_style": "split",
    "slideshow": {
     "slide_type": "fragment"
    }
   },
   "outputs": [],
   "source": [
    "%%bash \n",
    "\n",
    "sqlite3 data/flights.db\n",
    ".schema airports"
   ]
  },
  {
   "cell_type": "code",
   "execution_count": null,
   "id": "cae8e9a7",
   "metadata": {
    "cell_style": "split",
    "slideshow": {
     "slide_type": "fragment"
    }
   },
   "outputs": [],
   "source": []
  },
  {
   "cell_type": "code",
   "execution_count": null,
   "id": "1b9fedba",
   "metadata": {
    "cell_style": "split"
   },
   "outputs": [],
   "source": []
  },
  {
   "cell_type": "markdown",
   "id": "9e65bcd9",
   "metadata": {
    "slideshow": {
     "slide_type": "fragment"
    }
   },
   "source": [
    "<details>\n",
    "    <summary><b><u>Click Here for Answer Code</u></b></summary>\n",
    "\n",
    "```python \n",
    "pd.read_sql(\"\"\"\n",
    "SELECT ar.name, ar.code, ar.city, ar.country, ct\n",
    "FROM \n",
    "( SELECT country, COUNT(DISTINCT name) AS ct\n",
    "FROM airlines \n",
    "WHERE active = 'Y'\n",
    "GROUP BY country\n",
    "HAVING ct > 10 ) as inter INNER JOIN airports as ar\n",
    "ON inter.country = ar.country\n",
    "\n",
    "\"\"\", con)\n",
    "\n",
    "    \n",
    "#alternate answer\n",
    "pd.read_sql(\"\"\"\n",
    "SELECT name, city, country, code\n",
    "FROM airports \n",
    "WHERE country IN (SELECT country\n",
    "FROM airlines\n",
    "WHERE active = 'Y'\n",
    "GROUP BY country\n",
    "HAVING COUNT(active) > 10)\n",
    "\"\"\", con)    \n",
    "    \n",
    "```\n",
    "</details>"
   ]
  },
  {
   "cell_type": "markdown",
   "id": "a25b585b",
   "metadata": {
    "slideshow": {
     "slide_type": "slide"
    }
   },
   "source": [
    "- Complex as subqueries pile on. \n",
    "- There are ways to organize subqueries: common table expressions\n",
    "- Will make code readable.\n",
    "\n",
    "But first: other ways subqueries can be used."
   ]
  },
  {
   "cell_type": "markdown",
   "id": "d5f5f8f0",
   "metadata": {
    "slideshow": {
     "slide_type": "slide"
    }
   },
   "source": [
    "#### Subqueries in the WHERE statement\n",
    "\n",
    "- Can use the result of a subquery to filter another selection.\n",
    "\n",
    "I want all route records where the departure airport has a departure route count greater than 200."
   ]
  },
  {
   "cell_type": "code",
   "execution_count": null,
   "id": "c3c60609",
   "metadata": {
    "slideshow": {
     "slide_type": "slide"
    }
   },
   "outputs": [],
   "source": [
    "#subquery\n",
    "pd.read_sql('''\n",
    "\n",
    "\n",
    "SELECT source, COUNT(source)\n",
    "     FROM routes\n",
    "     GROUP BY source\n",
    "     HAVING COUNT(source) > 200\n",
    "''', con)"
   ]
  },
  {
   "cell_type": "code",
   "execution_count": null,
   "id": "ae7b008a",
   "metadata": {
    "slideshow": {
     "slide_type": "fragment"
    }
   },
   "outputs": [],
   "source": [
    "pd.read_sql('''\n",
    "\n",
    "\n",
    "SELECT *\n",
    "            \n",
    "FROM routes\n",
    "\n",
    "WHERE source IN (SELECT source \n",
    "     FROM routes\n",
    "     GROUP BY source\n",
    "     HAVING COUNT(source) > 200) \n",
    "''', con)"
   ]
  },
  {
   "cell_type": "markdown",
   "id": "7d0f125e",
   "metadata": {
    "slideshow": {
     "slide_type": "slide"
    }
   },
   "source": [
    "#### The Semijoin\n",
    "\n",
    "- Using a subquery from one table to filter another table.\n",
    "\n",
    "Example:\n",
    "\n",
    "Get the airport name, code, country, and altitude for airports with more than 200 routes originating from that airport."
   ]
  },
  {
   "cell_type": "code",
   "execution_count": null,
   "id": "7f2e7333",
   "metadata": {
    "slideshow": {
     "slide_type": "fragment"
    }
   },
   "outputs": [],
   "source": [
    "pd.read_sql('''\n",
    "\n",
    "SELECT *\n",
    "FROM airports\n",
    "\n",
    "WHERE code IN (\n",
    "SELECT source \n",
    "     FROM routes\n",
    "     GROUP BY source\n",
    "     HAVING COUNT(source) > 200 \n",
    ")\n",
    "''', con)"
   ]
  },
  {
   "cell_type": "markdown",
   "id": "759877c7",
   "metadata": {
    "slideshow": {
     "slide_type": "slide"
    }
   },
   "source": [
    "**Exercise**\n",
    "\n",
    "Get me routes (all columns) whose destination airport is in the America/New York time zone."
   ]
  },
  {
   "cell_type": "code",
   "execution_count": null,
   "id": "20a7a3a8",
   "metadata": {
    "cell_style": "split"
   },
   "outputs": [],
   "source": [
    "%%bash\n",
    "\n",
    "sqlite3 data/flights.db\n",
    ".schema airports"
   ]
  },
  {
   "cell_type": "code",
   "execution_count": null,
   "id": "74534e49",
   "metadata": {
    "cell_style": "split"
   },
   "outputs": [],
   "source": [
    "%%bash\n",
    "\n",
    "sqlite3 data/flights.db\n",
    ".schema airlines"
   ]
  },
  {
   "cell_type": "code",
   "execution_count": null,
   "id": "f9c0782e",
   "metadata": {},
   "outputs": [],
   "source": [
    "pd.read_sql('''\n",
    "SELECT *\n",
    "FROM routes\n",
    "WHERE dest IN\n",
    "(SELECT code \n",
    "FROM airports \n",
    "WHERE timezone = 'America/New_York')\n",
    "\n",
    "''', con)"
   ]
  },
  {
   "cell_type": "markdown",
   "id": "4aa32b7c",
   "metadata": {},
   "source": [
    "<details>\n",
    "    <summary><b><u>Click Here for Answer Code</u></b></summary>\n",
    "\n",
    "```python \n",
    "pd.read_sql('''\n",
    "SELECT *\n",
    "FROM routes\n",
    "WHERE dest IN\n",
    "(SELECT code \n",
    "FROM airports \n",
    "WHERE timezone = 'America/New_York')\n",
    "\n",
    "''', con)\n",
    "```\n",
    "</details>"
   ]
  },
  {
   "cell_type": "markdown",
   "id": "ad15717b",
   "metadata": {
    "slideshow": {
     "slide_type": "slide"
    }
   },
   "source": [
    "#### The antijoin\n",
    "\n",
    "Just the negation of the semijoin:"
   ]
  },
  {
   "cell_type": "code",
   "execution_count": null,
   "id": "2d01e230",
   "metadata": {
    "slideshow": {
     "slide_type": "fragment"
    }
   },
   "outputs": [],
   "source": [
    "\n",
    "pd.read_sql('''\n",
    "SELECT *\n",
    "FROM airports\n",
    "\n",
    "WHERE NOT code IN (\n",
    "SELECT source \n",
    "     FROM routes\n",
    "     GROUP BY source\n",
    "     HAVING COUNT(source) > 200 \n",
    ")\n",
    "''', con)"
   ]
  },
  {
   "cell_type": "markdown",
   "id": "b5baae57",
   "metadata": {
    "slideshow": {
     "slide_type": "slide"
    }
   },
   "source": [
    "#### Subqueries in the SELECT statement\n",
    "\n",
    "Get altitude of airport side by side with average airport altitude in the respective country."
   ]
  },
  {
   "cell_type": "code",
   "execution_count": null,
   "id": "fe75ebec",
   "metadata": {
    "cell_style": "split",
    "slideshow": {
     "slide_type": "fragment"
    }
   },
   "outputs": [],
   "source": [
    "%%capture se\n",
    "pd.read_sql('''\n",
    "SELECT a1.country,\n",
    "name, \n",
    "CAST(altitude as int) AS altitude ,\n",
    "\n",
    "(SELECT AVG(CAST(altitude as int))\n",
    "FROM airports AS a2\n",
    "WHERE a2.country == a1.country\n",
    ") AS avg_alt\n",
    "\n",
    "FROM airports AS a1\n",
    "\n",
    "\n",
    "''', con)"
   ]
  },
  {
   "cell_type": "markdown",
   "id": "2775e216",
   "metadata": {
    "cell_style": "split",
    "slideshow": {
     "slide_type": "fragment"
    }
   },
   "source": [
    "Sometimes known as a **correlated subquery**.\n",
    "\n",
    "- Inner select statement filters a2 by country matching a given row's country in a1. Takes average altitude.\n",
    "\n",
    "- Does this for each row in a1. The filtering of a2 by country *correlated* with current row in a1.\n",
    "\n",
    "\n",
    "**Correlated subqueries can be a bit slow**\n"
   ]
  },
  {
   "cell_type": "code",
   "execution_count": null,
   "id": "f794de4e",
   "metadata": {},
   "outputs": [],
   "source": [
    "se()"
   ]
  },
  {
   "cell_type": "markdown",
   "id": "617c47cc",
   "metadata": {
    "cell_style": "center",
    "slideshow": {
     "slide_type": "slide"
    }
   },
   "source": [
    "#### Common Table Expressions (CTEs)\n",
    "\n",
    "Useful for when:\n",
    "\n",
    "- Multiple subqueries floating around.\n",
    "- Reusing same subqueries over and over again in same statement.\n",
    "\n",
    "Cleans code up, reduces error, makes readable."
   ]
  },
  {
   "cell_type": "markdown",
   "id": "44cac3d1",
   "metadata": {
    "cell_style": "center",
    "slideshow": {
     "slide_type": "fragment"
    }
   },
   "source": [
    "CTE syntax:\n",
    "\n",
    "WITH subquery1_name AS (subquery1 statement),\n",
    "<br>\n",
    "WITH subquery2_name AS (subquery2 statement), \n",
    "<br>\n",
    "...., \n",
    "<br>\n",
    "WITH subquery_n_name AS (subquery_n statement)\n",
    "<br>\n",
    "<br>\n",
    "MAIN QUERY"
   ]
  },
  {
   "cell_type": "code",
   "execution_count": null,
   "id": "e1c09dc7",
   "metadata": {
    "cell_style": "split",
    "slideshow": {
     "slide_type": "slide"
    }
   },
   "outputs": [],
   "source": [
    "\n",
    "pd.read_sql(\"\"\"\n",
    "\n",
    "SELECT dep.source AS airport_code,\n",
    "        dep.departure_count,\n",
    "        arriv.arrival_count \n",
    "        \n",
    "FROM\n",
    "\n",
    "(SELECT source, COUNT(source) as departure_count\n",
    "     FROM routes\n",
    "     \n",
    "     GROUP BY source) AS dep\n",
    "\n",
    "INNER JOIN \n",
    "\n",
    "(SELECT dest, COUNT(dest) as arrival_count\n",
    "     FROM routes\n",
    "     \n",
    "     GROUP BY dest) AS arriv\n",
    "\n",
    "ON dep.source = arriv.dest\n",
    "     \n",
    "\"\"\", con)"
   ]
  },
  {
   "cell_type": "code",
   "execution_count": null,
   "id": "fcf1c075",
   "metadata": {
    "cell_style": "split",
    "slideshow": {
     "slide_type": "slide"
    }
   },
   "outputs": [],
   "source": [
    "\n",
    "pd.read_sql(\"\"\"\n",
    "\n",
    "WITH s1 AS (\n",
    "     SELECT source, COUNT(source) as departure_count\n",
    "     FROM routes\n",
    "     GROUP BY source),\n",
    "     \n",
    "     s2 AS ( \n",
    "     SELECT dest, COUNT(dest) as arrival_count\n",
    "     FROM routes\n",
    "     GROUP BY dest\n",
    "     )\n",
    "\n",
    "\n",
    "SELECT source, departure_count, arrival_count\n",
    "FROM\n",
    "s1 INNER JOIN s2\n",
    "ON s1.source = s2.dest\n",
    "\n",
    "     \n",
    "\"\"\", con)"
   ]
  },
  {
   "cell_type": "markdown",
   "id": "cba66f63",
   "metadata": {
    "slideshow": {
     "slide_type": "slide"
    }
   },
   "source": [
    "CTEs make the primary query easy to read.\n",
    "\n",
    "- Subqueries can just be referenced by looking it up in the CTE."
   ]
  },
  {
   "cell_type": "code",
   "execution_count": null,
   "id": "d0ef224b",
   "metadata": {},
   "outputs": [],
   "source": []
  }
 ],
 "metadata": {
  "celltoolbar": "Slideshow",
  "kernelspec": {
   "display_name": "dplearn",
   "language": "python",
   "name": "dplearn"
  },
  "language_info": {
   "codemirror_mode": {
    "name": "ipython",
    "version": 3
   },
   "file_extension": ".py",
   "mimetype": "text/x-python",
   "name": "python",
   "nbconvert_exporter": "python",
   "pygments_lexer": "ipython3",
   "version": "3.10.10"
  }
 },
 "nbformat": 4,
 "nbformat_minor": 5
}
