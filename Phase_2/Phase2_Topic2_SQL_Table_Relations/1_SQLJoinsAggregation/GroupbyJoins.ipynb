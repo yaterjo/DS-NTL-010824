{
 "cells": [
  {
   "cell_type": "markdown",
   "id": "b1b58d2e",
   "metadata": {
    "cell_style": "center",
    "slideshow": {
     "slide_type": "slide"
    }
   },
   "source": [
    "<div style=\"color:white;\n",
    "           display:fill;\n",
    "           border-radius:5px;\n",
    "           background-color:#5642C5;\n",
    "           font-size:200%;\n",
    "           font-family:Arial;letter-spacing:0.5px\">\n",
    "\n",
    "<p width = 20%, style=\"padding: 10px;\n",
    "              color:white;\">\n",
    "SQL: Groupby and Joins\n",
    "              \n",
    "</p>\n",
    "</div>\n",
    "\n",
    "DS-NTL-010824\n",
    "<p>Phase 2</p>\n",
    "<br>\n",
    "<br>\n",
    "\n",
    "<div align = \"right\">\n",
    "<img src=\"Images/flatiron-school-logo.png\" align = \"right\" width=\"200\"/>\n",
    "</div>\n",
    "    \n",
    "   "
   ]
  },
  {
   "cell_type": "code",
   "execution_count": null,
   "id": "5d5a3223",
   "metadata": {
    "slideshow": {
     "slide_type": "slide"
    }
   },
   "outputs": [],
   "source": [
    "import pandas as pd\n",
    "import sqlite3\n",
    "import pandas as pd\n",
    "conn = sqlite3.connect(\"data/flights.db\")\n"
   ]
  },
  {
   "cell_type": "markdown",
   "id": "efe0b54e",
   "metadata": {
    "slideshow": {
     "slide_type": "slide"
    }
   },
   "source": [
    "We've seen aggregations last lecture:"
   ]
  },
  {
   "cell_type": "code",
   "execution_count": null,
   "id": "58c79121",
   "metadata": {
    "slideshow": {
     "slide_type": "fragment"
    }
   },
   "outputs": [],
   "source": [
    "# Max value for longitude\n",
    "pd.read_sql('''\n",
    "    SELECT \n",
    "        --Note we have to cast to a numerical value first\n",
    "        MAX(CAST(longitude AS REAL))\n",
    "        \n",
    "    FROM \n",
    "        airports\n",
    "''', conn)"
   ]
  },
  {
   "cell_type": "code",
   "execution_count": null,
   "id": "eb1c9c27",
   "metadata": {
    "slideshow": {
     "slide_type": "slide"
    }
   },
   "outputs": [],
   "source": [
    "%%bash\n",
    "\n",
    "sqlite3 data/flights.db\n",
    ".schema airlines"
   ]
  },
  {
   "cell_type": "code",
   "execution_count": null,
   "id": "82bdec93",
   "metadata": {
    "slideshow": {
     "slide_type": "slide"
    }
   },
   "outputs": [],
   "source": [
    "# Effectively counts all the active airlines \n",
    "pd.read_sql('''\n",
    "    SELECT \n",
    "        COUNT(*) AS number_of_active_airlines\n",
    "    FROM \n",
    "        airlines\n",
    "    WHERE \n",
    "        active='Y'\n",
    "''', conn)"
   ]
  },
  {
   "cell_type": "markdown",
   "id": "93a5c3e6",
   "metadata": {
    "slideshow": {
     "slide_type": "slide"
    }
   },
   "source": [
    "This is OK, but want to:\n",
    "- often compute aggregations across different groups "
   ]
  },
  {
   "cell_type": "markdown",
   "id": "3875d1db",
   "metadata": {
    "cell_style": "split",
    "slideshow": {
     "slide_type": "fragment"
    }
   },
   "source": [
    "#### Grouping in SQL\n",
    "\n",
    "- Group by values of a categorical column\n",
    "- Apply aggregation/transformation to groups\n",
    "\n",
    "GROUP BY statement -- typically used with aggregation!\n",
    "\n"
   ]
  },
  {
   "cell_type": "markdown",
   "id": "161739be",
   "metadata": {
    "cell_style": "split",
    "slideshow": {
     "slide_type": "fragment"
    }
   },
   "source": [
    "SELECT colwithgroups,<br>\n",
    "       agg_function(another_col)<br>\n",
    "FROM table<br>\n",
    "GROUP BY colwithgroups<br>"
   ]
  },
  {
   "cell_type": "code",
   "execution_count": null,
   "id": "ae456453",
   "metadata": {
    "slideshow": {
     "slide_type": "slide"
    }
   },
   "outputs": [],
   "source": [
    "df_results = pd.read_sql('''\n",
    "    SELECT *\n",
    "    FROM \n",
    "        airlines\n",
    "        LIMIT 5\n",
    "''', conn)\n",
    "df_results"
   ]
  },
  {
   "cell_type": "code",
   "execution_count": null,
   "id": "fc97b9d8",
   "metadata": {
    "slideshow": {
     "slide_type": "slide"
    }
   },
   "outputs": [],
   "source": [
    "df_results = pd.read_sql('''\n",
    "    SELECT \n",
    "        active, COUNT(*) AS number_of_airlines\n",
    "    FROM \n",
    "        airlines\n",
    "    GROUP BY\n",
    "        active\n",
    "\n",
    "\n",
    "''', conn)\n",
    "\n",
    "df_results"
   ]
  },
  {
   "cell_type": "markdown",
   "id": "cb026a9f",
   "metadata": {
    "slideshow": {
     "slide_type": "slide"
    }
   },
   "source": [
    "Let's see another example, finding the airport with the highest altitude in each country:"
   ]
  },
  {
   "cell_type": "code",
   "execution_count": null,
   "id": "a0351695",
   "metadata": {
    "slideshow": {
     "slide_type": "fragment"
    }
   },
   "outputs": [],
   "source": [
    "df_results = pd.read_sql('''\n",
    "    SELECT \n",
    "        country,\n",
    "        name as airport_name, MAX(CAST(altitude AS int)) AS altitude\n",
    "    FROM \n",
    "        airports\n",
    "    GROUP BY\n",
    "        country\n",
    "''', conn)\n",
    "\n",
    "df_results"
   ]
  },
  {
   "cell_type": "markdown",
   "id": "cb9561a6",
   "metadata": {
    "slideshow": {
     "slide_type": "slide"
    }
   },
   "source": [
    "Let's look at the head of the airlines table:"
   ]
  },
  {
   "cell_type": "code",
   "execution_count": null,
   "id": "258e2411",
   "metadata": {
    "slideshow": {
     "slide_type": "fragment"
    }
   },
   "outputs": [],
   "source": [
    "df_results = pd.read_sql('''\n",
    "    SELECT *\n",
    "    FROM \n",
    "        airlines \n",
    "    LIMIT 3\n",
    "\n",
    "''', conn)\n",
    "\n",
    "df_results"
   ]
  },
  {
   "cell_type": "markdown",
   "id": "771c6a0d",
   "metadata": {
    "slideshow": {
     "slide_type": "slide"
    }
   },
   "source": [
    " #### Excercise \n",
    "Count the number of active flights grouped by country. Order the active flights from highest to lowest. "
   ]
  },
  {
   "cell_type": "code",
   "execution_count": null,
   "id": "f42b0dc9",
   "metadata": {
    "slideshow": {
     "slide_type": "fragment"
    }
   },
   "outputs": [],
   "source": []
  },
  {
   "cell_type": "markdown",
   "id": "e75da696",
   "metadata": {
    "slideshow": {
     "slide_type": "fragment"
    }
   },
   "source": [
    "<details>\n",
    "    <summary><b><u>Possible Solution</u></b></summary>\n",
    "\n",
    "```python \n",
    "df_results = pd.read_sql('''\n",
    "    SELECT country, COUNT(active) Active_Flights\n",
    "    FROM\n",
    "        airlines\n",
    "    WHERE active = 'Y'\n",
    "    GROUP BY country\n",
    "    ORDER BY Active_Flights DESC\n",
    "\n",
    "''', conn)\n",
    "df_results\n",
    "\n",
    "```\n",
    "</details>"
   ]
  },
  {
   "cell_type": "markdown",
   "id": "27cdd32e",
   "metadata": {
    "cell_style": "center",
    "slideshow": {
     "slide_type": "slide"
    }
   },
   "source": [
    "#### Filtering Groups with HAVING\n",
    "\n",
    "- Can filter columns/tables with WHERE\n",
    "- WHERE doesn't work when filtering aggregations on groupby\n",
    "- `HAVING` will do the trick. "
   ]
  },
  {
   "cell_type": "markdown",
   "id": "c0210586",
   "metadata": {
    "slideshow": {
     "slide_type": "slide"
    }
   },
   "source": [
    "Let's only return countries with active airlines having a count greater than 30:"
   ]
  },
  {
   "cell_type": "code",
   "execution_count": null,
   "id": "84542d07",
   "metadata": {
    "cell_style": "center",
    "slideshow": {
     "slide_type": "fragment"
    }
   },
   "outputs": [],
   "source": [
    "pd.read_sql('''\n",
    "    SELECT \n",
    "        country,\n",
    "        COUNT() AS num\n",
    "    FROM \n",
    "        airlines\n",
    "    WHERE \n",
    "        active='Y'\n",
    "    GROUP BY \n",
    "        country\n",
    "    HAVING\n",
    "        num > 30\n",
    "    ORDER BY \n",
    "        num DESC\n",
    "''', conn)"
   ]
  },
  {
   "cell_type": "markdown",
   "id": "21ce3a7a",
   "metadata": {
    "slideshow": {
     "slide_type": "slide"
    }
   },
   "source": [
    "- Can use multiple aggregation functions in groupby.\n",
    "- Filter on one of the aggregations."
   ]
  },
  {
   "cell_type": "markdown",
   "id": "5b5371c3",
   "metadata": {
    "cell_style": "center",
    "slideshow": {
     "slide_type": "slide"
    }
   },
   "source": [
    "##### Exercise \n",
    "\n",
    "Get the altitude of the highest airport in a country given that it has at least 100 airports."
   ]
  },
  {
   "cell_type": "code",
   "execution_count": null,
   "id": "a99c61d4",
   "metadata": {
    "slideshow": {
     "slide_type": "fragment"
    }
   },
   "outputs": [],
   "source": []
  },
  {
   "cell_type": "markdown",
   "id": "fea0850f",
   "metadata": {
    "slideshow": {
     "slide_type": "fragment"
    }
   },
   "source": [
    "<details>\n",
    "    <summary><b><u>Possible Solution</u></b></summary>\n",
    "\n",
    "```python \n",
    "pd.read_sql('''\n",
    "    SELECT \n",
    "        country,\n",
    "         COUNT(*) AS num_airports,\n",
    "        MAX(CAST(altitude as int)) as max_altitude\n",
    "       \n",
    "    FROM \n",
    "        airports\n",
    "    GROUP BY \n",
    "        country\n",
    "    HAVING\n",
    "        num_airports >= 100\n",
    "''', conn)\n",
    "\n",
    "```\n",
    "</details>"
   ]
  },
  {
   "cell_type": "markdown",
   "id": "900fc9d9",
   "metadata": {
    "slideshow": {
     "slide_type": "slide"
    }
   },
   "source": [
    "**Exercise**\n",
    "\n",
    "Get the number of airports of cities having more than one airport and the average airport altitude in the city.\n",
    "\n",
    "Use GROUP BY and HAVING clauses for this."
   ]
  },
  {
   "cell_type": "code",
   "execution_count": null,
   "id": "39b04665",
   "metadata": {
    "slideshow": {
     "slide_type": "fragment"
    }
   },
   "outputs": [],
   "source": []
  },
  {
   "cell_type": "markdown",
   "id": "9d17cef1",
   "metadata": {
    "slideshow": {
     "slide_type": "fragment"
    }
   },
   "source": [
    "<details>\n",
    "    <summary><b><u>Possible Solution</u></b></summary>\n",
    "\n",
    "```python \n",
    "pd.read_sql('''\n",
    "SELECT city, COUNT(*) AS num_airports, AVG(CAST(altitude as int)) as average_altitude\n",
    "\n",
    "FROM airports\n",
    "\n",
    "GROUP BY city\n",
    "\n",
    "HAVING num_airports > 1\n",
    "''', conn)\n",
    "\n",
    "```\n",
    "</details>"
   ]
  },
  {
   "cell_type": "markdown",
   "id": "a999b87d",
   "metadata": {
    "slideshow": {
     "slide_type": "slide"
    }
   },
   "source": [
    "#### Joins\n",
    "- Saw this in Pandas\n",
    "- Join information from two tables in a relational database together.\n",
    "- For the two tables: can relate via a common key (aka foreign key).\n",
    "\n",
    "SQL has many different kinds of joins. We only look at two:\n",
    "- INNER JOIN\n",
    "- LEFT JOIN "
   ]
  },
  {
   "cell_type": "markdown",
   "id": "65386d63",
   "metadata": {
    "slideshow": {
     "slide_type": "slide"
    }
   },
   "source": [
    "A little picture:\n",
    "\n",
    "<div>\n",
    "<center><img src=\"Images/venn.png\" align = \"center\" width=\"600\"/></center>\n",
    "</div>"
   ]
  },
  {
   "cell_type": "markdown",
   "id": "6ac883ce",
   "metadata": {
    "cell_style": "split",
    "slideshow": {
     "slide_type": "slide"
    }
   },
   "source": [
    "#### Inner joins\n",
    "\n",
    "- Join two tables together on a shared key. \n",
    "- Keep rows if the key is in both tables.\n",
    "\n"
   ]
  },
  {
   "cell_type": "markdown",
   "id": "4bcd0517",
   "metadata": {
    "cell_style": "split",
    "slideshow": {
     "slide_type": "fragment"
    }
   },
   "source": [
    "##### Syntax: Inner Join\n",
    "SELECT\n",
    "    table1.column_name, <br>\n",
    "    table2.different_column_name <br>\n",
    "FROM <br>\n",
    "    table1 <br>\n",
    "    INNER JOIN table2 <br>\n",
    "        ON table1.shared_column_name = table2.shared_column_name <br>"
   ]
  },
  {
   "cell_type": "markdown",
   "id": "8392bfd7",
   "metadata": {
    "slideshow": {
     "slide_type": "slide"
    }
   },
   "source": [
    "Let's check out the airports and airline table. "
   ]
  },
  {
   "cell_type": "code",
   "execution_count": null,
   "id": "f8b49793",
   "metadata": {
    "cell_style": "split",
    "slideshow": {
     "slide_type": "fragment"
    }
   },
   "outputs": [],
   "source": [
    "pd.read_sql('''\n",
    "    SELECT \n",
    "        *\n",
    "    FROM\n",
    "        routes\n",
    "    LIMIT 5\n",
    "\n",
    "\n",
    "''', conn)"
   ]
  },
  {
   "cell_type": "code",
   "execution_count": null,
   "id": "cac8182a",
   "metadata": {
    "cell_style": "split",
    "slideshow": {
     "slide_type": "fragment"
    }
   },
   "outputs": [],
   "source": [
    "pd.read_sql('''\n",
    "    SELECT \n",
    "        *\n",
    "    FROM\n",
    "        airlines\n",
    "\n",
    "''', conn)"
   ]
  },
  {
   "cell_type": "markdown",
   "id": "a6168d3b",
   "metadata": {
    "slideshow": {
     "slide_type": "slide"
    }
   },
   "source": [
    "The airline_id in the routes table and id column in airlines are common keys.\n",
    "\n",
    "Can join these two tables keeping rows with keys in both tables.\n",
    "\n",
    "- Note table aliasing"
   ]
  },
  {
   "cell_type": "markdown",
   "id": "5c94faf2",
   "metadata": {
    "slideshow": {
     "slide_type": "slide"
    }
   },
   "source": [
    "#### INNER JOIN"
   ]
  },
  {
   "cell_type": "code",
   "execution_count": null,
   "id": "a897130d",
   "metadata": {
    "slideshow": {
     "slide_type": "fragment"
    }
   },
   "outputs": [],
   "source": [
    "pd.read_sql('''\n",
    "    SELECT \n",
    "        al.name, al.callsign, rt.airline_id, rt.source, rt.dest\n",
    "    FROM\n",
    "        airlines AS al\n",
    "        INNER JOIN\n",
    "        routes AS rt\n",
    "        ON al.id = rt.airline_id\n",
    "        \n",
    "\n",
    "''', conn)"
   ]
  },
  {
   "cell_type": "markdown",
   "id": "2ac7e2c5",
   "metadata": {
    "slideshow": {
     "slide_type": "slide"
    }
   },
   "source": [
    "#### LEFT JOIN \n",
    "\n",
    "Can join two tables keeping rows with keys in left table only."
   ]
  },
  {
   "cell_type": "code",
   "execution_count": null,
   "id": "32abfe56",
   "metadata": {
    "slideshow": {
     "slide_type": "fragment"
    }
   },
   "outputs": [],
   "source": [
    "pd.read_sql('''\n",
    "    SELECT \n",
    "        *\n",
    "    FROM\n",
    "        airlines as al\n",
    "        \n",
    "    LEFT JOIN routes as rt\n",
    "            ON al.id = rt.airline_id\n",
    "''', conn)"
   ]
  },
  {
   "cell_type": "markdown",
   "id": "e9155cd3",
   "metadata": {
    "slideshow": {
     "slide_type": "slide"
    }
   },
   "source": [
    "Can do it the other way:"
   ]
  },
  {
   "cell_type": "code",
   "execution_count": null,
   "id": "598fa2d9",
   "metadata": {
    "slideshow": {
     "slide_type": "fragment"
    }
   },
   "outputs": [],
   "source": [
    "pd.read_sql('''\n",
    "    SELECT \n",
    "        *\n",
    "    FROM\n",
    "        routes as rt\n",
    "        \n",
    "    LEFT JOIN airlines as al\n",
    "            ON rt.airline_id = al.id \n",
    "''', conn)"
   ]
  },
  {
   "cell_type": "markdown",
   "id": "3e35debf",
   "metadata": {
    "slideshow": {
     "slide_type": "fragment"
    }
   },
   "source": [
    "A lot more unique entries on shared key in the airline table vs. the route table.\n",
    "\n",
    "We won't go through RIGHT JOIN and FULL JOIN here -- its actually fairly self explanatory what they do."
   ]
  },
  {
   "cell_type": "markdown",
   "id": "d97bf2d1",
   "metadata": {
    "slideshow": {
     "slide_type": "slide"
    }
   },
   "source": [
    "#### CROSS JOIN\n",
    "\n",
    "This can be pretty useful when you want to:\n",
    "- compare every row in one table with every other row in another table.\n",
    "- create all possible combinations of columns belonging in different tables.\n",
    "    "
   ]
  },
  {
   "cell_type": "markdown",
   "id": "b1b150a5",
   "metadata": {
    "slideshow": {
     "slide_type": "slide"
    }
   },
   "source": [
    "A little picture might help:\n",
    "\n",
    "<div>\n",
    "<center><img src=\"images/cross_join.png\" align = \"center\" width=\"600\"/></center>\n",
    "</div>"
   ]
  },
  {
   "cell_type": "code",
   "execution_count": null,
   "id": "06af1a3d",
   "metadata": {
    "slideshow": {
     "slide_type": "slide"
    }
   },
   "outputs": [],
   "source": [
    "pd.read_sql('''\n",
    "    SELECT rt.airline_id as rt_id,\n",
    "           rt.source as rt_source,\n",
    "           rt.dest as rt_dest,\n",
    "           al.id as al_id,\n",
    "           al.name as al_name\n",
    "           \n",
    "    FROM\n",
    "        routes as rt\n",
    "        CROSS JOIN airlines as al\n",
    "        \n",
    "    LIMIT 10\n",
    "''', conn)"
   ]
  },
  {
   "cell_type": "markdown",
   "id": "06fe659a",
   "metadata": {
    "slideshow": {
     "slide_type": "fragment"
    }
   },
   "source": [
    "Be careful: cross joins can take a long time!"
   ]
  },
  {
   "cell_type": "markdown",
   "id": "bfd883cf",
   "metadata": {
    "slideshow": {
     "slide_type": "slide"
    }
   },
   "source": [
    "#### SELF JOIN\n",
    "\n",
    "This is not exactly a standard join operation. But it can be very useful.\n",
    "\n",
    "- Join a table with itself via inner join.\n",
    "\n",
    "**Use case:** \n",
    "\n",
    "Create pairwise comparisons for airports in the same country and sharing the same city."
   ]
  },
  {
   "cell_type": "markdown",
   "id": "bc89a488",
   "metadata": {
    "slideshow": {
     "slide_type": "slide"
    }
   },
   "source": [
    "Here, we do an inner join:\n",
    "\n",
    "- Can join on multiple columns and conditions!!\n",
    "- Self join is excellent use case for this."
   ]
  },
  {
   "cell_type": "code",
   "execution_count": null,
   "id": "d16fb562",
   "metadata": {
    "scrolled": true,
    "slideshow": {
     "slide_type": "slide"
    }
   },
   "outputs": [],
   "source": [
    "pd.read_sql('''\n",
    "    SELECT ap1.country,\n",
    "        ap1.city,\n",
    "        ap1.name AS ap1_name, \n",
    "        ap1.code AS ap1_code,\n",
    "        ap1.altitude as ap1_altitude,\n",
    "        ap2.name AS ap2_name, \n",
    "        ap2.code AS ap2_code, \n",
    "        ap2.altitude as ap2_altitude\n",
    "        \n",
    "    FROM\n",
    "        airports as ap1\n",
    "        INNER JOIN airports  as ap2\n",
    "            ON ap1.country = ap2.country\n",
    "            AND ap1.city = ap2.city\n",
    "            AND ap1.name <> ap2.name\n",
    "''', conn)"
   ]
  },
  {
   "cell_type": "markdown",
   "id": "1120e266",
   "metadata": {
    "cell_style": "split",
    "slideshow": {
     "slide_type": "slide"
    }
   },
   "source": [
    "#### Set Operations\n",
    "\n",
    "- UNION: gets union, drops duplicates\n",
    "- UNION ALL: gets union, keeps duplicates\n",
    "- INTERSECT: gets intersection\n",
    "- EXCEPT: gets what's in one table but not other."
   ]
  },
  {
   "cell_type": "markdown",
   "id": "5a164990",
   "metadata": {
    "cell_style": "split",
    "slideshow": {
     "slide_type": "fragment"
    }
   },
   "source": [
    "Useful when you have two tables with same data scheme.\n",
    "\n",
    "- Table1 has some fields with same kind of data as some fields in Table2.\n",
    "- Can take intersection of fields from two tables with same kind of data, etc.\n",
    "- Less flexible than joins, but fast and useful in many cases."
   ]
  },
  {
   "cell_type": "markdown",
   "id": "129f6f7f",
   "metadata": {
    "slideshow": {
     "slide_type": "slide"
    }
   },
   "source": [
    "<div>\n",
    "<center><img src=\"images/setopd.png\" align = \"center\" width=\"600\"/></center>\n",
    "</div>"
   ]
  },
  {
   "cell_type": "markdown",
   "id": "74cb96ca",
   "metadata": {
    "slideshow": {
     "slide_type": "slide"
    }
   },
   "source": [
    "An example might be useful here:\n",
    "\n",
    "Get countries in airports table not in airlines table.\n",
    "\n",
    "Countries that have airports but no airlines."
   ]
  },
  {
   "cell_type": "code",
   "execution_count": null,
   "id": "eb618275",
   "metadata": {
    "slideshow": {
     "slide_type": "fragment"
    }
   },
   "outputs": [],
   "source": [
    "pd.read_sql('''\n",
    "    SELECT ap.country \n",
    "    FROM airports as ap\n",
    "    EXCEPT\n",
    "    SELECT al.country\n",
    "    FROM airlines as al\n",
    "    LIMIT 10\n",
    "''', conn)"
   ]
  },
  {
   "cell_type": "markdown",
   "id": "c10617c3",
   "metadata": {
    "slideshow": {
     "slide_type": "slide"
    }
   },
   "source": [
    "Next up: subqueries!!\n",
    "\n",
    "Can give us additional flexibility in accessing data!"
   ]
  }
 ],
 "metadata": {
  "celltoolbar": "Slideshow",
  "kernelspec": {
   "display_name": "dplearn",
   "language": "python",
   "name": "dplearn"
  },
  "language_info": {
   "codemirror_mode": {
    "name": "ipython",
    "version": 3
   },
   "file_extension": ".py",
   "mimetype": "text/x-python",
   "name": "python",
   "nbconvert_exporter": "python",
   "pygments_lexer": "ipython3",
   "version": "3.10.10"
  }
 },
 "nbformat": 4,
 "nbformat_minor": 5
}
