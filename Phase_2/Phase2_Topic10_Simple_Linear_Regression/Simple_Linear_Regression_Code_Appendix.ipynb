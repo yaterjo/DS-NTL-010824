{
 "cells": [
  {
   "cell_type": "markdown",
   "id": "253bc4c8",
   "metadata": {},
   "source": [
    "## Simple Linear Regression Model\n",
    "\n",
    "\n",
    "### Statsmodels Code:\n",
    "\n",
    "**Method 1: Using ```sm.OLS()```**\n",
    "\n",
    "``` Python\n",
    "import statsmodels.api as sm\n",
    "\n",
    "# Prepare data\n",
    "y = data['Y']\n",
    "X = data['X']\n",
    "\n",
    "# Using the sm.OLS() method, we need to manually add constant to the model\n",
    "X = sm.add_constant(X)\n",
    "\n",
    "# Create the model object\n",
    "model = sm.OLS(y, X)\n",
    "\n",
    "# Fit the model to the dataset\n",
    "result = model.fit()\n",
    "\n",
    "# Print the summary output\n",
    "result.summary()\n",
    "```\n",
    "\n",
    "**Method 2: Using ```sm.formula.ols()```, R-style formulas**\n",
    "\n",
    "``` Python\n",
    "import statsmodels.api as sm\n",
    "\n",
    "# No need to prepare data\n",
    "df # contain Y and X columns\n",
    "\n",
    "# Create the model object\n",
    "model = sm.formula.ols(formula = 'Y ~ X', data = df)\n",
    "\n",
    "# Fit the model to the dataset\n",
    "result = model.fit()\n",
    "\n",
    "# Print the summary output\n",
    "result.summary()\n",
    "```\n",
    "\n",
    "### SKLearn Code:\n",
    "\n",
    "``` Python\n",
    "from sklearn.linear_model import LinearRegression\n",
    "\n",
    "# Prepare data\n",
    "y = data['y']\n",
    "X = data['X']\n",
    "\n",
    "# Create the model object\n",
    "reg = LinearRegression()\n",
    "\n",
    "# Fit the model to the dataset\n",
    "result = reg.fit(X, y)\n",
    "\n",
    "# Retrieve estimated slope coefficient\n",
    "result.coef_\n",
    "\n",
    "# Retrieve estimated y-intercept coefficient\n",
    "result.intercept_\n",
    "```"
   ]
  },
  {
   "cell_type": "code",
   "execution_count": null,
   "id": "84e93ef5",
   "metadata": {
    "ExecuteTime": {
     "end_time": "2021-08-18T20:28:31.235815Z",
     "start_time": "2021-08-18T20:28:28.227060Z"
    }
   },
   "outputs": [],
   "source": [
    "import statsmodels.api as sm\n",
    "import numpy as np\n",
    "duncan_prestige = sm.datasets.get_rdataset(\"Duncan\", \"carData\")\n",
    "Y = duncan_prestige.data['income']\n",
    "X = duncan_prestige.data['education']"
   ]
  },
  {
   "cell_type": "code",
   "execution_count": null,
   "id": "58ac9a75",
   "metadata": {
    "ExecuteTime": {
     "end_time": "2021-08-18T20:28:31.266428Z",
     "start_time": "2021-08-18T20:28:31.237723Z"
    }
   },
   "outputs": [],
   "source": [
    "# Try to build the model with sm.OLS()\n",
    "# Using the sm.OLS() method, we need to manually add constant to the model\n",
    "X = sm.add_constant(X)\n",
    "\n",
    "# Create the model object\n",
    "model = sm.OLS(Y, X)\n",
    "\n",
    "# Fit the model to the dataset\n",
    "result = model.fit()\n",
    "\n",
    "# Print the summary output\n",
    "result.summary()\n"
   ]
  },
  {
   "cell_type": "code",
   "execution_count": null,
   "id": "e025a008",
   "metadata": {},
   "outputs": [],
   "source": [
    "# Try to build the model with sm.formula.ols()\n",
    "\n"
   ]
  },
  {
   "cell_type": "code",
   "execution_count": null,
   "id": "fca96568",
   "metadata": {},
   "outputs": [],
   "source": [
    "# Try to build the model with sklearn LinearRegression()\n",
    "\n"
   ]
  },
  {
   "cell_type": "code",
   "execution_count": null,
   "id": "4810dee7",
   "metadata": {},
   "outputs": [],
   "source": []
  },
  {
   "cell_type": "code",
   "execution_count": null,
   "id": "fcb6d8f0",
   "metadata": {},
   "outputs": [],
   "source": []
  }
 ],
 "metadata": {
  "hide_input": false,
  "kernelspec": {
   "display_name": "dplearn",
   "language": "python",
   "name": "dplearn"
  },
  "language_info": {
   "codemirror_mode": {
    "name": "ipython",
    "version": 3
   },
   "file_extension": ".py",
   "mimetype": "text/x-python",
   "name": "python",
   "nbconvert_exporter": "python",
   "pygments_lexer": "ipython3",
   "version": "3.10.10"
  },
  "latex_envs": {
   "LaTeX_envs_menu_present": true,
   "autoclose": false,
   "autocomplete": true,
   "bibliofile": "biblio.bib",
   "cite_by": "apalike",
   "current_citInitial": 1,
   "eqLabelWithNumbers": true,
   "eqNumInitial": 1,
   "hotkeys": {
    "equation": "Ctrl-E",
    "itemize": "Ctrl-I"
   },
   "labels_anchors": false,
   "latex_user_defs": false,
   "report_style_numbering": false,
   "user_envs_cfg": false
  },
  "nbTranslate": {
   "displayLangs": [
    "*"
   ],
   "hotkey": "alt-t",
   "langInMainMenu": true,
   "sourceLang": "en",
   "targetLang": "fr",
   "useGoogleTranslate": true
  },
  "toc": {
   "base_numbering": 1,
   "nav_menu": {},
   "number_sections": true,
   "sideBar": true,
   "skip_h1_title": false,
   "title_cell": "Table of Contents",
   "title_sidebar": "Contents",
   "toc_cell": false,
   "toc_position": {},
   "toc_section_display": true,
   "toc_window_display": false
  }
 },
 "nbformat": 4,
 "nbformat_minor": 5
}
