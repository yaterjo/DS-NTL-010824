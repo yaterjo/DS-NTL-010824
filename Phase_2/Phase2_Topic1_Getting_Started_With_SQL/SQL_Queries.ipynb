{
 "cells": [
  {
   "cell_type": "markdown",
   "metadata": {
    "slideshow": {
     "slide_type": "slide"
    }
   },
   "source": [
    "<div style=\"color:white;\n",
    "           display:fill;\n",
    "           border-radius:5px;\n",
    "           background-color:#5642C5;\n",
    "           font-size:200%;\n",
    "           font-family:Arial;letter-spacing:0.5px\">\n",
    "\n",
    "<p width = 20%, style=\"padding: 10px;\n",
    "              color:white;\">\n",
    "SQL: Introduction and Basic Querying\n",
    "</p>\n",
    "</div>\n",
    "\n",
    "DS-NTL-010824\n",
    "<p>Phase 2</p>\n",
    "<br>\n",
    "<br>\n",
    "\n",
    "<div align = \"right\">\n",
    "<img src=\"Images/flatiron-school-logo.png\" align = \"right\" width=\"200\"/>\n",
    "</div>\n",
    "    "
   ]
  },
  {
   "cell_type": "markdown",
   "metadata": {
    "cell_style": "center",
    "slideshow": {
     "slide_type": "slide"
    }
   },
   "source": [
    "#### Databases\n",
    "\n",
    "Data for organizations: typically stored in a **database**.\n",
    "\n",
    "- Database: organized collection of structured information.\n",
    "- Typically fairly large and hosted by dedicated servers.\n",
    "- A database controlled by a database management system (DBMS).\n",
    "\n"
   ]
  },
  {
   "cell_type": "markdown",
   "metadata": {
    "cell_style": "center",
    "slideshow": {
     "slide_type": "slide"
    }
   },
   "source": [
    "<div align = \"center\">\n",
    "    <center><img src=\"Images/dbms.jpg\" align = \"center\" width=\"500\"/></center>\n",
    "</div>"
   ]
  },
  {
   "cell_type": "markdown",
   "metadata": {
    "cell_style": "center",
    "slideshow": {
     "slide_type": "fragment"
    }
   },
   "source": [
    "With DBMS: store, update, share, and access specific subset of database. \n",
    "\n",
    "- CSVs and JSONs are often extracts of some data from a database."
   ]
  },
  {
   "cell_type": "markdown",
   "metadata": {
    "slideshow": {
     "slide_type": "slide"
    }
   },
   "source": [
    "#### The relational database\n",
    "<br>\n",
    "<div align = \"center\">\n",
    "    <center><img src=\"Images/tables_relational.png\" align = \"center\" width=\"700\"/></center>\n",
    "</div>\n",
    "  "
   ]
  },
  {
   "cell_type": "markdown",
   "metadata": {
    "slideshow": {
     "slide_type": "fragment"
    }
   },
   "source": [
    "Tables are linked together by relationships.\n",
    "\n",
    "  Why relational databases are great and what came before (first 5 modules): <br>\n",
    "  https://mariadb.com/kb/en/database-theory/"
   ]
  },
  {
   "cell_type": "markdown",
   "metadata": {
    "slideshow": {
     "slide_type": "slide"
    }
   },
   "source": [
    "Common DBMS for Relational Databases\n",
    "<br>\n",
    "<div>\n",
    "    <center><img src=\"Images/postgresql.png\"  width=\"200\"/></center>\n",
    "    <center><img src=\"Images/mysql.png\"  width=\"300\"/></center>\n",
    "    <center><img src=\"Images/SQLite-Python.jpg\" align = \"center\" width=\"200\"/></center>\n",
    "</div>\n",
    "      \n",
    "</div>"
   ]
  },
  {
   "cell_type": "markdown",
   "metadata": {
    "slideshow": {
     "slide_type": "slide"
    }
   },
   "source": [
    "#### Structured Query Language\n",
    "\n",
    "- De-facto king of languages for interacting with relational databases and their DBMS.\n",
    "- Invaluable for you in almost any data role. \n",
    "- You will use it often to get the data that you need for your analyses.\n",
    "\n",
    "Let's get into using SQL!\n"
   ]
  },
  {
   "cell_type": "code",
   "execution_count": 1,
   "metadata": {
    "slideshow": {
     "slide_type": "slide"
    }
   },
   "outputs": [],
   "source": [
    "# import sqlite\n",
    "import sqlite3\n",
    "import pandas as pd"
   ]
  },
  {
   "cell_type": "markdown",
   "metadata": {
    "cell_style": "split",
    "slideshow": {
     "slide_type": "slide"
    }
   },
   "source": [
    "Interacting with a sqlite database.\n",
    "- Connect to database \n",
    "- Create interface to ask database for stuff\n",
    "- After connection established:\n",
    "    1. Execute query \n",
    "    2. Fetch result \n",
    "- Close connection to database when done with queries.\n"
   ]
  },
  {
   "cell_type": "markdown",
   "metadata": {
    "cell_style": "split",
    "slideshow": {
     "slide_type": "fragment"
    }
   },
   "source": [
    "Commands:\n",
    "- conn = sqlite3.connect(database)\n",
    "- cursor_obj = connection.cursor()\n",
    "- Query database/get result:\n",
    "    1. cursor.execute(SQL_query)\n",
    "    2. cursor.fetchall()\n",
    "- connection.close()"
   ]
  },
  {
   "cell_type": "markdown",
   "metadata": {
    "slideshow": {
     "slide_type": "slide"
    }
   },
   "source": [
    "First, we'll use the sqlite3 package to create a connection to the database, which is currently just stored in that file on our hard drive."
   ]
  },
  {
   "cell_type": "code",
   "execution_count": 2,
   "metadata": {
    "slideshow": {
     "slide_type": "fragment"
    }
   },
   "outputs": [],
   "source": [
    "con = sqlite3.connect('data/flights.db')"
   ]
  },
  {
   "cell_type": "markdown",
   "metadata": {
    "slideshow": {
     "slide_type": "fragment"
    }
   },
   "source": [
    "Next, we'll create a cursor to interact with the database. Like the cursor for your mouse interacts with pixels on your screen, this cursor will allow us to interact with the elements of the database.\n",
    "\n"
   ]
  },
  {
   "cell_type": "code",
   "execution_count": 3,
   "metadata": {
    "slideshow": {
     "slide_type": "fragment"
    }
   },
   "outputs": [],
   "source": [
    "cursor_obj = con.cursor()"
   ]
  },
  {
   "cell_type": "markdown",
   "metadata": {
    "slideshow": {
     "slide_type": "slide"
    }
   },
   "source": [
    "See tables in the sqlite database via command line."
   ]
  },
  {
   "cell_type": "code",
   "execution_count": 4,
   "metadata": {
    "slideshow": {
     "slide_type": "fragment"
    }
   },
   "outputs": [
    {
     "name": "stdout",
     "output_type": "stream",
     "text": [
      "airlines  airports  routes  \r\n"
     ]
    }
   ],
   "source": [
    "%%bash \n",
    "\n",
    "sqlite3 data/flights.db\n",
    ".tables"
   ]
  },
  {
   "cell_type": "markdown",
   "metadata": {
    "slideshow": {
     "slide_type": "slide"
    }
   },
   "source": [
    "Get schema of sqlite database: whole or single table"
   ]
  },
  {
   "cell_type": "code",
   "execution_count": 5,
   "metadata": {
    "scrolled": true,
    "slideshow": {
     "slide_type": "fragment"
    }
   },
   "outputs": [
    {
     "name": "stdout",
     "output_type": "stream",
     "text": [
      "CREATE TABLE airports (\r\n",
      "[index] INTEGER,\r\n",
      "  [id] TEXT,\r\n",
      "  [name] TEXT,\r\n",
      "  [city] TEXT,\r\n",
      "  [country] TEXT,\r\n",
      "  [code] TEXT,\r\n",
      "  [icao] TEXT,\r\n",
      "  [latitude] TEXT,\r\n",
      "  [longitude] TEXT,\r\n",
      "  [altitude] TEXT,\r\n",
      "  [offset] TEXT,\r\n",
      "  [dst] TEXT,\r\n",
      "  [timezone] TEXT\r\n",
      ");\r\n",
      "CREATE INDEX ix_airports_index ON airports ([index]);\r\n"
     ]
    }
   ],
   "source": [
    "%%bash\n",
    "sqlite3 data/flights.db\n",
    ".schema airports"
   ]
  },
  {
   "cell_type": "markdown",
   "metadata": {
    "slideshow": {
     "slide_type": "slide"
    }
   },
   "source": [
    "#### SELECT statement\n",
    "\n",
    "Let's explore the following clauses and structure:\n",
    "\n",
    "```sql\n",
    "SELECT columns ( * for all fields)\n",
    "FROM table\n",
    "WHERE condition\n",
    "ORDER BY columns\n",
    "LIMIT number (limits to first n entries of table)\n",
    "```"
   ]
  },
  {
   "cell_type": "markdown",
   "metadata": {
    "slideshow": {
     "slide_type": "slide"
    }
   },
   "source": [
    "#### Example\n",
    "\n",
    "Use the cursor object to execute and retrieve the results of the following query:\n",
    "\n",
    "Retrieve all fields for the first five entries of the database."
   ]
  },
  {
   "cell_type": "code",
   "execution_count": 6,
   "metadata": {
    "cell_style": "split",
    "slideshow": {
     "slide_type": "fragment"
    }
   },
   "outputs": [],
   "source": [
    "# EXECUTE THAT QUERY\n",
    "\n",
    "query = cursor_obj.execute(\"\"\"\n",
    "SELECT *\n",
    "FROM airports\n",
    "LIMIT 5\n",
    "\"\"\")"
   ]
  },
  {
   "cell_type": "code",
   "execution_count": 7,
   "metadata": {
    "cell_style": "split",
    "scrolled": true,
    "slideshow": {
     "slide_type": "fragment"
    }
   },
   "outputs": [
    {
     "data": {
      "text/plain": [
       "[(0,\n",
       "  '1',\n",
       "  'Goroka',\n",
       "  'Goroka',\n",
       "  'Papua New Guinea',\n",
       "  'GKA',\n",
       "  'AYGA',\n",
       "  '-6.081689',\n",
       "  '145.391881',\n",
       "  '5282',\n",
       "  '10',\n",
       "  'U',\n",
       "  'Pacific/Port_Moresby'),\n",
       " (1,\n",
       "  '2',\n",
       "  'Madang',\n",
       "  'Madang',\n",
       "  'Papua New Guinea',\n",
       "  'MAG',\n",
       "  'AYMD',\n",
       "  '-5.207083',\n",
       "  '145.7887',\n",
       "  '20',\n",
       "  '10',\n",
       "  'U',\n",
       "  'Pacific/Port_Moresby'),\n",
       " (2,\n",
       "  '3',\n",
       "  'Mount Hagen',\n",
       "  'Mount Hagen',\n",
       "  'Papua New Guinea',\n",
       "  'HGU',\n",
       "  'AYMH',\n",
       "  '-5.826789',\n",
       "  '144.295861',\n",
       "  '5388',\n",
       "  '10',\n",
       "  'U',\n",
       "  'Pacific/Port_Moresby'),\n",
       " (3,\n",
       "  '4',\n",
       "  'Nadzab',\n",
       "  'Nadzab',\n",
       "  'Papua New Guinea',\n",
       "  'LAE',\n",
       "  'AYNZ',\n",
       "  '-6.569828',\n",
       "  '146.726242',\n",
       "  '239',\n",
       "  '10',\n",
       "  'U',\n",
       "  'Pacific/Port_Moresby'),\n",
       " (4,\n",
       "  '5',\n",
       "  'Port Moresby Jacksons Intl',\n",
       "  'Port Moresby',\n",
       "  'Papua New Guinea',\n",
       "  'POM',\n",
       "  'AYPY',\n",
       "  '-9.443383',\n",
       "  '147.22005',\n",
       "  '146',\n",
       "  '10',\n",
       "  'U',\n",
       "  'Pacific/Port_Moresby')]"
      ]
     },
     "execution_count": 7,
     "metadata": {},
     "output_type": "execute_result"
    }
   ],
   "source": [
    "# FETCH THE RESULTS\n",
    "\n",
    "query.fetchall()"
   ]
  },
  {
   "cell_type": "markdown",
   "metadata": {
    "cell_style": "center",
    "slideshow": {
     "slide_type": "slide"
    }
   },
   "source": [
    "- execute, fetchall protocol gets data in python list form.\n",
    "- can issue commands to create things in database.\n",
    "\n",
    "Now close the connection to the database when you are done."
   ]
  },
  {
   "cell_type": "code",
   "execution_count": 8,
   "metadata": {
    "slideshow": {
     "slide_type": "fragment"
    }
   },
   "outputs": [
    {
     "data": {
      "text/plain": [
       "<sqlite3.Connection at 0x280c1e87b70>"
      ]
     },
     "execution_count": 8,
     "metadata": {},
     "output_type": "execute_result"
    }
   ],
   "source": [
    "con.close()\n",
    "con"
   ]
  },
  {
   "cell_type": "markdown",
   "metadata": {
    "slideshow": {
     "slide_type": "slide"
    }
   },
   "source": [
    "When *just retrieving* tabular data:\n",
    "\n",
    "- Pandas has pd.read_sql(query, database_connection) command."
   ]
  },
  {
   "cell_type": "code",
   "execution_count": 9,
   "metadata": {
    "slideshow": {
     "slide_type": "slide"
    }
   },
   "outputs": [],
   "source": [
    "airports_query = \\\n",
    "\"\"\"\n",
    "SELECT *\n",
    "FROM airports\n",
    "\"\"\""
   ]
  },
  {
   "cell_type": "markdown",
   "metadata": {
    "slideshow": {
     "slide_type": "fragment"
    }
   },
   "source": [
    "Make sure you have a connection to the sql database open."
   ]
  },
  {
   "cell_type": "code",
   "execution_count": 10,
   "metadata": {
    "slideshow": {
     "slide_type": "fragment"
    }
   },
   "outputs": [],
   "source": [
    "con = sqlite3.connect('data/flights.db')"
   ]
  },
  {
   "cell_type": "code",
   "execution_count": 11,
   "metadata": {
    "scrolled": true,
    "slideshow": {
     "slide_type": "slide"
    }
   },
   "outputs": [
    {
     "data": {
      "text/html": [
       "<div>\n",
       "<style scoped>\n",
       "    .dataframe tbody tr th:only-of-type {\n",
       "        vertical-align: middle;\n",
       "    }\n",
       "\n",
       "    .dataframe tbody tr th {\n",
       "        vertical-align: top;\n",
       "    }\n",
       "\n",
       "    .dataframe thead th {\n",
       "        text-align: right;\n",
       "    }\n",
       "</style>\n",
       "<table border=\"1\" class=\"dataframe\">\n",
       "  <thead>\n",
       "    <tr style=\"text-align: right;\">\n",
       "      <th></th>\n",
       "      <th>index</th>\n",
       "      <th>id</th>\n",
       "      <th>name</th>\n",
       "      <th>city</th>\n",
       "      <th>country</th>\n",
       "      <th>code</th>\n",
       "      <th>icao</th>\n",
       "      <th>latitude</th>\n",
       "      <th>longitude</th>\n",
       "      <th>altitude</th>\n",
       "      <th>offset</th>\n",
       "      <th>dst</th>\n",
       "      <th>timezone</th>\n",
       "    </tr>\n",
       "  </thead>\n",
       "  <tbody>\n",
       "    <tr>\n",
       "      <th>0</th>\n",
       "      <td>0</td>\n",
       "      <td>1</td>\n",
       "      <td>Goroka</td>\n",
       "      <td>Goroka</td>\n",
       "      <td>Papua New Guinea</td>\n",
       "      <td>GKA</td>\n",
       "      <td>AYGA</td>\n",
       "      <td>-6.081689</td>\n",
       "      <td>145.391881</td>\n",
       "      <td>5282</td>\n",
       "      <td>10</td>\n",
       "      <td>U</td>\n",
       "      <td>Pacific/Port_Moresby</td>\n",
       "    </tr>\n",
       "    <tr>\n",
       "      <th>1</th>\n",
       "      <td>1</td>\n",
       "      <td>2</td>\n",
       "      <td>Madang</td>\n",
       "      <td>Madang</td>\n",
       "      <td>Papua New Guinea</td>\n",
       "      <td>MAG</td>\n",
       "      <td>AYMD</td>\n",
       "      <td>-5.207083</td>\n",
       "      <td>145.7887</td>\n",
       "      <td>20</td>\n",
       "      <td>10</td>\n",
       "      <td>U</td>\n",
       "      <td>Pacific/Port_Moresby</td>\n",
       "    </tr>\n",
       "    <tr>\n",
       "      <th>2</th>\n",
       "      <td>2</td>\n",
       "      <td>3</td>\n",
       "      <td>Mount Hagen</td>\n",
       "      <td>Mount Hagen</td>\n",
       "      <td>Papua New Guinea</td>\n",
       "      <td>HGU</td>\n",
       "      <td>AYMH</td>\n",
       "      <td>-5.826789</td>\n",
       "      <td>144.295861</td>\n",
       "      <td>5388</td>\n",
       "      <td>10</td>\n",
       "      <td>U</td>\n",
       "      <td>Pacific/Port_Moresby</td>\n",
       "    </tr>\n",
       "    <tr>\n",
       "      <th>3</th>\n",
       "      <td>3</td>\n",
       "      <td>4</td>\n",
       "      <td>Nadzab</td>\n",
       "      <td>Nadzab</td>\n",
       "      <td>Papua New Guinea</td>\n",
       "      <td>LAE</td>\n",
       "      <td>AYNZ</td>\n",
       "      <td>-6.569828</td>\n",
       "      <td>146.726242</td>\n",
       "      <td>239</td>\n",
       "      <td>10</td>\n",
       "      <td>U</td>\n",
       "      <td>Pacific/Port_Moresby</td>\n",
       "    </tr>\n",
       "    <tr>\n",
       "      <th>4</th>\n",
       "      <td>4</td>\n",
       "      <td>5</td>\n",
       "      <td>Port Moresby Jacksons Intl</td>\n",
       "      <td>Port Moresby</td>\n",
       "      <td>Papua New Guinea</td>\n",
       "      <td>POM</td>\n",
       "      <td>AYPY</td>\n",
       "      <td>-9.443383</td>\n",
       "      <td>147.22005</td>\n",
       "      <td>146</td>\n",
       "      <td>10</td>\n",
       "      <td>U</td>\n",
       "      <td>Pacific/Port_Moresby</td>\n",
       "    </tr>\n",
       "  </tbody>\n",
       "</table>\n",
       "</div>"
      ],
      "text/plain": [
       "   index id                        name          city           country code  \\\n",
       "0      0  1                      Goroka        Goroka  Papua New Guinea  GKA   \n",
       "1      1  2                      Madang        Madang  Papua New Guinea  MAG   \n",
       "2      2  3                 Mount Hagen   Mount Hagen  Papua New Guinea  HGU   \n",
       "3      3  4                      Nadzab        Nadzab  Papua New Guinea  LAE   \n",
       "4      4  5  Port Moresby Jacksons Intl  Port Moresby  Papua New Guinea  POM   \n",
       "\n",
       "   icao   latitude   longitude altitude offset dst              timezone  \n",
       "0  AYGA  -6.081689  145.391881     5282     10   U  Pacific/Port_Moresby  \n",
       "1  AYMD  -5.207083    145.7887       20     10   U  Pacific/Port_Moresby  \n",
       "2  AYMH  -5.826789  144.295861     5388     10   U  Pacific/Port_Moresby  \n",
       "3  AYNZ  -6.569828  146.726242      239     10   U  Pacific/Port_Moresby  \n",
       "4  AYPY  -9.443383   147.22005      146     10   U  Pacific/Port_Moresby  "
      ]
     },
     "execution_count": 11,
     "metadata": {},
     "output_type": "execute_result"
    }
   ],
   "source": [
    "# requires reference to open database connection\n",
    "query_result_df = pd.read_sql(airports_query, con)\n",
    "query_result_df.head()"
   ]
  },
  {
   "cell_type": "markdown",
   "metadata": {
    "slideshow": {
     "slide_type": "slide"
    }
   },
   "source": [
    "Selecting particular columns:"
   ]
  },
  {
   "cell_type": "code",
   "execution_count": 12,
   "metadata": {
    "hidden": true,
    "slideshow": {
     "slide_type": "fragment"
    }
   },
   "outputs": [
    {
     "data": {
      "text/html": [
       "<div>\n",
       "<style scoped>\n",
       "    .dataframe tbody tr th:only-of-type {\n",
       "        vertical-align: middle;\n",
       "    }\n",
       "\n",
       "    .dataframe tbody tr th {\n",
       "        vertical-align: top;\n",
       "    }\n",
       "\n",
       "    .dataframe thead th {\n",
       "        text-align: right;\n",
       "    }\n",
       "</style>\n",
       "<table border=\"1\" class=\"dataframe\">\n",
       "  <thead>\n",
       "    <tr style=\"text-align: right;\">\n",
       "      <th></th>\n",
       "      <th>city</th>\n",
       "      <th>country</th>\n",
       "    </tr>\n",
       "  </thead>\n",
       "  <tbody>\n",
       "    <tr>\n",
       "      <th>0</th>\n",
       "      <td>Goroka</td>\n",
       "      <td>Papua New Guinea</td>\n",
       "    </tr>\n",
       "    <tr>\n",
       "      <th>1</th>\n",
       "      <td>Madang</td>\n",
       "      <td>Papua New Guinea</td>\n",
       "    </tr>\n",
       "    <tr>\n",
       "      <th>2</th>\n",
       "      <td>Mount Hagen</td>\n",
       "      <td>Papua New Guinea</td>\n",
       "    </tr>\n",
       "    <tr>\n",
       "      <th>3</th>\n",
       "      <td>Nadzab</td>\n",
       "      <td>Papua New Guinea</td>\n",
       "    </tr>\n",
       "    <tr>\n",
       "      <th>4</th>\n",
       "      <td>Port Moresby</td>\n",
       "      <td>Papua New Guinea</td>\n",
       "    </tr>\n",
       "  </tbody>\n",
       "</table>\n",
       "</div>"
      ],
      "text/plain": [
       "           city           country\n",
       "0        Goroka  Papua New Guinea\n",
       "1        Madang  Papua New Guinea\n",
       "2   Mount Hagen  Papua New Guinea\n",
       "3        Nadzab  Papua New Guinea\n",
       "4  Port Moresby  Papua New Guinea"
      ]
     },
     "execution_count": 12,
     "metadata": {},
     "output_type": "execute_result"
    }
   ],
   "source": [
    "query_result_df = pd.read_sql(\"\"\"\n",
    "\n",
    "SELECT city, country \n",
    "FROM airports\n",
    "\n",
    "\"\"\", con)\n",
    "\n",
    "query_result_df.head(5)"
   ]
  },
  {
   "cell_type": "markdown",
   "metadata": {
    "heading_collapsed": true,
    "hidden": true,
    "slideshow": {
     "slide_type": "slide"
    }
   },
   "source": [
    "#### DISTINCT\n",
    "- Select only unique results of query."
   ]
  },
  {
   "cell_type": "code",
   "execution_count": 13,
   "metadata": {
    "hidden": true,
    "slideshow": {
     "slide_type": "fragment"
    }
   },
   "outputs": [
    {
     "data": {
      "text/html": [
       "<div>\n",
       "<style scoped>\n",
       "    .dataframe tbody tr th:only-of-type {\n",
       "        vertical-align: middle;\n",
       "    }\n",
       "\n",
       "    .dataframe tbody tr th {\n",
       "        vertical-align: top;\n",
       "    }\n",
       "\n",
       "    .dataframe thead th {\n",
       "        text-align: right;\n",
       "    }\n",
       "</style>\n",
       "<table border=\"1\" class=\"dataframe\">\n",
       "  <thead>\n",
       "    <tr style=\"text-align: right;\">\n",
       "      <th></th>\n",
       "      <th>country</th>\n",
       "    </tr>\n",
       "  </thead>\n",
       "  <tbody>\n",
       "    <tr>\n",
       "      <th>0</th>\n",
       "      <td>Papua New Guinea</td>\n",
       "    </tr>\n",
       "    <tr>\n",
       "      <th>1</th>\n",
       "      <td>Greenland</td>\n",
       "    </tr>\n",
       "    <tr>\n",
       "      <th>2</th>\n",
       "      <td>Iceland</td>\n",
       "    </tr>\n",
       "    <tr>\n",
       "      <th>3</th>\n",
       "      <td>Canada</td>\n",
       "    </tr>\n",
       "    <tr>\n",
       "      <th>4</th>\n",
       "      <td>Algeria</td>\n",
       "    </tr>\n",
       "  </tbody>\n",
       "</table>\n",
       "</div>"
      ],
      "text/plain": [
       "            country\n",
       "0  Papua New Guinea\n",
       "1         Greenland\n",
       "2           Iceland\n",
       "3            Canada\n",
       "4           Algeria"
      ]
     },
     "execution_count": 13,
     "metadata": {},
     "output_type": "execute_result"
    }
   ],
   "source": [
    "query_result = pd.read_sql(\"\"\"\n",
    "\n",
    "SELECT DISTINCT country\n",
    "FROM airports\n",
    "\n",
    "\"\"\", con)\n",
    "\n",
    "query_result.head()"
   ]
  },
  {
   "cell_type": "markdown",
   "metadata": {
    "slideshow": {
     "slide_type": "slide"
    }
   },
   "source": [
    "**Example**\n",
    "\n",
    "Get a list of the distinct cities in the database and store it as a pandas Series. What is the number of cities represented in this database? "
   ]
  },
  {
   "cell_type": "code",
   "execution_count": 14,
   "metadata": {
    "slideshow": {
     "slide_type": "fragment"
    }
   },
   "outputs": [
    {
     "data": {
      "text/html": [
       "<div>\n",
       "<style scoped>\n",
       "    .dataframe tbody tr th:only-of-type {\n",
       "        vertical-align: middle;\n",
       "    }\n",
       "\n",
       "    .dataframe tbody tr th {\n",
       "        vertical-align: top;\n",
       "    }\n",
       "\n",
       "    .dataframe thead th {\n",
       "        text-align: right;\n",
       "    }\n",
       "</style>\n",
       "<table border=\"1\" class=\"dataframe\">\n",
       "  <thead>\n",
       "    <tr style=\"text-align: right;\">\n",
       "      <th></th>\n",
       "      <th>city</th>\n",
       "    </tr>\n",
       "  </thead>\n",
       "  <tbody>\n",
       "    <tr>\n",
       "      <th>0</th>\n",
       "      <td>Goroka</td>\n",
       "    </tr>\n",
       "    <tr>\n",
       "      <th>1</th>\n",
       "      <td>Madang</td>\n",
       "    </tr>\n",
       "    <tr>\n",
       "      <th>2</th>\n",
       "      <td>Mount Hagen</td>\n",
       "    </tr>\n",
       "    <tr>\n",
       "      <th>3</th>\n",
       "      <td>Nadzab</td>\n",
       "    </tr>\n",
       "    <tr>\n",
       "      <th>4</th>\n",
       "      <td>Port Moresby</td>\n",
       "    </tr>\n",
       "  </tbody>\n",
       "</table>\n",
       "</div>"
      ],
      "text/plain": [
       "           city\n",
       "0        Goroka\n",
       "1        Madang\n",
       "2   Mount Hagen\n",
       "3        Nadzab\n",
       "4  Port Moresby"
      ]
     },
     "execution_count": 14,
     "metadata": {},
     "output_type": "execute_result"
    }
   ],
   "source": [
    "query_result = pd.read_sql(\"\"\"\n",
    "\n",
    "SELECT DISTINCT city\n",
    "FROM airports\n",
    "\n",
    "\"\"\", con)\n",
    "   \n",
    "query_result.head()"
   ]
  },
  {
   "cell_type": "code",
   "execution_count": 15,
   "metadata": {
    "cell_style": "center",
    "slideshow": {
     "slide_type": "fragment"
    }
   },
   "outputs": [],
   "source": [
    "query_series = query_result['city']"
   ]
  },
  {
   "cell_type": "code",
   "execution_count": 16,
   "metadata": {},
   "outputs": [
    {
     "data": {
      "text/plain": [
       "(6977,)"
      ]
     },
     "execution_count": 16,
     "metadata": {},
     "output_type": "execute_result"
    }
   ],
   "source": [
    "query_series.shape"
   ]
  },
  {
   "cell_type": "markdown",
   "metadata": {
    "slideshow": {
     "slide_type": "slide"
    }
   },
   "source": [
    "**Example**\n",
    "\n",
    "Get the cities for each airport in the database and store it as a pandas Series. \n",
    "\n",
    "Then get me the number of airports in each city and the number of unique cities. You can use Pandas functions for this."
   ]
  },
  {
   "cell_type": "code",
   "execution_count": 17,
   "metadata": {
    "slideshow": {
     "slide_type": "fragment"
    }
   },
   "outputs": [
    {
     "data": {
      "text/plain": [
       "London       21\n",
       "New York     13\n",
       "Hong Kong    12\n",
       "Berlin       10\n",
       "Paris        10\n",
       "             ..\n",
       "Hemavan       1\n",
       "Cobija        1\n",
       "Jahrom        1\n",
       "Meknes        1\n",
       "Salinas       1\n",
       "Name: city, Length: 6977, dtype: int64"
      ]
     },
     "execution_count": 17,
     "metadata": {},
     "output_type": "execute_result"
    }
   ],
   "source": [
    "cities = pd.read_sql(\"\"\"\n",
    "SELECT city, name\n",
    "FROM airports\n",
    "\n",
    "\"\"\", con)\n",
    "\n",
    "cities[\"city\"].value_counts()\n",
    "#cities.shape"
   ]
  },
  {
   "cell_type": "markdown",
   "metadata": {
    "slideshow": {
     "slide_type": "slide"
    }
   },
   "source": [
    "#### AS modifier\n",
    "\n",
    "`AS`: renaming a column in the query and returned result."
   ]
  },
  {
   "cell_type": "code",
   "execution_count": 18,
   "metadata": {
    "hidden": true,
    "scrolled": true,
    "slideshow": {
     "slide_type": "fragment"
    }
   },
   "outputs": [
    {
     "data": {
      "text/html": [
       "<div>\n",
       "<style scoped>\n",
       "    .dataframe tbody tr th:only-of-type {\n",
       "        vertical-align: middle;\n",
       "    }\n",
       "\n",
       "    .dataframe tbody tr th {\n",
       "        vertical-align: top;\n",
       "    }\n",
       "\n",
       "    .dataframe thead th {\n",
       "        text-align: right;\n",
       "    }\n",
       "</style>\n",
       "<table border=\"1\" class=\"dataframe\">\n",
       "  <thead>\n",
       "    <tr style=\"text-align: right;\">\n",
       "      <th></th>\n",
       "      <th>Airport_City</th>\n",
       "      <th>Airport Country</th>\n",
       "    </tr>\n",
       "  </thead>\n",
       "  <tbody>\n",
       "    <tr>\n",
       "      <th>0</th>\n",
       "      <td>Goroka</td>\n",
       "      <td>Papua New Guinea</td>\n",
       "    </tr>\n",
       "    <tr>\n",
       "      <th>1</th>\n",
       "      <td>Madang</td>\n",
       "      <td>Papua New Guinea</td>\n",
       "    </tr>\n",
       "    <tr>\n",
       "      <th>2</th>\n",
       "      <td>Mount Hagen</td>\n",
       "      <td>Papua New Guinea</td>\n",
       "    </tr>\n",
       "    <tr>\n",
       "      <th>3</th>\n",
       "      <td>Nadzab</td>\n",
       "      <td>Papua New Guinea</td>\n",
       "    </tr>\n",
       "    <tr>\n",
       "      <th>4</th>\n",
       "      <td>Port Moresby</td>\n",
       "      <td>Papua New Guinea</td>\n",
       "    </tr>\n",
       "  </tbody>\n",
       "</table>\n",
       "</div>"
      ],
      "text/plain": [
       "   Airport_City   Airport Country\n",
       "0        Goroka  Papua New Guinea\n",
       "1        Madang  Papua New Guinea\n",
       "2   Mount Hagen  Papua New Guinea\n",
       "3        Nadzab  Papua New Guinea\n",
       "4  Port Moresby  Papua New Guinea"
      ]
     },
     "execution_count": 18,
     "metadata": {},
     "output_type": "execute_result"
    }
   ],
   "source": [
    "sql_query = pd.read_sql(\"\"\"\n",
    "\n",
    "SELECT city AS Airport_City, \n",
    "       country AS \"Airport Country\"\n",
    "FROM airports\n",
    "\n",
    "\"\"\", con)\n",
    "\n",
    "sql_query.head()"
   ]
  },
  {
   "cell_type": "markdown",
   "metadata": {
    "slideshow": {
     "slide_type": "slide"
    }
   },
   "source": [
    "Some SQL dialects do not require the AS statement:"
   ]
  },
  {
   "cell_type": "code",
   "execution_count": 19,
   "metadata": {
    "slideshow": {
     "slide_type": "fragment"
    }
   },
   "outputs": [
    {
     "data": {
      "text/html": [
       "<div>\n",
       "<style scoped>\n",
       "    .dataframe tbody tr th:only-of-type {\n",
       "        vertical-align: middle;\n",
       "    }\n",
       "\n",
       "    .dataframe tbody tr th {\n",
       "        vertical-align: top;\n",
       "    }\n",
       "\n",
       "    .dataframe thead th {\n",
       "        text-align: right;\n",
       "    }\n",
       "</style>\n",
       "<table border=\"1\" class=\"dataframe\">\n",
       "  <thead>\n",
       "    <tr style=\"text-align: right;\">\n",
       "      <th></th>\n",
       "      <th>Airport City</th>\n",
       "      <th>Airport Country</th>\n",
       "    </tr>\n",
       "  </thead>\n",
       "  <tbody>\n",
       "    <tr>\n",
       "      <th>0</th>\n",
       "      <td>Goroka</td>\n",
       "      <td>Papua New Guinea</td>\n",
       "    </tr>\n",
       "    <tr>\n",
       "      <th>1</th>\n",
       "      <td>Madang</td>\n",
       "      <td>Papua New Guinea</td>\n",
       "    </tr>\n",
       "    <tr>\n",
       "      <th>2</th>\n",
       "      <td>Mount Hagen</td>\n",
       "      <td>Papua New Guinea</td>\n",
       "    </tr>\n",
       "    <tr>\n",
       "      <th>3</th>\n",
       "      <td>Nadzab</td>\n",
       "      <td>Papua New Guinea</td>\n",
       "    </tr>\n",
       "    <tr>\n",
       "      <th>4</th>\n",
       "      <td>Port Moresby</td>\n",
       "      <td>Papua New Guinea</td>\n",
       "    </tr>\n",
       "  </tbody>\n",
       "</table>\n",
       "</div>"
      ],
      "text/plain": [
       "   Airport City   Airport Country\n",
       "0        Goroka  Papua New Guinea\n",
       "1        Madang  Papua New Guinea\n",
       "2   Mount Hagen  Papua New Guinea\n",
       "3        Nadzab  Papua New Guinea\n",
       "4  Port Moresby  Papua New Guinea"
      ]
     },
     "execution_count": 19,
     "metadata": {},
     "output_type": "execute_result"
    }
   ],
   "source": [
    "sql_query = pd.read_sql(\"\"\"\n",
    "\n",
    "SELECT city \"Airport City\", \n",
    "       country \"Airport Country\"\n",
    "FROM airports\n",
    "\n",
    "\"\"\", con)\n",
    "\n",
    "sql_query.head()"
   ]
  },
  {
   "cell_type": "markdown",
   "metadata": {
    "cell_style": "center",
    "hidden": true,
    "slideshow": {
     "slide_type": "slide"
    }
   },
   "source": [
    "#### Functions\n",
    "Can use predefined functions in SELECT statements:\n",
    "<br>\n",
    "<br>\n",
    "SELECT FUNCTION(columns)\n",
    "<br>\n",
    "FROM table\n",
    "\n",
    "Applies function to the each column and spits out new table."
   ]
  },
  {
   "cell_type": "markdown",
   "metadata": {
    "cell_style": "center",
    "slideshow": {
     "slide_type": "slide"
    }
   },
   "source": [
    "Functions can be: \n",
    "- Transformations on columns:\n",
    "    - Convert each element in a string column to upper case.\n",
    "- Aggregation:\n",
    "    - statistic on each field in a table \n",
    "    - e.g. max, min, mean, sum, etc."
   ]
  },
  {
   "cell_type": "markdown",
   "metadata": {
    "slideshow": {
     "slide_type": "slide"
    }
   },
   "source": [
    "#### Transformation"
   ]
  },
  {
   "cell_type": "code",
   "execution_count": 20,
   "metadata": {
    "hidden": true,
    "scrolled": true,
    "slideshow": {
     "slide_type": "fragment"
    }
   },
   "outputs": [
    {
     "data": {
      "text/html": [
       "<div>\n",
       "<style scoped>\n",
       "    .dataframe tbody tr th:only-of-type {\n",
       "        vertical-align: middle;\n",
       "    }\n",
       "\n",
       "    .dataframe tbody tr th {\n",
       "        vertical-align: top;\n",
       "    }\n",
       "\n",
       "    .dataframe thead th {\n",
       "        text-align: right;\n",
       "    }\n",
       "</style>\n",
       "<table border=\"1\" class=\"dataframe\">\n",
       "  <thead>\n",
       "    <tr style=\"text-align: right;\">\n",
       "      <th></th>\n",
       "      <th>AIRPORT NAMES IN CAPS</th>\n",
       "      <th>Airport Name Length</th>\n",
       "    </tr>\n",
       "  </thead>\n",
       "  <tbody>\n",
       "    <tr>\n",
       "      <th>0</th>\n",
       "      <td>GOROKA</td>\n",
       "      <td>6</td>\n",
       "    </tr>\n",
       "    <tr>\n",
       "      <th>1</th>\n",
       "      <td>MADANG</td>\n",
       "      <td>6</td>\n",
       "    </tr>\n",
       "    <tr>\n",
       "      <th>2</th>\n",
       "      <td>MOUNT HAGEN</td>\n",
       "      <td>11</td>\n",
       "    </tr>\n",
       "    <tr>\n",
       "      <th>3</th>\n",
       "      <td>NADZAB</td>\n",
       "      <td>6</td>\n",
       "    </tr>\n",
       "    <tr>\n",
       "      <th>4</th>\n",
       "      <td>PORT MORESBY JACKSONS INTL</td>\n",
       "      <td>26</td>\n",
       "    </tr>\n",
       "  </tbody>\n",
       "</table>\n",
       "</div>"
      ],
      "text/plain": [
       "        AIRPORT NAMES IN CAPS  Airport Name Length\n",
       "0                      GOROKA                    6\n",
       "1                      MADANG                    6\n",
       "2                 MOUNT HAGEN                   11\n",
       "3                      NADZAB                    6\n",
       "4  PORT MORESBY JACKSONS INTL                   26"
      ]
     },
     "execution_count": 20,
     "metadata": {},
     "output_type": "execute_result"
    }
   ],
   "source": [
    "sql_query_df = pd.read_sql(\"\"\"\n",
    "\n",
    "SELECT UPPER(name) AS \"AIRPORT NAMES IN CAPS\",\n",
    "       LENGTH(name) AS \"Airport Name Length\"\n",
    "       \n",
    "FROM airports\n",
    "\n",
    "\"\"\", con)\n",
    "\n",
    "sql_query_df.head()"
   ]
  },
  {
   "cell_type": "markdown",
   "metadata": {
    "heading_collapsed": true,
    "hidden": true,
    "slideshow": {
     "slide_type": "slide"
    }
   },
   "source": [
    "#### Aggregation\n",
    "- MAX()\n",
    "- MIN()\n",
    "- SUM()\n",
    "- AVG()\n",
    "- COUNT()"
   ]
  },
  {
   "cell_type": "markdown",
   "metadata": {
    "slideshow": {
     "slide_type": "slide"
    }
   },
   "source": [
    "Get count of entries in table:"
   ]
  },
  {
   "cell_type": "code",
   "execution_count": 21,
   "metadata": {
    "slideshow": {
     "slide_type": "fragment"
    }
   },
   "outputs": [
    {
     "data": {
      "text/html": [
       "<div>\n",
       "<style scoped>\n",
       "    .dataframe tbody tr th:only-of-type {\n",
       "        vertical-align: middle;\n",
       "    }\n",
       "\n",
       "    .dataframe tbody tr th {\n",
       "        vertical-align: top;\n",
       "    }\n",
       "\n",
       "    .dataframe thead th {\n",
       "        text-align: right;\n",
       "    }\n",
       "</style>\n",
       "<table border=\"1\" class=\"dataframe\">\n",
       "  <thead>\n",
       "    <tr style=\"text-align: right;\">\n",
       "      <th></th>\n",
       "      <th>count</th>\n",
       "    </tr>\n",
       "  </thead>\n",
       "  <tbody>\n",
       "    <tr>\n",
       "      <th>0</th>\n",
       "      <td>8107</td>\n",
       "    </tr>\n",
       "  </tbody>\n",
       "</table>\n",
       "</div>"
      ],
      "text/plain": [
       "   count\n",
       "0   8107"
      ]
     },
     "execution_count": 21,
     "metadata": {},
     "output_type": "execute_result"
    }
   ],
   "source": [
    "sql_query_df = pd.read_sql(\"\"\"\n",
    "\n",
    "SELECT COUNT(*) AS count\n",
    "FROM airports\n",
    "\n",
    "\n",
    "\"\"\", con)\n",
    "\n",
    "sql_query_df"
   ]
  },
  {
   "cell_type": "markdown",
   "metadata": {
    "slideshow": {
     "slide_type": "slide"
    }
   },
   "source": [
    "Get count of non-missing entries in a given field:\n",
    "\n",
    "\n",
    "SELECT COUNT(field_name)\n",
    "FROM table"
   ]
  },
  {
   "cell_type": "code",
   "execution_count": 22,
   "metadata": {
    "slideshow": {
     "slide_type": "fragment"
    }
   },
   "outputs": [
    {
     "data": {
      "text/html": [
       "<div>\n",
       "<style scoped>\n",
       "    .dataframe tbody tr th:only-of-type {\n",
       "        vertical-align: middle;\n",
       "    }\n",
       "\n",
       "    .dataframe tbody tr th {\n",
       "        vertical-align: top;\n",
       "    }\n",
       "\n",
       "    .dataframe thead th {\n",
       "        text-align: right;\n",
       "    }\n",
       "</style>\n",
       "<table border=\"1\" class=\"dataframe\">\n",
       "  <thead>\n",
       "    <tr style=\"text-align: right;\">\n",
       "      <th></th>\n",
       "      <th>code_count</th>\n",
       "    </tr>\n",
       "  </thead>\n",
       "  <tbody>\n",
       "    <tr>\n",
       "      <th>0</th>\n",
       "      <td>5880</td>\n",
       "    </tr>\n",
       "  </tbody>\n",
       "</table>\n",
       "</div>"
      ],
      "text/plain": [
       "   code_count\n",
       "0        5880"
      ]
     },
     "execution_count": 22,
     "metadata": {},
     "output_type": "execute_result"
    }
   ],
   "source": [
    "sql_query_df = pd.read_sql(\"\"\"\n",
    "\n",
    "SELECT COUNT(code) as code_count\n",
    "FROM airports\n",
    "\n",
    "\n",
    "\n",
    "\"\"\", con)\n",
    "\n",
    "sql_query_df"
   ]
  },
  {
   "cell_type": "markdown",
   "metadata": {
    "slideshow": {
     "slide_type": "slide"
    }
   },
   "source": [
    "Distinct countries in country field of airports table:"
   ]
  },
  {
   "cell_type": "code",
   "execution_count": 23,
   "metadata": {
    "slideshow": {
     "slide_type": "fragment"
    }
   },
   "outputs": [
    {
     "data": {
      "text/html": [
       "<div>\n",
       "<style scoped>\n",
       "    .dataframe tbody tr th:only-of-type {\n",
       "        vertical-align: middle;\n",
       "    }\n",
       "\n",
       "    .dataframe tbody tr th {\n",
       "        vertical-align: top;\n",
       "    }\n",
       "\n",
       "    .dataframe thead th {\n",
       "        text-align: right;\n",
       "    }\n",
       "</style>\n",
       "<table border=\"1\" class=\"dataframe\">\n",
       "  <thead>\n",
       "    <tr style=\"text-align: right;\">\n",
       "      <th></th>\n",
       "      <th>country_count</th>\n",
       "    </tr>\n",
       "  </thead>\n",
       "  <tbody>\n",
       "    <tr>\n",
       "      <th>0</th>\n",
       "      <td>240</td>\n",
       "    </tr>\n",
       "  </tbody>\n",
       "</table>\n",
       "</div>"
      ],
      "text/plain": [
       "   country_count\n",
       "0            240"
      ]
     },
     "execution_count": 23,
     "metadata": {},
     "output_type": "execute_result"
    }
   ],
   "source": [
    "sql_query_df = pd.read_sql(\"\"\"\n",
    "\n",
    "SELECT COUNT(Distinct country) as country_count\n",
    "FROM airports\n",
    "\n",
    "\n",
    "\"\"\", con)\n",
    "\n",
    "sql_query_df"
   ]
  },
  {
   "cell_type": "markdown",
   "metadata": {
    "slideshow": {
     "slide_type": "slide"
    }
   },
   "source": [
    "Let's take a look at our original table again."
   ]
  },
  {
   "cell_type": "code",
   "execution_count": 24,
   "metadata": {
    "cell_style": "center",
    "hidden": true,
    "slideshow": {
     "slide_type": "fragment"
    }
   },
   "outputs": [
    {
     "data": {
      "text/html": [
       "<div>\n",
       "<style scoped>\n",
       "    .dataframe tbody tr th:only-of-type {\n",
       "        vertical-align: middle;\n",
       "    }\n",
       "\n",
       "    .dataframe tbody tr th {\n",
       "        vertical-align: top;\n",
       "    }\n",
       "\n",
       "    .dataframe thead th {\n",
       "        text-align: right;\n",
       "    }\n",
       "</style>\n",
       "<table border=\"1\" class=\"dataframe\">\n",
       "  <thead>\n",
       "    <tr style=\"text-align: right;\">\n",
       "      <th></th>\n",
       "      <th>index</th>\n",
       "      <th>id</th>\n",
       "      <th>name</th>\n",
       "      <th>city</th>\n",
       "      <th>country</th>\n",
       "      <th>code</th>\n",
       "      <th>icao</th>\n",
       "      <th>latitude</th>\n",
       "      <th>longitude</th>\n",
       "      <th>altitude</th>\n",
       "      <th>offset</th>\n",
       "      <th>dst</th>\n",
       "      <th>timezone</th>\n",
       "    </tr>\n",
       "  </thead>\n",
       "  <tbody>\n",
       "    <tr>\n",
       "      <th>0</th>\n",
       "      <td>0</td>\n",
       "      <td>1</td>\n",
       "      <td>Goroka</td>\n",
       "      <td>Goroka</td>\n",
       "      <td>Papua New Guinea</td>\n",
       "      <td>GKA</td>\n",
       "      <td>AYGA</td>\n",
       "      <td>-6.081689</td>\n",
       "      <td>145.391881</td>\n",
       "      <td>5282</td>\n",
       "      <td>10</td>\n",
       "      <td>U</td>\n",
       "      <td>Pacific/Port_Moresby</td>\n",
       "    </tr>\n",
       "    <tr>\n",
       "      <th>1</th>\n",
       "      <td>1</td>\n",
       "      <td>2</td>\n",
       "      <td>Madang</td>\n",
       "      <td>Madang</td>\n",
       "      <td>Papua New Guinea</td>\n",
       "      <td>MAG</td>\n",
       "      <td>AYMD</td>\n",
       "      <td>-5.207083</td>\n",
       "      <td>145.7887</td>\n",
       "      <td>20</td>\n",
       "      <td>10</td>\n",
       "      <td>U</td>\n",
       "      <td>Pacific/Port_Moresby</td>\n",
       "    </tr>\n",
       "    <tr>\n",
       "      <th>2</th>\n",
       "      <td>2</td>\n",
       "      <td>3</td>\n",
       "      <td>Mount Hagen</td>\n",
       "      <td>Mount Hagen</td>\n",
       "      <td>Papua New Guinea</td>\n",
       "      <td>HGU</td>\n",
       "      <td>AYMH</td>\n",
       "      <td>-5.826789</td>\n",
       "      <td>144.295861</td>\n",
       "      <td>5388</td>\n",
       "      <td>10</td>\n",
       "      <td>U</td>\n",
       "      <td>Pacific/Port_Moresby</td>\n",
       "    </tr>\n",
       "    <tr>\n",
       "      <th>3</th>\n",
       "      <td>3</td>\n",
       "      <td>4</td>\n",
       "      <td>Nadzab</td>\n",
       "      <td>Nadzab</td>\n",
       "      <td>Papua New Guinea</td>\n",
       "      <td>LAE</td>\n",
       "      <td>AYNZ</td>\n",
       "      <td>-6.569828</td>\n",
       "      <td>146.726242</td>\n",
       "      <td>239</td>\n",
       "      <td>10</td>\n",
       "      <td>U</td>\n",
       "      <td>Pacific/Port_Moresby</td>\n",
       "    </tr>\n",
       "    <tr>\n",
       "      <th>4</th>\n",
       "      <td>4</td>\n",
       "      <td>5</td>\n",
       "      <td>Port Moresby Jacksons Intl</td>\n",
       "      <td>Port Moresby</td>\n",
       "      <td>Papua New Guinea</td>\n",
       "      <td>POM</td>\n",
       "      <td>AYPY</td>\n",
       "      <td>-9.443383</td>\n",
       "      <td>147.22005</td>\n",
       "      <td>146</td>\n",
       "      <td>10</td>\n",
       "      <td>U</td>\n",
       "      <td>Pacific/Port_Moresby</td>\n",
       "    </tr>\n",
       "  </tbody>\n",
       "</table>\n",
       "</div>"
      ],
      "text/plain": [
       "   index id                        name          city           country code  \\\n",
       "0      0  1                      Goroka        Goroka  Papua New Guinea  GKA   \n",
       "1      1  2                      Madang        Madang  Papua New Guinea  MAG   \n",
       "2      2  3                 Mount Hagen   Mount Hagen  Papua New Guinea  HGU   \n",
       "3      3  4                      Nadzab        Nadzab  Papua New Guinea  LAE   \n",
       "4      4  5  Port Moresby Jacksons Intl  Port Moresby  Papua New Guinea  POM   \n",
       "\n",
       "   icao   latitude   longitude altitude offset dst              timezone  \n",
       "0  AYGA  -6.081689  145.391881     5282     10   U  Pacific/Port_Moresby  \n",
       "1  AYMD  -5.207083    145.7887       20     10   U  Pacific/Port_Moresby  \n",
       "2  AYMH  -5.826789  144.295861     5388     10   U  Pacific/Port_Moresby  \n",
       "3  AYNZ  -6.569828  146.726242      239     10   U  Pacific/Port_Moresby  \n",
       "4  AYPY  -9.443383   147.22005      146     10   U  Pacific/Port_Moresby  "
      ]
     },
     "execution_count": 24,
     "metadata": {},
     "output_type": "execute_result"
    }
   ],
   "source": [
    "sql_query_df = pd.read_sql(\"\"\"\n",
    "\n",
    "SELECT * \n",
    "FROM airports\n",
    "LIMIT 5\n",
    "\n",
    "\"\"\", con)\n",
    "\n",
    "sql_query_df"
   ]
  },
  {
   "cell_type": "markdown",
   "metadata": {
    "slideshow": {
     "slide_type": "slide"
    }
   },
   "source": [
    "Get maximum altitude in dataset along with corresponding airport. "
   ]
  },
  {
   "cell_type": "code",
   "execution_count": 25,
   "metadata": {
    "hidden": true,
    "slideshow": {
     "slide_type": "fragment"
    }
   },
   "outputs": [
    {
     "data": {
      "text/html": [
       "<div>\n",
       "<style scoped>\n",
       "    .dataframe tbody tr th:only-of-type {\n",
       "        vertical-align: middle;\n",
       "    }\n",
       "\n",
       "    .dataframe tbody tr th {\n",
       "        vertical-align: top;\n",
       "    }\n",
       "\n",
       "    .dataframe thead th {\n",
       "        text-align: right;\n",
       "    }\n",
       "</style>\n",
       "<table border=\"1\" class=\"dataframe\">\n",
       "  <thead>\n",
       "    <tr style=\"text-align: right;\">\n",
       "      <th></th>\n",
       "      <th>Airport Name</th>\n",
       "      <th>Altitude (ft)</th>\n",
       "    </tr>\n",
       "  </thead>\n",
       "  <tbody>\n",
       "    <tr>\n",
       "      <th>0</th>\n",
       "      <td>Dauphin Barker</td>\n",
       "      <td>999</td>\n",
       "    </tr>\n",
       "  </tbody>\n",
       "</table>\n",
       "</div>"
      ],
      "text/plain": [
       "     Airport Name Altitude (ft)\n",
       "0  Dauphin Barker           999"
      ]
     },
     "execution_count": 25,
     "metadata": {},
     "output_type": "execute_result"
    }
   ],
   "source": [
    "sql_query_df = pd.read_sql(\"\"\"\n",
    "\n",
    "SELECT name AS \"Airport Name\", \n",
    "    MAX(altitude) AS \"Altitude (ft)\"      \n",
    "FROM airports\n",
    "\n",
    "\"\"\", con)\n",
    "\n",
    "sql_query_df\n"
   ]
  },
  {
   "cell_type": "markdown",
   "metadata": {
    "slideshow": {
     "slide_type": "slide"
    }
   },
   "source": [
    "Something is wrong here. Make sure that your column is the right datatype for the function to avoid unexpected results."
   ]
  },
  {
   "cell_type": "code",
   "execution_count": 26,
   "metadata": {
    "slideshow": {
     "slide_type": "fragment"
    }
   },
   "outputs": [
    {
     "name": "stdout",
     "output_type": "stream",
     "text": [
      "CREATE TABLE airports (\r\n",
      "[index] INTEGER,\r\n",
      "  [id] TEXT,\r\n",
      "  [name] TEXT,\r\n",
      "  [city] TEXT,\r\n",
      "  [country] TEXT,\r\n",
      "  [code] TEXT,\r\n",
      "  [icao] TEXT,\r\n",
      "  [latitude] TEXT,\r\n",
      "  [longitude] TEXT,\r\n",
      "  [altitude] TEXT,\r\n",
      "  [offset] TEXT,\r\n",
      "  [dst] TEXT,\r\n",
      "  [timezone] TEXT\r\n",
      ");\r\n",
      "CREATE INDEX ix_airports_index ON airports ([index]);\r\n"
     ]
    }
   ],
   "source": [
    "%%bash\n",
    "sqlite3 data/flights.db\n",
    ".schema airports"
   ]
  },
  {
   "cell_type": "markdown",
   "metadata": {
    "heading_collapsed": true,
    "hidden": true,
    "slideshow": {
     "slide_type": "slide"
    }
   },
   "source": [
    "#### `CAST()`\n",
    "\n",
    "- can enforce typing on a given field."
   ]
  },
  {
   "cell_type": "code",
   "execution_count": 27,
   "metadata": {
    "hidden": true,
    "slideshow": {
     "slide_type": "fragment"
    }
   },
   "outputs": [
    {
     "data": {
      "text/html": [
       "<div>\n",
       "<style scoped>\n",
       "    .dataframe tbody tr th:only-of-type {\n",
       "        vertical-align: middle;\n",
       "    }\n",
       "\n",
       "    .dataframe tbody tr th {\n",
       "        vertical-align: top;\n",
       "    }\n",
       "\n",
       "    .dataframe thead th {\n",
       "        text-align: right;\n",
       "    }\n",
       "</style>\n",
       "<table border=\"1\" class=\"dataframe\">\n",
       "  <thead>\n",
       "    <tr style=\"text-align: right;\">\n",
       "      <th></th>\n",
       "      <th>Airport Name</th>\n",
       "      <th>Altitude (ft)</th>\n",
       "    </tr>\n",
       "  </thead>\n",
       "  <tbody>\n",
       "    <tr>\n",
       "      <th>0</th>\n",
       "      <td>Yading Daocheng</td>\n",
       "      <td>14472</td>\n",
       "    </tr>\n",
       "  </tbody>\n",
       "</table>\n",
       "</div>"
      ],
      "text/plain": [
       "      Airport Name  Altitude (ft)\n",
       "0  Yading Daocheng          14472"
      ]
     },
     "execution_count": 27,
     "metadata": {},
     "output_type": "execute_result"
    }
   ],
   "source": [
    "sql_query_df = pd.read_sql(\"\"\"\n",
    "\n",
    "SELECT name AS \"Airport Name\", \n",
    "       MAX(CAST(altitude as int )) AS \"Altitude (ft)\"\n",
    "       \n",
    "FROM airports\n",
    "\n",
    "\"\"\", con)\n",
    "\n",
    "sql_query_df"
   ]
  },
  {
   "cell_type": "markdown",
   "metadata": {
    "slideshow": {
     "slide_type": "slide"
    }
   },
   "source": [
    "Let's get the average altitude:"
   ]
  },
  {
   "cell_type": "code",
   "execution_count": 28,
   "metadata": {
    "slideshow": {
     "slide_type": "fragment"
    }
   },
   "outputs": [
    {
     "data": {
      "text/html": [
       "<div>\n",
       "<style scoped>\n",
       "    .dataframe tbody tr th:only-of-type {\n",
       "        vertical-align: middle;\n",
       "    }\n",
       "\n",
       "    .dataframe tbody tr th {\n",
       "        vertical-align: top;\n",
       "    }\n",
       "\n",
       "    .dataframe thead th {\n",
       "        text-align: right;\n",
       "    }\n",
       "</style>\n",
       "<table border=\"1\" class=\"dataframe\">\n",
       "  <thead>\n",
       "    <tr style=\"text-align: right;\">\n",
       "      <th></th>\n",
       "      <th>Average Altitude (ft)</th>\n",
       "    </tr>\n",
       "  </thead>\n",
       "  <tbody>\n",
       "    <tr>\n",
       "      <th>0</th>\n",
       "      <td>933.449365</td>\n",
       "    </tr>\n",
       "  </tbody>\n",
       "</table>\n",
       "</div>"
      ],
      "text/plain": [
       "   Average Altitude (ft)\n",
       "0             933.449365"
      ]
     },
     "execution_count": 28,
     "metadata": {},
     "output_type": "execute_result"
    }
   ],
   "source": [
    "sql_query_df = pd.read_sql(\"\"\"\n",
    "\n",
    "SELECT AVG(CAST(altitude as int)) AS \"Average Altitude (ft)\"\n",
    "FROM airports\n",
    "\n",
    "\"\"\", con)\n",
    "\n",
    "sql_query_df"
   ]
  },
  {
   "cell_type": "markdown",
   "metadata": {
    "slideshow": {
     "slide_type": "slide"
    }
   },
   "source": [
    "#### Exercise\n",
    "\n",
    "\n",
    "Which country has the northern-most airport? \n",
    "\n",
    "> _Hint: Look for the highest latitude_"
   ]
  },
  {
   "cell_type": "code",
   "execution_count": 31,
   "metadata": {
    "slideshow": {
     "slide_type": "fragment"
    }
   },
   "outputs": [
    {
     "data": {
      "text/html": [
       "<div>\n",
       "<style scoped>\n",
       "    .dataframe tbody tr th:only-of-type {\n",
       "        vertical-align: middle;\n",
       "    }\n",
       "\n",
       "    .dataframe tbody tr th {\n",
       "        vertical-align: top;\n",
       "    }\n",
       "\n",
       "    .dataframe thead th {\n",
       "        text-align: right;\n",
       "    }\n",
       "</style>\n",
       "<table border=\"1\" class=\"dataframe\">\n",
       "  <thead>\n",
       "    <tr style=\"text-align: right;\">\n",
       "      <th></th>\n",
       "      <th>airport_name</th>\n",
       "      <th>country</th>\n",
       "      <th>MAX(CAST(latitude AS float))</th>\n",
       "    </tr>\n",
       "  </thead>\n",
       "  <tbody>\n",
       "    <tr>\n",
       "      <th>0</th>\n",
       "      <td>Alert</td>\n",
       "      <td>Canada</td>\n",
       "      <td>82.517778</td>\n",
       "    </tr>\n",
       "  </tbody>\n",
       "</table>\n",
       "</div>"
      ],
      "text/plain": [
       "  airport_name country  MAX(CAST(latitude AS float))\n",
       "0        Alert  Canada                     82.517778"
      ]
     },
     "execution_count": 31,
     "metadata": {},
     "output_type": "execute_result"
    }
   ],
   "source": [
    "pd.read_sql(\"\"\"\n",
    "\n",
    "SELECT name AS airport_name, country, MAX(CAST(latitude AS float))\n",
    "FROM airports\n",
    "\n",
    "\n",
    "\"\"\", con)"
   ]
  },
  {
   "cell_type": "markdown",
   "metadata": {
    "hidden": true,
    "slideshow": {
     "slide_type": "fragment"
    }
   },
   "source": [
    "<details>\n",
    "    <summary><b><u>Click Here for Answer Code</u></b></summary>\n",
    "\n",
    "```python \n",
    "pd.read_sql(\"\"\"\n",
    "            \n",
    "SELECT name AS airport_name, country, MAX(CAST(latitude AS float))\n",
    "FROM airports\n",
    "\n",
    "\n",
    "\"\"\", con)\n",
    "\n",
    "```\n",
    "</details>"
   ]
  },
  {
   "cell_type": "markdown",
   "metadata": {
    "slideshow": {
     "slide_type": "slide"
    }
   },
   "source": [
    "So far:\n",
    "- Selecting fields (columns) and computing functions of them.\n",
    "\n",
    "Want to: \n",
    "- Select records (rows) matching particular criteria."
   ]
  },
  {
   "cell_type": "markdown",
   "metadata": {
    "cell_style": "center",
    "heading_collapsed": true,
    "hidden": true,
    "slideshow": {
     "slide_type": "slide"
    }
   },
   "source": [
    "#### WHERE: Selecting rows via filtering\n",
    "\n",
    "SELECT columns\n",
    "<br>\n",
    "FROM table\n",
    "<br>\n",
    "WHERE filter_column meets condition"
   ]
  },
  {
   "cell_type": "markdown",
   "metadata": {
    "cell_style": "center",
    "slideshow": {
     "slide_type": "slide"
    }
   },
   "source": [
    "#### Filtering by comparison: WHERE statement\n",
    "\n",
    "Commonly filter by how column compares to a value.\n",
    "\n",
    "SELECT column1, column2 \n",
    "FROM table\n",
    "WHERE column2 > number\n",
    "\n",
    "| Operator | Meaning | \n",
    "| --- | --- |\n",
    "| \\= | equal |\n",
    "| \\<> | not equal |\n",
    "| \\<  |  less than |\n",
    "| \\> | greater than |\n",
    "| \\<=  | less than or equal to |\n",
    "| \\>= | greater than or equal to |\n"
   ]
  },
  {
   "cell_type": "markdown",
   "metadata": {
    "slideshow": {
     "slide_type": "slide"
    }
   },
   "source": [
    "**Example**\n",
    "\n",
    "Get a airport, their name, city and country for which the airport's altitude is less than sea level."
   ]
  },
  {
   "cell_type": "code",
   "execution_count": 32,
   "metadata": {
    "hidden": true,
    "slideshow": {
     "slide_type": "fragment"
    }
   },
   "outputs": [
    {
     "data": {
      "text/html": [
       "<div>\n",
       "<style scoped>\n",
       "    .dataframe tbody tr th:only-of-type {\n",
       "        vertical-align: middle;\n",
       "    }\n",
       "\n",
       "    .dataframe tbody tr th {\n",
       "        vertical-align: top;\n",
       "    }\n",
       "\n",
       "    .dataframe thead th {\n",
       "        text-align: right;\n",
       "    }\n",
       "</style>\n",
       "<table border=\"1\" class=\"dataframe\">\n",
       "  <thead>\n",
       "    <tr style=\"text-align: right;\">\n",
       "      <th></th>\n",
       "      <th>name</th>\n",
       "      <th>city</th>\n",
       "      <th>country</th>\n",
       "      <th>altit</th>\n",
       "    </tr>\n",
       "  </thead>\n",
       "  <tbody>\n",
       "    <tr>\n",
       "      <th>0</th>\n",
       "      <td>Schiphol</td>\n",
       "      <td>Amsterdam</td>\n",
       "      <td>Netherlands</td>\n",
       "      <td>-11</td>\n",
       "    </tr>\n",
       "    <tr>\n",
       "      <th>1</th>\n",
       "      <td>Lelystad</td>\n",
       "      <td>Lelystad</td>\n",
       "      <td>Netherlands</td>\n",
       "      <td>-13</td>\n",
       "    </tr>\n",
       "    <tr>\n",
       "      <th>2</th>\n",
       "      <td>Rotterdam</td>\n",
       "      <td>Rotterdam</td>\n",
       "      <td>Netherlands</td>\n",
       "      <td>-15</td>\n",
       "    </tr>\n",
       "    <tr>\n",
       "      <th>3</th>\n",
       "      <td>Alexandria Intl</td>\n",
       "      <td>Alexandria</td>\n",
       "      <td>Egypt</td>\n",
       "      <td>-6</td>\n",
       "    </tr>\n",
       "    <tr>\n",
       "      <th>4</th>\n",
       "      <td>En Yahav</td>\n",
       "      <td>Eyn-yahav</td>\n",
       "      <td>Israel</td>\n",
       "      <td>-164</td>\n",
       "    </tr>\n",
       "    <tr>\n",
       "      <th>5</th>\n",
       "      <td>I Bar Yehuda</td>\n",
       "      <td>Metzada</td>\n",
       "      <td>Israel</td>\n",
       "      <td>-1266</td>\n",
       "    </tr>\n",
       "    <tr>\n",
       "      <th>6</th>\n",
       "      <td>Rasht</td>\n",
       "      <td>Rasht</td>\n",
       "      <td>Iran</td>\n",
       "      <td>-40</td>\n",
       "    </tr>\n",
       "    <tr>\n",
       "      <th>7</th>\n",
       "      <td>Ramsar</td>\n",
       "      <td>Ramsar</td>\n",
       "      <td>Iran</td>\n",
       "      <td>-70</td>\n",
       "    </tr>\n",
       "    <tr>\n",
       "      <th>8</th>\n",
       "      <td>Astrakhan</td>\n",
       "      <td>Astrakhan</td>\n",
       "      <td>Russia</td>\n",
       "      <td>-65</td>\n",
       "    </tr>\n",
       "    <tr>\n",
       "      <th>9</th>\n",
       "      <td>Imperial Co</td>\n",
       "      <td>Imperial</td>\n",
       "      <td>United States</td>\n",
       "      <td>-54</td>\n",
       "    </tr>\n",
       "    <tr>\n",
       "      <th>10</th>\n",
       "      <td>El Centro Naf</td>\n",
       "      <td>El Centro</td>\n",
       "      <td>United States</td>\n",
       "      <td>-42</td>\n",
       "    </tr>\n",
       "    <tr>\n",
       "      <th>11</th>\n",
       "      <td>Noshahr Airport</td>\n",
       "      <td>Noshahr</td>\n",
       "      <td>Iran</td>\n",
       "      <td>-61</td>\n",
       "    </tr>\n",
       "    <tr>\n",
       "      <th>12</th>\n",
       "      <td>Gorgan Airport</td>\n",
       "      <td>Gorgan</td>\n",
       "      <td>Iran</td>\n",
       "      <td>-24</td>\n",
       "    </tr>\n",
       "  </tbody>\n",
       "</table>\n",
       "</div>"
      ],
      "text/plain": [
       "               name        city        country  altit\n",
       "0          Schiphol   Amsterdam    Netherlands    -11\n",
       "1          Lelystad    Lelystad    Netherlands    -13\n",
       "2         Rotterdam   Rotterdam    Netherlands    -15\n",
       "3   Alexandria Intl  Alexandria          Egypt     -6\n",
       "4          En Yahav   Eyn-yahav         Israel   -164\n",
       "5      I Bar Yehuda     Metzada         Israel  -1266\n",
       "6             Rasht       Rasht           Iran    -40\n",
       "7            Ramsar      Ramsar           Iran    -70\n",
       "8         Astrakhan   Astrakhan         Russia    -65\n",
       "9       Imperial Co    Imperial  United States    -54\n",
       "10    El Centro Naf   El Centro  United States    -42\n",
       "11  Noshahr Airport     Noshahr           Iran    -61\n",
       "12   Gorgan Airport      Gorgan           Iran    -24"
      ]
     },
     "execution_count": 32,
     "metadata": {},
     "output_type": "execute_result"
    }
   ],
   "source": [
    "sql_query_df = pd.read_sql(\"\"\"\n",
    "SELECT name, city, country,\n",
    "CAST(altitude AS int) AS altit\n",
    "\n",
    "FROM airports\n",
    "\n",
    "WHERE altit < 0\n",
    "\n",
    "\n",
    "\"\"\", con)\n",
    "\n",
    "sql_query_df"
   ]
  },
  {
   "cell_type": "markdown",
   "metadata": {
    "slideshow": {
     "slide_type": "slide"
    }
   },
   "source": [
    "#### NOT operator\n",
    "- Before conditional in `WHERE` clause.\n",
    "- Negates conditional."
   ]
  },
  {
   "cell_type": "code",
   "execution_count": 33,
   "metadata": {
    "slideshow": {
     "slide_type": "slide"
    }
   },
   "outputs": [
    {
     "data": {
      "text/html": [
       "<div>\n",
       "<style scoped>\n",
       "    .dataframe tbody tr th:only-of-type {\n",
       "        vertical-align: middle;\n",
       "    }\n",
       "\n",
       "    .dataframe tbody tr th {\n",
       "        vertical-align: top;\n",
       "    }\n",
       "\n",
       "    .dataframe thead th {\n",
       "        text-align: right;\n",
       "    }\n",
       "</style>\n",
       "<table border=\"1\" class=\"dataframe\">\n",
       "  <thead>\n",
       "    <tr style=\"text-align: right;\">\n",
       "      <th></th>\n",
       "      <th>Airport Name</th>\n",
       "      <th>Airport Latitude</th>\n",
       "      <th>Altitude (ft)</th>\n",
       "    </tr>\n",
       "  </thead>\n",
       "  <tbody>\n",
       "    <tr>\n",
       "      <th>0</th>\n",
       "      <td>El Alto Intl</td>\n",
       "      <td>-16.513339</td>\n",
       "      <td>13325</td>\n",
       "    </tr>\n",
       "    <tr>\n",
       "      <th>1</th>\n",
       "      <td>Capitan Nicolas Rojas</td>\n",
       "      <td>-19.543069</td>\n",
       "      <td>12913</td>\n",
       "    </tr>\n",
       "    <tr>\n",
       "      <th>2</th>\n",
       "      <td>Juliaca</td>\n",
       "      <td>-15.467103</td>\n",
       "      <td>12552</td>\n",
       "    </tr>\n",
       "    <tr>\n",
       "      <th>3</th>\n",
       "      <td>Lhasa-Gonggar</td>\n",
       "      <td>29.297778</td>\n",
       "      <td>13136</td>\n",
       "    </tr>\n",
       "    <tr>\n",
       "      <th>4</th>\n",
       "      <td>Qamdo Bangda Airport</td>\n",
       "      <td>30.553600</td>\n",
       "      <td>14219</td>\n",
       "    </tr>\n",
       "    <tr>\n",
       "      <th>5</th>\n",
       "      <td>Irkutsk-2</td>\n",
       "      <td>52.367800</td>\n",
       "      <td>13411</td>\n",
       "    </tr>\n",
       "    <tr>\n",
       "      <th>6</th>\n",
       "      <td>Yushu Batang</td>\n",
       "      <td>32.825000</td>\n",
       "      <td>13000</td>\n",
       "    </tr>\n",
       "    <tr>\n",
       "      <th>7</th>\n",
       "      <td>Gunsa</td>\n",
       "      <td>32.100270</td>\n",
       "      <td>13780</td>\n",
       "    </tr>\n",
       "    <tr>\n",
       "      <th>8</th>\n",
       "      <td>Kangding Airport</td>\n",
       "      <td>30.157500</td>\n",
       "      <td>14042</td>\n",
       "    </tr>\n",
       "    <tr>\n",
       "      <th>9</th>\n",
       "      <td>Copacabana Airport</td>\n",
       "      <td>-16.183326</td>\n",
       "      <td>12591</td>\n",
       "    </tr>\n",
       "    <tr>\n",
       "      <th>10</th>\n",
       "      <td>Yading Daocheng</td>\n",
       "      <td>29.323100</td>\n",
       "      <td>14472</td>\n",
       "    </tr>\n",
       "  </tbody>\n",
       "</table>\n",
       "</div>"
      ],
      "text/plain": [
       "             Airport Name  Airport Latitude  Altitude (ft)\n",
       "0            El Alto Intl        -16.513339          13325\n",
       "1   Capitan Nicolas Rojas        -19.543069          12913\n",
       "2                 Juliaca        -15.467103          12552\n",
       "3           Lhasa-Gonggar         29.297778          13136\n",
       "4    Qamdo Bangda Airport         30.553600          14219\n",
       "5               Irkutsk-2         52.367800          13411\n",
       "6            Yushu Batang         32.825000          13000\n",
       "7                   Gunsa         32.100270          13780\n",
       "8        Kangding Airport         30.157500          14042\n",
       "9      Copacabana Airport        -16.183326          12591\n",
       "10        Yading Daocheng         29.323100          14472"
      ]
     },
     "execution_count": 33,
     "metadata": {},
     "output_type": "execute_result"
    }
   ],
   "source": [
    "sql_query_df = pd.read_sql(\"\"\"\n",
    "\n",
    "SELECT name AS \"Airport Name\", \n",
    "       CAST(latitude AS float) AS \"Airport Latitude\",\n",
    "       CAST(altitude AS int) AS \"Altitude (ft)\"\n",
    "       \n",
    "FROM airports\n",
    "\n",
    "WHERE NOT \"Altitude (ft)\" <= 12500\n",
    "\n",
    "\"\"\", con)\n",
    "\n",
    "sql_query_df"
   ]
  },
  {
   "cell_type": "markdown",
   "metadata": {
    "slideshow": {
     "slide_type": "slide"
    }
   },
   "source": [
    "#### Chaining conditionals for filtering\n",
    "- AND\n",
    "- OR\n"
   ]
  },
  {
   "cell_type": "markdown",
   "metadata": {
    "cell_style": "center",
    "slideshow": {
     "slide_type": "slide"
    }
   },
   "source": [
    "#### AND\n",
    "Get all airports with:\n",
    "- Altitude > 12500 ft.\n",
    "- Latitude > 30 degrees"
   ]
  },
  {
   "cell_type": "code",
   "execution_count": 34,
   "metadata": {
    "cell_style": "center",
    "slideshow": {
     "slide_type": "fragment"
    }
   },
   "outputs": [
    {
     "data": {
      "text/html": [
       "<div>\n",
       "<style scoped>\n",
       "    .dataframe tbody tr th:only-of-type {\n",
       "        vertical-align: middle;\n",
       "    }\n",
       "\n",
       "    .dataframe tbody tr th {\n",
       "        vertical-align: top;\n",
       "    }\n",
       "\n",
       "    .dataframe thead th {\n",
       "        text-align: right;\n",
       "    }\n",
       "</style>\n",
       "<table border=\"1\" class=\"dataframe\">\n",
       "  <thead>\n",
       "    <tr style=\"text-align: right;\">\n",
       "      <th></th>\n",
       "      <th>Airport Name</th>\n",
       "      <th>Airport Latitude</th>\n",
       "      <th>Altitude (ft)</th>\n",
       "    </tr>\n",
       "  </thead>\n",
       "  <tbody>\n",
       "    <tr>\n",
       "      <th>0</th>\n",
       "      <td>Qamdo Bangda Airport</td>\n",
       "      <td>30.55360</td>\n",
       "      <td>14219</td>\n",
       "    </tr>\n",
       "    <tr>\n",
       "      <th>1</th>\n",
       "      <td>Irkutsk-2</td>\n",
       "      <td>52.36780</td>\n",
       "      <td>13411</td>\n",
       "    </tr>\n",
       "    <tr>\n",
       "      <th>2</th>\n",
       "      <td>Yushu Batang</td>\n",
       "      <td>32.82500</td>\n",
       "      <td>13000</td>\n",
       "    </tr>\n",
       "    <tr>\n",
       "      <th>3</th>\n",
       "      <td>Gunsa</td>\n",
       "      <td>32.10027</td>\n",
       "      <td>13780</td>\n",
       "    </tr>\n",
       "    <tr>\n",
       "      <th>4</th>\n",
       "      <td>Kangding Airport</td>\n",
       "      <td>30.15750</td>\n",
       "      <td>14042</td>\n",
       "    </tr>\n",
       "  </tbody>\n",
       "</table>\n",
       "</div>"
      ],
      "text/plain": [
       "           Airport Name  Airport Latitude  Altitude (ft)\n",
       "0  Qamdo Bangda Airport          30.55360          14219\n",
       "1             Irkutsk-2          52.36780          13411\n",
       "2          Yushu Batang          32.82500          13000\n",
       "3                 Gunsa          32.10027          13780\n",
       "4      Kangding Airport          30.15750          14042"
      ]
     },
     "execution_count": 34,
     "metadata": {},
     "output_type": "execute_result"
    }
   ],
   "source": [
    "sql_query_df = pd.read_sql(\"\"\"\n",
    "\n",
    "SELECT name AS \"Airport Name\", \n",
    "       CAST(latitude AS float) AS \"Airport Latitude\",\n",
    "       CAST(altitude AS int) AS \"Altitude (ft)\"\n",
    "       \n",
    "FROM airports\n",
    "\n",
    "WHERE \"Altitude (ft)\" > 12500 AND \"Airport Latitude\" > 30\n",
    "\n",
    "\"\"\", con)\n",
    "\n",
    "sql_query_df"
   ]
  },
  {
   "cell_type": "markdown",
   "metadata": {
    "slideshow": {
     "slide_type": "slide"
    }
   },
   "source": [
    "#### OR\n",
    "Get all airports and their latitude/longitude in Iceland or Denmark."
   ]
  },
  {
   "cell_type": "code",
   "execution_count": 35,
   "metadata": {
    "slideshow": {
     "slide_type": "slide"
    }
   },
   "outputs": [
    {
     "data": {
      "text/html": [
       "<div>\n",
       "<style scoped>\n",
       "    .dataframe tbody tr th:only-of-type {\n",
       "        vertical-align: middle;\n",
       "    }\n",
       "\n",
       "    .dataframe tbody tr th {\n",
       "        vertical-align: top;\n",
       "    }\n",
       "\n",
       "    .dataframe thead th {\n",
       "        text-align: right;\n",
       "    }\n",
       "</style>\n",
       "<table border=\"1\" class=\"dataframe\">\n",
       "  <thead>\n",
       "    <tr style=\"text-align: right;\">\n",
       "      <th></th>\n",
       "      <th>Airport Name</th>\n",
       "      <th>country</th>\n",
       "      <th>Latitude</th>\n",
       "      <th>Longitude</th>\n",
       "    </tr>\n",
       "  </thead>\n",
       "  <tbody>\n",
       "    <tr>\n",
       "      <th>0</th>\n",
       "      <td>Akureyri</td>\n",
       "      <td>Iceland</td>\n",
       "      <td>65.659994</td>\n",
       "      <td>-18.072703</td>\n",
       "    </tr>\n",
       "    <tr>\n",
       "      <th>1</th>\n",
       "      <td>Egilsstadir</td>\n",
       "      <td>Iceland</td>\n",
       "      <td>65.283333</td>\n",
       "      <td>-14.401389</td>\n",
       "    </tr>\n",
       "    <tr>\n",
       "      <th>2</th>\n",
       "      <td>Hornafjordur</td>\n",
       "      <td>Iceland</td>\n",
       "      <td>64.295556</td>\n",
       "      <td>-15.227222</td>\n",
       "    </tr>\n",
       "    <tr>\n",
       "      <th>3</th>\n",
       "      <td>Husavik</td>\n",
       "      <td>Iceland</td>\n",
       "      <td>65.952328</td>\n",
       "      <td>-17.425978</td>\n",
       "    </tr>\n",
       "    <tr>\n",
       "      <th>4</th>\n",
       "      <td>Isafjordur</td>\n",
       "      <td>Iceland</td>\n",
       "      <td>66.058056</td>\n",
       "      <td>-23.135278</td>\n",
       "    </tr>\n",
       "    <tr>\n",
       "      <th>5</th>\n",
       "      <td>Keflavik International Airport</td>\n",
       "      <td>Iceland</td>\n",
       "      <td>63.985000</td>\n",
       "      <td>-22.605556</td>\n",
       "    </tr>\n",
       "    <tr>\n",
       "      <th>6</th>\n",
       "      <td>Patreksfjordur</td>\n",
       "      <td>Iceland</td>\n",
       "      <td>65.555833</td>\n",
       "      <td>-23.965000</td>\n",
       "    </tr>\n",
       "    <tr>\n",
       "      <th>7</th>\n",
       "      <td>Reykjavik</td>\n",
       "      <td>Iceland</td>\n",
       "      <td>64.130000</td>\n",
       "      <td>-21.940556</td>\n",
       "    </tr>\n",
       "    <tr>\n",
       "      <th>8</th>\n",
       "      <td>Siglufjordur</td>\n",
       "      <td>Iceland</td>\n",
       "      <td>66.133333</td>\n",
       "      <td>-18.916667</td>\n",
       "    </tr>\n",
       "    <tr>\n",
       "      <th>9</th>\n",
       "      <td>Vestmannaeyjar</td>\n",
       "      <td>Iceland</td>\n",
       "      <td>63.424303</td>\n",
       "      <td>-20.278875</td>\n",
       "    </tr>\n",
       "    <tr>\n",
       "      <th>10</th>\n",
       "      <td>Aarhus</td>\n",
       "      <td>Denmark</td>\n",
       "      <td>56.300017</td>\n",
       "      <td>10.619008</td>\n",
       "    </tr>\n",
       "    <tr>\n",
       "      <th>11</th>\n",
       "      <td>Billund</td>\n",
       "      <td>Denmark</td>\n",
       "      <td>55.740322</td>\n",
       "      <td>9.151778</td>\n",
       "    </tr>\n",
       "  </tbody>\n",
       "</table>\n",
       "</div>"
      ],
      "text/plain": [
       "                      Airport Name  country   Latitude  Longitude\n",
       "0                         Akureyri  Iceland  65.659994 -18.072703\n",
       "1                      Egilsstadir  Iceland  65.283333 -14.401389\n",
       "2                     Hornafjordur  Iceland  64.295556 -15.227222\n",
       "3                          Husavik  Iceland  65.952328 -17.425978\n",
       "4                       Isafjordur  Iceland  66.058056 -23.135278\n",
       "5   Keflavik International Airport  Iceland  63.985000 -22.605556\n",
       "6                   Patreksfjordur  Iceland  65.555833 -23.965000\n",
       "7                        Reykjavik  Iceland  64.130000 -21.940556\n",
       "8                     Siglufjordur  Iceland  66.133333 -18.916667\n",
       "9                   Vestmannaeyjar  Iceland  63.424303 -20.278875\n",
       "10                          Aarhus  Denmark  56.300017  10.619008\n",
       "11                         Billund  Denmark  55.740322   9.151778"
      ]
     },
     "execution_count": 35,
     "metadata": {},
     "output_type": "execute_result"
    }
   ],
   "source": [
    "sql_query_df = pd.read_sql(\"\"\"\n",
    "\n",
    "SELECT name AS \"Airport Name\", \n",
    "        country,\n",
    "       CAST(latitude AS float) AS \"Latitude\",\n",
    "       CAST(longitude AS float) AS \"Longitude\"\n",
    "       \n",
    "FROM airports\n",
    "\n",
    "WHERE country = \"Iceland\" OR country = \"Denmark\"\n",
    "\n",
    "\"\"\", con)\n",
    "\n",
    "sql_query_df.head(12)"
   ]
  },
  {
   "cell_type": "markdown",
   "metadata": {
    "slideshow": {
     "slide_type": "slide"
    }
   },
   "source": [
    "#### Exercise\n",
    "\n",
    "Get the name, lat/long, and altitude for the airport with the maximum altitude considering only airports in Chile and Argentina."
   ]
  },
  {
   "cell_type": "code",
   "execution_count": 36,
   "metadata": {
    "slideshow": {
     "slide_type": "fragment"
    }
   },
   "outputs": [
    {
     "data": {
      "text/html": [
       "<div>\n",
       "<style scoped>\n",
       "    .dataframe tbody tr th:only-of-type {\n",
       "        vertical-align: middle;\n",
       "    }\n",
       "\n",
       "    .dataframe tbody tr th {\n",
       "        vertical-align: top;\n",
       "    }\n",
       "\n",
       "    .dataframe thead th {\n",
       "        text-align: right;\n",
       "    }\n",
       "</style>\n",
       "<table border=\"1\" class=\"dataframe\">\n",
       "  <thead>\n",
       "    <tr style=\"text-align: right;\">\n",
       "      <th></th>\n",
       "      <th>airport_name</th>\n",
       "      <th>latitude</th>\n",
       "      <th>longitude</th>\n",
       "      <th>altitude</th>\n",
       "    </tr>\n",
       "  </thead>\n",
       "  <tbody>\n",
       "    <tr>\n",
       "      <th>0</th>\n",
       "      <td>La Quiaca</td>\n",
       "      <td>-22.150556</td>\n",
       "      <td>-65.5775</td>\n",
       "      <td>11414</td>\n",
       "    </tr>\n",
       "  </tbody>\n",
       "</table>\n",
       "</div>"
      ],
      "text/plain": [
       "  airport_name   latitude  longitude  altitude\n",
       "0    La Quiaca -22.150556   -65.5775     11414"
      ]
     },
     "execution_count": 36,
     "metadata": {},
     "output_type": "execute_result"
    }
   ],
   "source": [
    "sql_query_df = pd.read_sql(\"\"\"\n",
    "\n",
    "SELECT name AS airport_name,\n",
    "    CAST(latitude as float) AS latitude,\n",
    "    CAST(longitude as float) AS longitude,\n",
    "    MAX(CAST(altitude as int)) AS altitude\n",
    "\n",
    "    FROM airports\n",
    "\n",
    "    WHERE country = \"Chile\" OR country = \"Argentina\"\n",
    "\n",
    "\n",
    "\"\"\", con)\n",
    "\n",
    "sql_query_df"
   ]
  },
  {
   "cell_type": "markdown",
   "metadata": {
    "slideshow": {
     "slide_type": "fragment"
    }
   },
   "source": [
    "<details>\n",
    "    <summary><b><u>Click Here for Answer Code</u></b></summary>\n",
    "\n",
    "```python \n",
    "sql_query_df = pd.read_sql(\"\"\"\n",
    "\n",
    "SELECT name AS airport_name,\n",
    "    CAST(latitude as float) AS latitude,\n",
    "    CAST(longitude as float) AS longitude,\n",
    "    MAX(CAST(altitude as int)) AS altitude\n",
    "    \n",
    "    FROM airports\n",
    "    \n",
    "    WHERE country = \"Chile\" OR country = \"Argentina\"\n",
    "    \n",
    "\n",
    "\"\"\", con)\n",
    "\n",
    "sql_query_df\n",
    "\n",
    "```\n",
    "</details>"
   ]
  },
  {
   "cell_type": "markdown",
   "metadata": {
    "slideshow": {
     "slide_type": "slide"
    }
   },
   "source": [
    "#### BETWEEN\n",
    "\n",
    "- Writing multiple inequalities for selecting ranges with `WHERE` statement: annoying.\n",
    "\n",
    "- BETWEEN ... AND ... solves this problem.\n"
   ]
  },
  {
   "cell_type": "markdown",
   "metadata": {
    "slideshow": {
     "slide_type": "fragment"
    }
   },
   "source": [
    "#### Example \n",
    "Get the airport name, country, latitude, and longitude where latitude is between 48 and 51."
   ]
  },
  {
   "cell_type": "code",
   "execution_count": 39,
   "metadata": {
    "scrolled": true,
    "slideshow": {
     "slide_type": "slide"
    }
   },
   "outputs": [
    {
     "data": {
      "text/html": [
       "<div>\n",
       "<style scoped>\n",
       "    .dataframe tbody tr th:only-of-type {\n",
       "        vertical-align: middle;\n",
       "    }\n",
       "\n",
       "    .dataframe tbody tr th {\n",
       "        vertical-align: top;\n",
       "    }\n",
       "\n",
       "    .dataframe thead th {\n",
       "        text-align: right;\n",
       "    }\n",
       "</style>\n",
       "<table border=\"1\" class=\"dataframe\">\n",
       "  <thead>\n",
       "    <tr style=\"text-align: right;\">\n",
       "      <th></th>\n",
       "      <th>Airport Name</th>\n",
       "      <th>country</th>\n",
       "      <th>Latitude</th>\n",
       "      <th>Longitude</th>\n",
       "    </tr>\n",
       "  </thead>\n",
       "  <tbody>\n",
       "    <tr>\n",
       "      <th>0</th>\n",
       "      <td>Winnipeg St Andrews</td>\n",
       "      <td>Canada</td>\n",
       "      <td>50.056389</td>\n",
       "      <td>-97.032500</td>\n",
       "    </tr>\n",
       "    <tr>\n",
       "      <th>1</th>\n",
       "      <td>Tofino</td>\n",
       "      <td>Canada</td>\n",
       "      <td>49.082222</td>\n",
       "      <td>-125.772500</td>\n",
       "    </tr>\n",
       "    <tr>\n",
       "      <th>2</th>\n",
       "      <td>Baie Comeau</td>\n",
       "      <td>Canada</td>\n",
       "      <td>49.132500</td>\n",
       "      <td>-68.204444</td>\n",
       "    </tr>\n",
       "    <tr>\n",
       "      <th>3</th>\n",
       "      <td>Bagotville</td>\n",
       "      <td>Canada</td>\n",
       "      <td>48.330555</td>\n",
       "      <td>-70.996391</td>\n",
       "    </tr>\n",
       "    <tr>\n",
       "      <th>4</th>\n",
       "      <td>Campbell River</td>\n",
       "      <td>Canada</td>\n",
       "      <td>49.950832</td>\n",
       "      <td>-125.270833</td>\n",
       "    </tr>\n",
       "    <tr>\n",
       "      <th>...</th>\n",
       "      <td>...</td>\n",
       "      <td>...</td>\n",
       "      <td>...</td>\n",
       "      <td>...</td>\n",
       "    </tr>\n",
       "    <tr>\n",
       "      <th>562</th>\n",
       "      <td>Pender Harbour Water Aerodrome</td>\n",
       "      <td>Canada</td>\n",
       "      <td>49.616667</td>\n",
       "      <td>-124.016667</td>\n",
       "    </tr>\n",
       "    <tr>\n",
       "      <th>563</th>\n",
       "      <td>Mansons Landing Water Aerodrome</td>\n",
       "      <td>Canada</td>\n",
       "      <td>50.066667</td>\n",
       "      <td>-124.983333</td>\n",
       "    </tr>\n",
       "    <tr>\n",
       "      <th>564</th>\n",
       "      <td>Port McNeill Airport</td>\n",
       "      <td>Canada</td>\n",
       "      <td>50.575556</td>\n",
       "      <td>-127.028611</td>\n",
       "    </tr>\n",
       "    <tr>\n",
       "      <th>565</th>\n",
       "      <td>Sullivan Bay Water Aerodrome</td>\n",
       "      <td>Canada</td>\n",
       "      <td>50.883333</td>\n",
       "      <td>-126.833333</td>\n",
       "    </tr>\n",
       "    <tr>\n",
       "      <th>566</th>\n",
       "      <td>Deer Harbor Seaplane</td>\n",
       "      <td>United States</td>\n",
       "      <td>48.618397</td>\n",
       "      <td>-123.005960</td>\n",
       "    </tr>\n",
       "  </tbody>\n",
       "</table>\n",
       "<p>567 rows × 4 columns</p>\n",
       "</div>"
      ],
      "text/plain": [
       "                        Airport Name        country   Latitude   Longitude\n",
       "0                Winnipeg St Andrews         Canada  50.056389  -97.032500\n",
       "1                             Tofino         Canada  49.082222 -125.772500\n",
       "2                        Baie Comeau         Canada  49.132500  -68.204444\n",
       "3                         Bagotville         Canada  48.330555  -70.996391\n",
       "4                     Campbell River         Canada  49.950832 -125.270833\n",
       "..                               ...            ...        ...         ...\n",
       "562   Pender Harbour Water Aerodrome         Canada  49.616667 -124.016667\n",
       "563  Mansons Landing Water Aerodrome         Canada  50.066667 -124.983333\n",
       "564             Port McNeill Airport         Canada  50.575556 -127.028611\n",
       "565     Sullivan Bay Water Aerodrome         Canada  50.883333 -126.833333\n",
       "566             Deer Harbor Seaplane  United States  48.618397 -123.005960\n",
       "\n",
       "[567 rows x 4 columns]"
      ]
     },
     "execution_count": 39,
     "metadata": {},
     "output_type": "execute_result"
    }
   ],
   "source": [
    "sql_query_df = pd.read_sql(\"\"\"\n",
    "\n",
    "SELECT name AS \"Airport Name\", \n",
    "        country,\n",
    "       CAST(latitude AS float) AS \"Latitude\",\n",
    "       CAST(longitude AS float) AS \"Longitude\"\n",
    "       \n",
    "FROM airports\n",
    "\n",
    "WHERE Latitude BETWEEN 48 AND 51\n",
    "\"\"\", con)\n",
    "\n",
    "sql_query_df"
   ]
  },
  {
   "cell_type": "markdown",
   "metadata": {
    "slideshow": {
     "slide_type": "slide"
    }
   },
   "source": [
    " #### Exercise\n",
    "Get the name, lat/long, and altitude for the airports with altitude between 0 and 2000 ft considering only airports in Chile and Argentina."
   ]
  },
  {
   "cell_type": "code",
   "execution_count": 40,
   "metadata": {
    "slideshow": {
     "slide_type": "fragment"
    }
   },
   "outputs": [
    {
     "data": {
      "text/html": [
       "<div>\n",
       "<style scoped>\n",
       "    .dataframe tbody tr th:only-of-type {\n",
       "        vertical-align: middle;\n",
       "    }\n",
       "\n",
       "    .dataframe tbody tr th {\n",
       "        vertical-align: top;\n",
       "    }\n",
       "\n",
       "    .dataframe thead th {\n",
       "        text-align: right;\n",
       "    }\n",
       "</style>\n",
       "<table border=\"1\" class=\"dataframe\">\n",
       "  <thead>\n",
       "    <tr style=\"text-align: right;\">\n",
       "      <th></th>\n",
       "      <th>name</th>\n",
       "      <th>country</th>\n",
       "      <th>latit</th>\n",
       "      <th>longit</th>\n",
       "      <th>altit</th>\n",
       "    </tr>\n",
       "  </thead>\n",
       "  <tbody>\n",
       "    <tr>\n",
       "      <th>0</th>\n",
       "      <td>Aeropuerto de Rafaela</td>\n",
       "      <td>Argentina</td>\n",
       "      <td>-31.282072</td>\n",
       "      <td>-61.501594</td>\n",
       "      <td>100</td>\n",
       "    </tr>\n",
       "    <tr>\n",
       "      <th>1</th>\n",
       "      <td>Comodoro Pierrestegui</td>\n",
       "      <td>Argentina</td>\n",
       "      <td>-31.296944</td>\n",
       "      <td>-57.996631</td>\n",
       "      <td>112</td>\n",
       "    </tr>\n",
       "    <tr>\n",
       "      <th>2</th>\n",
       "      <td>Gualeguaychu</td>\n",
       "      <td>Argentina</td>\n",
       "      <td>-33.010278</td>\n",
       "      <td>-58.613056</td>\n",
       "      <td>75</td>\n",
       "    </tr>\n",
       "    <tr>\n",
       "      <th>3</th>\n",
       "      <td>Junin</td>\n",
       "      <td>Argentina</td>\n",
       "      <td>-34.545889</td>\n",
       "      <td>-60.930556</td>\n",
       "      <td>262</td>\n",
       "    </tr>\n",
       "    <tr>\n",
       "      <th>4</th>\n",
       "      <td>General Urquiza</td>\n",
       "      <td>Argentina</td>\n",
       "      <td>-31.794778</td>\n",
       "      <td>-60.480361</td>\n",
       "      <td>243</td>\n",
       "    </tr>\n",
       "    <tr>\n",
       "      <th>...</th>\n",
       "      <td>...</td>\n",
       "      <td>...</td>\n",
       "      <td>...</td>\n",
       "      <td>...</td>\n",
       "      <td>...</td>\n",
       "    </tr>\n",
       "    <tr>\n",
       "      <th>113</th>\n",
       "      <td>General Freire</td>\n",
       "      <td>Chile</td>\n",
       "      <td>-34.966700</td>\n",
       "      <td>-71.216400</td>\n",
       "      <td>722</td>\n",
       "    </tr>\n",
       "    <tr>\n",
       "      <th>114</th>\n",
       "      <td>Isla San Felix</td>\n",
       "      <td>Chile</td>\n",
       "      <td>-26.293864</td>\n",
       "      <td>-80.096214</td>\n",
       "      <td>165</td>\n",
       "    </tr>\n",
       "    <tr>\n",
       "      <th>115</th>\n",
       "      <td>Robinson Crusoe Airport</td>\n",
       "      <td>Chile</td>\n",
       "      <td>-33.665001</td>\n",
       "      <td>-78.929703</td>\n",
       "      <td>433</td>\n",
       "    </tr>\n",
       "    <tr>\n",
       "      <th>116</th>\n",
       "      <td>Termal</td>\n",
       "      <td>Argentina</td>\n",
       "      <td>-27.509946</td>\n",
       "      <td>-64.936666</td>\n",
       "      <td>1181</td>\n",
       "    </tr>\n",
       "    <tr>\n",
       "      <th>117</th>\n",
       "      <td>Caldera Airport</td>\n",
       "      <td>Chile</td>\n",
       "      <td>-27.078052</td>\n",
       "      <td>-70.795305</td>\n",
       "      <td>180</td>\n",
       "    </tr>\n",
       "  </tbody>\n",
       "</table>\n",
       "<p>118 rows × 5 columns</p>\n",
       "</div>"
      ],
      "text/plain": [
       "                        name    country      latit     longit  altit\n",
       "0      Aeropuerto de Rafaela  Argentina -31.282072 -61.501594    100\n",
       "1      Comodoro Pierrestegui  Argentina -31.296944 -57.996631    112\n",
       "2               Gualeguaychu  Argentina -33.010278 -58.613056     75\n",
       "3                      Junin  Argentina -34.545889 -60.930556    262\n",
       "4            General Urquiza  Argentina -31.794778 -60.480361    243\n",
       "..                       ...        ...        ...        ...    ...\n",
       "113           General Freire      Chile -34.966700 -71.216400    722\n",
       "114           Isla San Felix      Chile -26.293864 -80.096214    165\n",
       "115  Robinson Crusoe Airport      Chile -33.665001 -78.929703    433\n",
       "116                   Termal  Argentina -27.509946 -64.936666   1181\n",
       "117          Caldera Airport      Chile -27.078052 -70.795305    180\n",
       "\n",
       "[118 rows x 5 columns]"
      ]
     },
     "execution_count": 40,
     "metadata": {},
     "output_type": "execute_result"
    }
   ],
   "source": [
    "sql_query_df = pd.read_sql(\"\"\"\n",
    "\n",
    "SELECT name, country,\n",
    "CAST(latitude as float) AS latit,\n",
    "CAST(longitude as float) AS longit,\n",
    "CAST(altitude as int) AS altit\n",
    "\n",
    "FROM airports\n",
    "\n",
    "WHERE ( (country == 'Chile') OR (country == 'Argentina') )\n",
    "AND \n",
    "altit BETWEEN 0 AND 2000\n",
    "\n",
    "\n",
    "\"\"\", con)\n",
    "\n",
    "sql_query_df"
   ]
  },
  {
   "cell_type": "markdown",
   "metadata": {
    "slideshow": {
     "slide_type": "fragment"
    }
   },
   "source": [
    "\n",
    "<details>\n",
    "    <summary><b><u>Click Here for Answer Code</u></b></summary>\n",
    "\n",
    "```python\n",
    "sql_query_df = pd.read_sql(\"\"\"\n",
    "\n",
    "SELECT name, country,\n",
    "CAST(latitude as float) AS latit,\n",
    "CAST(longitude as float) AS longit,\n",
    "CAST(altitude as int) AS altit\n",
    "\n",
    "FROM airports\n",
    "\n",
    "WHERE ( (country == 'Chile') OR (country == 'Argentina') )\n",
    "AND \n",
    "altit BETWEEN 0 AND 2000\n",
    "\n",
    "\n",
    "\"\"\", con)\n",
    "\n",
    "sql_query_df\n",
    "\n",
    "```\n",
    "</details>"
   ]
  },
  {
   "cell_type": "markdown",
   "metadata": {
    "slideshow": {
     "slide_type": "slide"
    }
   },
   "source": [
    "#### IN / NOT IN\n",
    "\n",
    "- Get all records with a given field taking on a set of values.\n",
    "\n",
    "SELECT col1, col2 <br> \n",
    "FROM table <br>\n",
    "WHERE col1 IN (col_value1, col_value2, ...) <br>"
   ]
  },
  {
   "cell_type": "markdown",
   "metadata": {
    "slideshow": {
     "slide_type": "slide"
    }
   },
   "source": [
    "#### Example\n",
    "\n",
    "Get name, latitude, longitude for airports in Brazil, Argentina, Chile, and Uruguay"
   ]
  },
  {
   "cell_type": "code",
   "execution_count": 45,
   "metadata": {
    "slideshow": {
     "slide_type": "slide"
    }
   },
   "outputs": [
    {
     "data": {
      "text/html": [
       "<div>\n",
       "<style scoped>\n",
       "    .dataframe tbody tr th:only-of-type {\n",
       "        vertical-align: middle;\n",
       "    }\n",
       "\n",
       "    .dataframe tbody tr th {\n",
       "        vertical-align: top;\n",
       "    }\n",
       "\n",
       "    .dataframe thead th {\n",
       "        text-align: right;\n",
       "    }\n",
       "</style>\n",
       "<table border=\"1\" class=\"dataframe\">\n",
       "  <thead>\n",
       "    <tr style=\"text-align: right;\">\n",
       "      <th></th>\n",
       "      <th>Airport Name</th>\n",
       "      <th>country</th>\n",
       "      <th>Latitude</th>\n",
       "      <th>Longitude</th>\n",
       "    </tr>\n",
       "  </thead>\n",
       "  <tbody>\n",
       "    <tr>\n",
       "      <th>0</th>\n",
       "      <td>Aeropuerto de Rafaela</td>\n",
       "      <td>Argentina</td>\n",
       "      <td>-31.282072</td>\n",
       "      <td>-61.501594</td>\n",
       "    </tr>\n",
       "    <tr>\n",
       "      <th>1</th>\n",
       "      <td>Comodoro Pierrestegui</td>\n",
       "      <td>Argentina</td>\n",
       "      <td>-31.296944</td>\n",
       "      <td>-57.996631</td>\n",
       "    </tr>\n",
       "    <tr>\n",
       "      <th>2</th>\n",
       "      <td>Gualeguaychu</td>\n",
       "      <td>Argentina</td>\n",
       "      <td>-33.010278</td>\n",
       "      <td>-58.613056</td>\n",
       "    </tr>\n",
       "    <tr>\n",
       "      <th>3</th>\n",
       "      <td>Junin</td>\n",
       "      <td>Argentina</td>\n",
       "      <td>-34.545889</td>\n",
       "      <td>-60.930556</td>\n",
       "    </tr>\n",
       "    <tr>\n",
       "      <th>4</th>\n",
       "      <td>General Urquiza</td>\n",
       "      <td>Argentina</td>\n",
       "      <td>-31.794778</td>\n",
       "      <td>-60.480361</td>\n",
       "    </tr>\n",
       "    <tr>\n",
       "      <th>...</th>\n",
       "      <td>...</td>\n",
       "      <td>...</td>\n",
       "      <td>...</td>\n",
       "      <td>...</td>\n",
       "    </tr>\n",
       "    <tr>\n",
       "      <th>362</th>\n",
       "      <td>Caldera Airport</td>\n",
       "      <td>Chile</td>\n",
       "      <td>-27.078052</td>\n",
       "      <td>-70.795305</td>\n",
       "    </tr>\n",
       "    <tr>\n",
       "      <th>363</th>\n",
       "      <td>San Pedro de Atacama Airport</td>\n",
       "      <td>Chile</td>\n",
       "      <td>-22.918888</td>\n",
       "      <td>-68.162777</td>\n",
       "    </tr>\n",
       "    <tr>\n",
       "      <th>364</th>\n",
       "      <td>Aeroporto Estadual Arthur Siqueira</td>\n",
       "      <td>Brazil</td>\n",
       "      <td>-22.979167</td>\n",
       "      <td>-46.537500</td>\n",
       "    </tr>\n",
       "    <tr>\n",
       "      <th>365</th>\n",
       "      <td>Americana</td>\n",
       "      <td>Brazil</td>\n",
       "      <td>-22.755800</td>\n",
       "      <td>-47.269402</td>\n",
       "    </tr>\n",
       "    <tr>\n",
       "      <th>366</th>\n",
       "      <td>Pampulha</td>\n",
       "      <td>Brazil</td>\n",
       "      <td>-19.851700</td>\n",
       "      <td>-43.950800</td>\n",
       "    </tr>\n",
       "  </tbody>\n",
       "</table>\n",
       "<p>367 rows × 4 columns</p>\n",
       "</div>"
      ],
      "text/plain": [
       "                           Airport Name    country   Latitude  Longitude\n",
       "0                 Aeropuerto de Rafaela  Argentina -31.282072 -61.501594\n",
       "1                 Comodoro Pierrestegui  Argentina -31.296944 -57.996631\n",
       "2                          Gualeguaychu  Argentina -33.010278 -58.613056\n",
       "3                                 Junin  Argentina -34.545889 -60.930556\n",
       "4                       General Urquiza  Argentina -31.794778 -60.480361\n",
       "..                                  ...        ...        ...        ...\n",
       "362                     Caldera Airport      Chile -27.078052 -70.795305\n",
       "363        San Pedro de Atacama Airport      Chile -22.918888 -68.162777\n",
       "364  Aeroporto Estadual Arthur Siqueira     Brazil -22.979167 -46.537500\n",
       "365                           Americana     Brazil -22.755800 -47.269402\n",
       "366                            Pampulha     Brazil -19.851700 -43.950800\n",
       "\n",
       "[367 rows x 4 columns]"
      ]
     },
     "execution_count": 45,
     "metadata": {},
     "output_type": "execute_result"
    }
   ],
   "source": [
    "\n",
    "sql_query_df = pd.read_sql(\"\"\"\n",
    "\n",
    "SELECT name AS \"Airport Name\", \n",
    "        country,\n",
    "       CAST(latitude AS float) AS \"Latitude\",\n",
    "       CAST(longitude AS float) AS \"Longitude\"\n",
    "       \n",
    "FROM airports\n",
    "\n",
    "WHERE country IN (\"Argentina\", \"Brazil\", \"Chile\", \"Uruguay\")\n",
    "\"\"\", con)\n",
    "\n",
    "sql_query_df\n"
   ]
  },
  {
   "cell_type": "markdown",
   "metadata": {
    "heading_collapsed": true,
    "hidden": true,
    "slideshow": {
     "slide_type": "slide"
    }
   },
   "source": [
    "##### Filtering rows with null (or no null) values in `WHERE` statement\n",
    "- IS NULL\n",
    "- IS NOT NULL\n",
    "\n",
    "The `IS` operator:\n",
    "- necessary when working with `NULL` values \n",
    "- Cannot use = or <> operators here.  "
   ]
  },
  {
   "cell_type": "code",
   "execution_count": 46,
   "metadata": {
    "hidden": true,
    "slideshow": {
     "slide_type": "slide"
    }
   },
   "outputs": [
    {
     "data": {
      "text/html": [
       "<div>\n",
       "<style scoped>\n",
       "    .dataframe tbody tr th:only-of-type {\n",
       "        vertical-align: middle;\n",
       "    }\n",
       "\n",
       "    .dataframe tbody tr th {\n",
       "        vertical-align: top;\n",
       "    }\n",
       "\n",
       "    .dataframe thead th {\n",
       "        text-align: right;\n",
       "    }\n",
       "</style>\n",
       "<table border=\"1\" class=\"dataframe\">\n",
       "  <thead>\n",
       "    <tr style=\"text-align: right;\">\n",
       "      <th></th>\n",
       "      <th>Airport Name</th>\n",
       "      <th>Airport Code</th>\n",
       "    </tr>\n",
       "  </thead>\n",
       "  <tbody>\n",
       "    <tr>\n",
       "      <th>0</th>\n",
       "      <td>Forestville</td>\n",
       "      <td>None</td>\n",
       "    </tr>\n",
       "    <tr>\n",
       "      <th>1</th>\n",
       "      <td>Pitt Meadows</td>\n",
       "      <td>None</td>\n",
       "    </tr>\n",
       "    <tr>\n",
       "      <th>2</th>\n",
       "      <td>Blida</td>\n",
       "      <td>None</td>\n",
       "    </tr>\n",
       "    <tr>\n",
       "      <th>3</th>\n",
       "      <td>Bou Saada</td>\n",
       "      <td>None</td>\n",
       "    </tr>\n",
       "    <tr>\n",
       "      <th>4</th>\n",
       "      <td>Reggane</td>\n",
       "      <td>None</td>\n",
       "    </tr>\n",
       "    <tr>\n",
       "      <th>...</th>\n",
       "      <td>...</td>\n",
       "      <td>...</td>\n",
       "    </tr>\n",
       "    <tr>\n",
       "      <th>2222</th>\n",
       "      <td>Bus</td>\n",
       "      <td>None</td>\n",
       "    </tr>\n",
       "    <tr>\n",
       "      <th>2223</th>\n",
       "      <td>Bus</td>\n",
       "      <td>None</td>\n",
       "    </tr>\n",
       "    <tr>\n",
       "      <th>2224</th>\n",
       "      <td>Bus</td>\n",
       "      <td>None</td>\n",
       "    </tr>\n",
       "    <tr>\n",
       "      <th>2225</th>\n",
       "      <td>Main Station</td>\n",
       "      <td>None</td>\n",
       "    </tr>\n",
       "    <tr>\n",
       "      <th>2226</th>\n",
       "      <td>Algerciras Port</td>\n",
       "      <td>None</td>\n",
       "    </tr>\n",
       "  </tbody>\n",
       "</table>\n",
       "<p>2227 rows × 2 columns</p>\n",
       "</div>"
      ],
      "text/plain": [
       "         Airport Name Airport Code\n",
       "0         Forestville         None\n",
       "1        Pitt Meadows         None\n",
       "2               Blida         None\n",
       "3           Bou Saada         None\n",
       "4             Reggane         None\n",
       "...               ...          ...\n",
       "2222              Bus         None\n",
       "2223              Bus         None\n",
       "2224              Bus         None\n",
       "2225     Main Station         None\n",
       "2226  Algerciras Port         None\n",
       "\n",
       "[2227 rows x 2 columns]"
      ]
     },
     "execution_count": 46,
     "metadata": {},
     "output_type": "execute_result"
    }
   ],
   "source": [
    "pd.read_sql(\"\"\"\n",
    "\n",
    "SELECT name AS \"Airport Name\",\n",
    "       code AS \"Airport Code\"\n",
    "       \n",
    "FROM airports\n",
    "\n",
    "WHERE \"Airport Code\" IS NULL\n",
    "\n",
    "\"\"\", con)"
   ]
  },
  {
   "cell_type": "markdown",
   "metadata": {
    "slideshow": {
     "slide_type": "slide"
    }
   },
   "source": [
    "#### Exercise:\n",
    "\n",
    "Get the count of records with nulls in the code column of the airport table"
   ]
  },
  {
   "cell_type": "code",
   "execution_count": 44,
   "metadata": {
    "slideshow": {
     "slide_type": "fragment"
    }
   },
   "outputs": [
    {
     "data": {
      "text/html": [
       "<div>\n",
       "<style scoped>\n",
       "    .dataframe tbody tr th:only-of-type {\n",
       "        vertical-align: middle;\n",
       "    }\n",
       "\n",
       "    .dataframe tbody tr th {\n",
       "        vertical-align: top;\n",
       "    }\n",
       "\n",
       "    .dataframe thead th {\n",
       "        text-align: right;\n",
       "    }\n",
       "</style>\n",
       "<table border=\"1\" class=\"dataframe\">\n",
       "  <thead>\n",
       "    <tr style=\"text-align: right;\">\n",
       "      <th></th>\n",
       "      <th>COUNT(*)</th>\n",
       "    </tr>\n",
       "  </thead>\n",
       "  <tbody>\n",
       "    <tr>\n",
       "      <th>0</th>\n",
       "      <td>2227</td>\n",
       "    </tr>\n",
       "  </tbody>\n",
       "</table>\n",
       "</div>"
      ],
      "text/plain": [
       "   COUNT(*)\n",
       "0      2227"
      ]
     },
     "execution_count": 44,
     "metadata": {},
     "output_type": "execute_result"
    }
   ],
   "source": [
    "pd.read_sql(\"\"\"\n",
    "\n",
    "SELECT COUNT(*)\n",
    "FROM airports\n",
    "WHERE code IS NULL\n",
    "\n",
    "\"\"\", con)"
   ]
  },
  {
   "cell_type": "markdown",
   "metadata": {
    "slideshow": {
     "slide_type": "fragment"
    }
   },
   "source": [
    "<details>\n",
    "    <summary><b><u>Click Here for Answer Code</u></b></summary>\n",
    "\n",
    "```python \n",
    "pd.read_sql(\"\"\"\n",
    "\n",
    "SELECT COUNT(*)\n",
    "FROM airports\n",
    "WHERE code IS NULL\n",
    "\n",
    "\"\"\", con)\n",
    "```\n",
    "</details>"
   ]
  },
  {
   "cell_type": "markdown",
   "metadata": {
    "heading_collapsed": true,
    "hidden": true,
    "slideshow": {
     "slide_type": "slide"
    }
   },
   "source": [
    "#### ORDER BY: Sorting Results"
   ]
  },
  {
   "cell_type": "markdown",
   "metadata": {
    "hidden": true,
    "slideshow": {
     "slide_type": "fragment"
    }
   },
   "source": [
    "Use `ORDER BY` to identify the column(s) you want to sort on:\n",
    "- `ASC` for ascending order (default)\n",
    "- `DESC` for descending order\n",
    "\n"
   ]
  },
  {
   "cell_type": "markdown",
   "metadata": {
    "cell_style": "center",
    "slideshow": {
     "slide_type": "slide"
    }
   },
   "source": [
    "Get the name and code of airports with:\n",
    "- top 10 highest altitudes.\n",
    "- in order of decreasing altitude. \n",
    "\n",
    "Then get lowest 10 in increasing order."
   ]
  },
  {
   "cell_type": "code",
   "execution_count": 47,
   "metadata": {
    "cell_style": "center",
    "hidden": true,
    "scrolled": true,
    "slideshow": {
     "slide_type": "slide"
    }
   },
   "outputs": [
    {
     "data": {
      "text/html": [
       "<div>\n",
       "<style scoped>\n",
       "    .dataframe tbody tr th:only-of-type {\n",
       "        vertical-align: middle;\n",
       "    }\n",
       "\n",
       "    .dataframe tbody tr th {\n",
       "        vertical-align: top;\n",
       "    }\n",
       "\n",
       "    .dataframe thead th {\n",
       "        text-align: right;\n",
       "    }\n",
       "</style>\n",
       "<table border=\"1\" class=\"dataframe\">\n",
       "  <thead>\n",
       "    <tr style=\"text-align: right;\">\n",
       "      <th></th>\n",
       "      <th>Airport Name</th>\n",
       "      <th>code</th>\n",
       "      <th>Altitude (ft)</th>\n",
       "    </tr>\n",
       "  </thead>\n",
       "  <tbody>\n",
       "    <tr>\n",
       "      <th>0</th>\n",
       "      <td>Yading Daocheng</td>\n",
       "      <td>DCY</td>\n",
       "      <td>14472</td>\n",
       "    </tr>\n",
       "    <tr>\n",
       "      <th>1</th>\n",
       "      <td>Qamdo Bangda Airport</td>\n",
       "      <td>BPX</td>\n",
       "      <td>14219</td>\n",
       "    </tr>\n",
       "    <tr>\n",
       "      <th>2</th>\n",
       "      <td>Kangding Airport</td>\n",
       "      <td>KGT</td>\n",
       "      <td>14042</td>\n",
       "    </tr>\n",
       "    <tr>\n",
       "      <th>3</th>\n",
       "      <td>Gunsa</td>\n",
       "      <td>NGQ</td>\n",
       "      <td>13780</td>\n",
       "    </tr>\n",
       "    <tr>\n",
       "      <th>4</th>\n",
       "      <td>Irkutsk-2</td>\n",
       "      <td>None</td>\n",
       "      <td>13411</td>\n",
       "    </tr>\n",
       "    <tr>\n",
       "      <th>5</th>\n",
       "      <td>El Alto Intl</td>\n",
       "      <td>LPB</td>\n",
       "      <td>13325</td>\n",
       "    </tr>\n",
       "    <tr>\n",
       "      <th>6</th>\n",
       "      <td>Lhasa-Gonggar</td>\n",
       "      <td>LXA</td>\n",
       "      <td>13136</td>\n",
       "    </tr>\n",
       "    <tr>\n",
       "      <th>7</th>\n",
       "      <td>Yushu Batang</td>\n",
       "      <td>YUS</td>\n",
       "      <td>13000</td>\n",
       "    </tr>\n",
       "    <tr>\n",
       "      <th>8</th>\n",
       "      <td>Capitan Nicolas Rojas</td>\n",
       "      <td>POI</td>\n",
       "      <td>12913</td>\n",
       "    </tr>\n",
       "    <tr>\n",
       "      <th>9</th>\n",
       "      <td>Copacabana Airport</td>\n",
       "      <td>None</td>\n",
       "      <td>12591</td>\n",
       "    </tr>\n",
       "  </tbody>\n",
       "</table>\n",
       "</div>"
      ],
      "text/plain": [
       "            Airport Name  code  Altitude (ft)\n",
       "0        Yading Daocheng   DCY          14472\n",
       "1   Qamdo Bangda Airport   BPX          14219\n",
       "2       Kangding Airport   KGT          14042\n",
       "3                  Gunsa   NGQ          13780\n",
       "4              Irkutsk-2  None          13411\n",
       "5           El Alto Intl   LPB          13325\n",
       "6          Lhasa-Gonggar   LXA          13136\n",
       "7           Yushu Batang   YUS          13000\n",
       "8  Capitan Nicolas Rojas   POI          12913\n",
       "9     Copacabana Airport  None          12591"
      ]
     },
     "execution_count": 47,
     "metadata": {},
     "output_type": "execute_result"
    }
   ],
   "source": [
    "pd.read_sql(\"\"\"\n",
    "\n",
    "SELECT name AS \"Airport Name\", \n",
    "       code,\n",
    "       CAST(altitude AS int) AS \"Altitude (ft)\"\n",
    "       \n",
    "FROM airports\n",
    "\n",
    "ORDER BY \"Altitude (ft)\" DESC\n",
    "\n",
    "LIMIT 10\n",
    "         \n",
    "\"\"\", con)"
   ]
  },
  {
   "cell_type": "markdown",
   "metadata": {
    "cell_style": "center",
    "slideshow": {
     "slide_type": "slide"
    }
   },
   "source": [
    "Ordering on multiple columns:\n",
    "\n",
    "- Can order on one column first and then on another.\n",
    "\n"
   ]
  },
  {
   "cell_type": "markdown",
   "metadata": {
    "cell_style": "center",
    "slideshow": {
     "slide_type": "slide"
    }
   },
   "source": [
    "#### Example\n",
    "Order by:\n",
    "- decreasing latitudes\n",
    "- increasing longitudes\n",
    "- Altitude > 10000 ft."
   ]
  },
  {
   "cell_type": "code",
   "execution_count": 48,
   "metadata": {
    "hidden": true,
    "scrolled": false,
    "slideshow": {
     "slide_type": "fragment"
    }
   },
   "outputs": [
    {
     "data": {
      "text/html": [
       "<div>\n",
       "<style scoped>\n",
       "    .dataframe tbody tr th:only-of-type {\n",
       "        vertical-align: middle;\n",
       "    }\n",
       "\n",
       "    .dataframe tbody tr th {\n",
       "        vertical-align: top;\n",
       "    }\n",
       "\n",
       "    .dataframe thead th {\n",
       "        text-align: right;\n",
       "    }\n",
       "</style>\n",
       "<table border=\"1\" class=\"dataframe\">\n",
       "  <thead>\n",
       "    <tr style=\"text-align: right;\">\n",
       "      <th></th>\n",
       "      <th>Airport Name</th>\n",
       "      <th>Altitude (ft)</th>\n",
       "      <th>Airport Latitude</th>\n",
       "      <th>Airport Longitude</th>\n",
       "    </tr>\n",
       "  </thead>\n",
       "  <tbody>\n",
       "    <tr>\n",
       "      <th>0</th>\n",
       "      <td>Summit Camp</td>\n",
       "      <td>10552</td>\n",
       "      <td>72.579584</td>\n",
       "      <td>-38.459185</td>\n",
       "    </tr>\n",
       "    <tr>\n",
       "      <th>1</th>\n",
       "      <td>Summit Camp</td>\n",
       "      <td>11000</td>\n",
       "      <td>72.579187</td>\n",
       "      <td>-38.457200</td>\n",
       "    </tr>\n",
       "    <tr>\n",
       "      <th>2</th>\n",
       "      <td>Irkutsk-2</td>\n",
       "      <td>13411</td>\n",
       "      <td>52.367800</td>\n",
       "      <td>104.183000</td>\n",
       "    </tr>\n",
       "    <tr>\n",
       "      <th>3</th>\n",
       "      <td>Gannan</td>\n",
       "      <td>10466</td>\n",
       "      <td>34.490900</td>\n",
       "      <td>102.371900</td>\n",
       "    </tr>\n",
       "    <tr>\n",
       "      <th>4</th>\n",
       "      <td>Leh</td>\n",
       "      <td>10682</td>\n",
       "      <td>34.135872</td>\n",
       "      <td>77.546514</td>\n",
       "    </tr>\n",
       "    <tr>\n",
       "      <th>5</th>\n",
       "      <td>Maiwa</td>\n",
       "      <td>11500</td>\n",
       "      <td>33.058044</td>\n",
       "      <td>102.908775</td>\n",
       "    </tr>\n",
       "    <tr>\n",
       "      <th>6</th>\n",
       "      <td>Jiuzhaigou Huanglong</td>\n",
       "      <td>11311</td>\n",
       "      <td>32.857000</td>\n",
       "      <td>103.683000</td>\n",
       "    </tr>\n",
       "    <tr>\n",
       "      <th>7</th>\n",
       "      <td>Yushu Batang</td>\n",
       "      <td>13000</td>\n",
       "      <td>32.825000</td>\n",
       "      <td>97.125000</td>\n",
       "    </tr>\n",
       "    <tr>\n",
       "      <th>8</th>\n",
       "      <td>Hongyuan Airfield</td>\n",
       "      <td>11500</td>\n",
       "      <td>32.800428</td>\n",
       "      <td>102.534785</td>\n",
       "    </tr>\n",
       "    <tr>\n",
       "      <th>9</th>\n",
       "      <td>Gunsa</td>\n",
       "      <td>13780</td>\n",
       "      <td>32.100270</td>\n",
       "      <td>80.052778</td>\n",
       "    </tr>\n",
       "    <tr>\n",
       "      <th>10</th>\n",
       "      <td>Qamdo Bangda Airport</td>\n",
       "      <td>14219</td>\n",
       "      <td>30.553600</td>\n",
       "      <td>97.108300</td>\n",
       "    </tr>\n",
       "    <tr>\n",
       "      <th>11</th>\n",
       "      <td>Kangding Airport</td>\n",
       "      <td>14042</td>\n",
       "      <td>30.157500</td>\n",
       "      <td>101.734722</td>\n",
       "    </tr>\n",
       "    <tr>\n",
       "      <th>12</th>\n",
       "      <td>Shigatse Peace Airport</td>\n",
       "      <td>12408</td>\n",
       "      <td>29.351667</td>\n",
       "      <td>89.306944</td>\n",
       "    </tr>\n",
       "    <tr>\n",
       "      <th>13</th>\n",
       "      <td>Yading Daocheng</td>\n",
       "      <td>14472</td>\n",
       "      <td>29.323100</td>\n",
       "      <td>100.053300</td>\n",
       "    </tr>\n",
       "    <tr>\n",
       "      <th>14</th>\n",
       "      <td>Lhasa-Gonggar</td>\n",
       "      <td>13136</td>\n",
       "      <td>29.297778</td>\n",
       "      <td>90.911944</td>\n",
       "    </tr>\n",
       "    <tr>\n",
       "      <th>15</th>\n",
       "      <td>Manang</td>\n",
       "      <td>11000</td>\n",
       "      <td>28.633000</td>\n",
       "      <td>84.000000</td>\n",
       "    </tr>\n",
       "    <tr>\n",
       "      <th>16</th>\n",
       "      <td>Syangboche</td>\n",
       "      <td>12309</td>\n",
       "      <td>27.811187</td>\n",
       "      <td>86.712661</td>\n",
       "    </tr>\n",
       "    <tr>\n",
       "      <th>17</th>\n",
       "      <td>Francisco Carle</td>\n",
       "      <td>11034</td>\n",
       "      <td>-11.783144</td>\n",
       "      <td>-75.473394</td>\n",
       "    </tr>\n",
       "    <tr>\n",
       "      <th>18</th>\n",
       "      <td>Poroy Train Station</td>\n",
       "      <td>11710</td>\n",
       "      <td>-13.494400</td>\n",
       "      <td>-72.042100</td>\n",
       "    </tr>\n",
       "    <tr>\n",
       "      <th>19</th>\n",
       "      <td>Teniente Alejandro Velasco Astete Intl</td>\n",
       "      <td>10860</td>\n",
       "      <td>-13.535722</td>\n",
       "      <td>-71.938781</td>\n",
       "    </tr>\n",
       "    <tr>\n",
       "      <th>20</th>\n",
       "      <td>Andahuaylas</td>\n",
       "      <td>11300</td>\n",
       "      <td>-13.706408</td>\n",
       "      <td>-73.350378</td>\n",
       "    </tr>\n",
       "    <tr>\n",
       "      <th>21</th>\n",
       "      <td>Juliaca</td>\n",
       "      <td>12552</td>\n",
       "      <td>-15.467103</td>\n",
       "      <td>-70.158169</td>\n",
       "    </tr>\n",
       "    <tr>\n",
       "      <th>22</th>\n",
       "      <td>Copacabana Airport</td>\n",
       "      <td>12591</td>\n",
       "      <td>-16.183326</td>\n",
       "      <td>-69.087501</td>\n",
       "    </tr>\n",
       "    <tr>\n",
       "      <th>23</th>\n",
       "      <td>El Alto Intl</td>\n",
       "      <td>13325</td>\n",
       "      <td>-16.513339</td>\n",
       "      <td>-68.192256</td>\n",
       "    </tr>\n",
       "    <tr>\n",
       "      <th>24</th>\n",
       "      <td>Juan Mendoza</td>\n",
       "      <td>12146</td>\n",
       "      <td>-17.962589</td>\n",
       "      <td>-67.076236</td>\n",
       "    </tr>\n",
       "    <tr>\n",
       "      <th>25</th>\n",
       "      <td>Capitan Nicolas Rojas</td>\n",
       "      <td>12913</td>\n",
       "      <td>-19.543069</td>\n",
       "      <td>-65.723706</td>\n",
       "    </tr>\n",
       "    <tr>\n",
       "      <th>26</th>\n",
       "      <td>Isla Pescado</td>\n",
       "      <td>12020</td>\n",
       "      <td>-20.240932</td>\n",
       "      <td>-67.625380</td>\n",
       "    </tr>\n",
       "    <tr>\n",
       "      <th>27</th>\n",
       "      <td>Salar de Uyuni</td>\n",
       "      <td>12000</td>\n",
       "      <td>-20.330706</td>\n",
       "      <td>-67.046881</td>\n",
       "    </tr>\n",
       "    <tr>\n",
       "      <th>28</th>\n",
       "      <td>Uyuni Airport</td>\n",
       "      <td>11990</td>\n",
       "      <td>-20.466667</td>\n",
       "      <td>-66.833333</td>\n",
       "    </tr>\n",
       "    <tr>\n",
       "      <th>29</th>\n",
       "      <td>La Quiaca</td>\n",
       "      <td>11414</td>\n",
       "      <td>-22.150556</td>\n",
       "      <td>-65.577500</td>\n",
       "    </tr>\n",
       "  </tbody>\n",
       "</table>\n",
       "</div>"
      ],
      "text/plain": [
       "                              Airport Name  Altitude (ft)  Airport Latitude  \\\n",
       "0                              Summit Camp          10552         72.579584   \n",
       "1                              Summit Camp          11000         72.579187   \n",
       "2                                Irkutsk-2          13411         52.367800   \n",
       "3                                   Gannan          10466         34.490900   \n",
       "4                                      Leh          10682         34.135872   \n",
       "5                                    Maiwa          11500         33.058044   \n",
       "6                     Jiuzhaigou Huanglong          11311         32.857000   \n",
       "7                             Yushu Batang          13000         32.825000   \n",
       "8                        Hongyuan Airfield          11500         32.800428   \n",
       "9                                    Gunsa          13780         32.100270   \n",
       "10                    Qamdo Bangda Airport          14219         30.553600   \n",
       "11                        Kangding Airport          14042         30.157500   \n",
       "12                  Shigatse Peace Airport          12408         29.351667   \n",
       "13                         Yading Daocheng          14472         29.323100   \n",
       "14                           Lhasa-Gonggar          13136         29.297778   \n",
       "15                                  Manang          11000         28.633000   \n",
       "16                              Syangboche          12309         27.811187   \n",
       "17                         Francisco Carle          11034        -11.783144   \n",
       "18                     Poroy Train Station          11710        -13.494400   \n",
       "19  Teniente Alejandro Velasco Astete Intl          10860        -13.535722   \n",
       "20                             Andahuaylas          11300        -13.706408   \n",
       "21                                 Juliaca          12552        -15.467103   \n",
       "22                      Copacabana Airport          12591        -16.183326   \n",
       "23                            El Alto Intl          13325        -16.513339   \n",
       "24                            Juan Mendoza          12146        -17.962589   \n",
       "25                   Capitan Nicolas Rojas          12913        -19.543069   \n",
       "26                            Isla Pescado          12020        -20.240932   \n",
       "27                          Salar de Uyuni          12000        -20.330706   \n",
       "28                           Uyuni Airport          11990        -20.466667   \n",
       "29                               La Quiaca          11414        -22.150556   \n",
       "\n",
       "    Airport Longitude  \n",
       "0          -38.459185  \n",
       "1          -38.457200  \n",
       "2          104.183000  \n",
       "3          102.371900  \n",
       "4           77.546514  \n",
       "5          102.908775  \n",
       "6          103.683000  \n",
       "7           97.125000  \n",
       "8          102.534785  \n",
       "9           80.052778  \n",
       "10          97.108300  \n",
       "11         101.734722  \n",
       "12          89.306944  \n",
       "13         100.053300  \n",
       "14          90.911944  \n",
       "15          84.000000  \n",
       "16          86.712661  \n",
       "17         -75.473394  \n",
       "18         -72.042100  \n",
       "19         -71.938781  \n",
       "20         -73.350378  \n",
       "21         -70.158169  \n",
       "22         -69.087501  \n",
       "23         -68.192256  \n",
       "24         -67.076236  \n",
       "25         -65.723706  \n",
       "26         -67.625380  \n",
       "27         -67.046881  \n",
       "28         -66.833333  \n",
       "29         -65.577500  "
      ]
     },
     "execution_count": 48,
     "metadata": {},
     "output_type": "execute_result"
    }
   ],
   "source": [
    "pd.read_sql(\"\"\"\n",
    "\n",
    "SELECT name AS \"Airport Name\",\n",
    "       CAST(altitude AS int) AS \"Altitude (ft)\",\n",
    "       CAST(latitude AS float) AS \"Airport Latitude\",\n",
    "       CAST(longitude AS float) AS \"Airport Longitude\"    \n",
    "FROM airports\n",
    "WHERE \"Altitude (ft)\" > 10000\n",
    "ORDER BY \"Airport Latitude\" DESC, \"Airport Longitude\" \n",
    "\n",
    "\"\"\", con)"
   ]
  },
  {
   "cell_type": "markdown",
   "metadata": {
    "slideshow": {
     "slide_type": "slide"
    }
   },
   "source": [
    "#### CASE WHEN STATEMENTS\n",
    "Use `CASE` to create new columns using conditional logic:\n",
    "\n",
    "E.g. partition altitudes into high, medium and low."
   ]
  },
  {
   "cell_type": "code",
   "execution_count": 49,
   "metadata": {
    "slideshow": {
     "slide_type": "slide"
    }
   },
   "outputs": [
    {
     "data": {
      "text/html": [
       "<div>\n",
       "<style scoped>\n",
       "    .dataframe tbody tr th:only-of-type {\n",
       "        vertical-align: middle;\n",
       "    }\n",
       "\n",
       "    .dataframe tbody tr th {\n",
       "        vertical-align: top;\n",
       "    }\n",
       "\n",
       "    .dataframe thead th {\n",
       "        text-align: right;\n",
       "    }\n",
       "</style>\n",
       "<table border=\"1\" class=\"dataframe\">\n",
       "  <thead>\n",
       "    <tr style=\"text-align: right;\">\n",
       "      <th></th>\n",
       "      <th>Airport Name</th>\n",
       "      <th>Altitude (ft)</th>\n",
       "      <th>Altitude Category</th>\n",
       "    </tr>\n",
       "  </thead>\n",
       "  <tbody>\n",
       "    <tr>\n",
       "      <th>0</th>\n",
       "      <td>Goroka</td>\n",
       "      <td>5282</td>\n",
       "      <td>High</td>\n",
       "    </tr>\n",
       "    <tr>\n",
       "      <th>1</th>\n",
       "      <td>Madang</td>\n",
       "      <td>20</td>\n",
       "      <td>Low</td>\n",
       "    </tr>\n",
       "    <tr>\n",
       "      <th>2</th>\n",
       "      <td>Mount Hagen</td>\n",
       "      <td>5388</td>\n",
       "      <td>High</td>\n",
       "    </tr>\n",
       "    <tr>\n",
       "      <th>3</th>\n",
       "      <td>Nadzab</td>\n",
       "      <td>239</td>\n",
       "      <td>Moderate</td>\n",
       "    </tr>\n",
       "    <tr>\n",
       "      <th>4</th>\n",
       "      <td>Port Moresby Jacksons Intl</td>\n",
       "      <td>146</td>\n",
       "      <td>Moderate</td>\n",
       "    </tr>\n",
       "    <tr>\n",
       "      <th>5</th>\n",
       "      <td>Wewak Intl</td>\n",
       "      <td>19</td>\n",
       "      <td>Low</td>\n",
       "    </tr>\n",
       "    <tr>\n",
       "      <th>6</th>\n",
       "      <td>Narsarsuaq</td>\n",
       "      <td>112</td>\n",
       "      <td>Moderate</td>\n",
       "    </tr>\n",
       "    <tr>\n",
       "      <th>7</th>\n",
       "      <td>Nuuk</td>\n",
       "      <td>283</td>\n",
       "      <td>Moderate</td>\n",
       "    </tr>\n",
       "    <tr>\n",
       "      <th>8</th>\n",
       "      <td>Sondre Stromfjord</td>\n",
       "      <td>165</td>\n",
       "      <td>Moderate</td>\n",
       "    </tr>\n",
       "    <tr>\n",
       "      <th>9</th>\n",
       "      <td>Thule Air Base</td>\n",
       "      <td>251</td>\n",
       "      <td>Moderate</td>\n",
       "    </tr>\n",
       "    <tr>\n",
       "      <th>10</th>\n",
       "      <td>Akureyri</td>\n",
       "      <td>6</td>\n",
       "      <td>Low</td>\n",
       "    </tr>\n",
       "    <tr>\n",
       "      <th>11</th>\n",
       "      <td>Egilsstadir</td>\n",
       "      <td>76</td>\n",
       "      <td>Low</td>\n",
       "    </tr>\n",
       "    <tr>\n",
       "      <th>12</th>\n",
       "      <td>Hornafjordur</td>\n",
       "      <td>24</td>\n",
       "      <td>Low</td>\n",
       "    </tr>\n",
       "    <tr>\n",
       "      <th>13</th>\n",
       "      <td>Husavik</td>\n",
       "      <td>48</td>\n",
       "      <td>Low</td>\n",
       "    </tr>\n",
       "    <tr>\n",
       "      <th>14</th>\n",
       "      <td>Isafjordur</td>\n",
       "      <td>8</td>\n",
       "      <td>Low</td>\n",
       "    </tr>\n",
       "    <tr>\n",
       "      <th>15</th>\n",
       "      <td>Keflavik International Airport</td>\n",
       "      <td>171</td>\n",
       "      <td>Moderate</td>\n",
       "    </tr>\n",
       "    <tr>\n",
       "      <th>16</th>\n",
       "      <td>Patreksfjordur</td>\n",
       "      <td>11</td>\n",
       "      <td>Low</td>\n",
       "    </tr>\n",
       "    <tr>\n",
       "      <th>17</th>\n",
       "      <td>Reykjavik</td>\n",
       "      <td>48</td>\n",
       "      <td>Low</td>\n",
       "    </tr>\n",
       "    <tr>\n",
       "      <th>18</th>\n",
       "      <td>Siglufjordur</td>\n",
       "      <td>10</td>\n",
       "      <td>Low</td>\n",
       "    </tr>\n",
       "    <tr>\n",
       "      <th>19</th>\n",
       "      <td>Vestmannaeyjar</td>\n",
       "      <td>326</td>\n",
       "      <td>Moderate</td>\n",
       "    </tr>\n",
       "  </tbody>\n",
       "</table>\n",
       "</div>"
      ],
      "text/plain": [
       "                      Airport Name  Altitude (ft) Altitude Category\n",
       "0                           Goroka           5282              High\n",
       "1                           Madang             20               Low\n",
       "2                      Mount Hagen           5388              High\n",
       "3                           Nadzab            239          Moderate\n",
       "4       Port Moresby Jacksons Intl            146          Moderate\n",
       "5                       Wewak Intl             19               Low\n",
       "6                       Narsarsuaq            112          Moderate\n",
       "7                             Nuuk            283          Moderate\n",
       "8                Sondre Stromfjord            165          Moderate\n",
       "9                   Thule Air Base            251          Moderate\n",
       "10                        Akureyri              6               Low\n",
       "11                     Egilsstadir             76               Low\n",
       "12                    Hornafjordur             24               Low\n",
       "13                         Husavik             48               Low\n",
       "14                      Isafjordur              8               Low\n",
       "15  Keflavik International Airport            171          Moderate\n",
       "16                  Patreksfjordur             11               Low\n",
       "17                       Reykjavik             48               Low\n",
       "18                    Siglufjordur             10               Low\n",
       "19                  Vestmannaeyjar            326          Moderate"
      ]
     },
     "execution_count": 49,
     "metadata": {},
     "output_type": "execute_result"
    }
   ],
   "source": [
    "sql_query = pd.read_sql(\"\"\"\n",
    "\n",
    "SELECT name AS \"Airport Name\", \n",
    "       CAST(altitude AS int) AS \"Altitude (ft)\",\n",
    "       CASE \n",
    "            WHEN CAST(altitude AS int) > 1000 THEN \"High\"\n",
    "            WHEN CAST(altitude AS int) < 100 THEN \"Low\"\n",
    "            ELSE \"Moderate\"\n",
    "       END AS \"Altitude Category\"\n",
    "       \n",
    "FROM airports\n",
    "         \n",
    "LIMIT 20\n",
    "\n",
    "\"\"\", con)\n",
    "\n",
    "sql_query"
   ]
  },
  {
   "cell_type": "markdown",
   "metadata": {
    "slideshow": {
     "slide_type": "slide"
    }
   },
   "source": [
    "# Exercises"
   ]
  },
  {
   "cell_type": "markdown",
   "metadata": {
    "slideshow": {
     "slide_type": "fragment"
    }
   },
   "source": [
    "## Country List\n"
   ]
  },
  {
   "cell_type": "markdown",
   "metadata": {
    "slideshow": {
     "slide_type": "fragment"
    }
   },
   "source": [
    "Create a list of countries with airports and order them alphabetically A-Z.\n",
    "\n",
    "> _Hint: You will need to remove duplicates._"
   ]
  },
  {
   "cell_type": "code",
   "execution_count": null,
   "metadata": {
    "slideshow": {
     "slide_type": "fragment"
    }
   },
   "outputs": [],
   "source": []
  },
  {
   "cell_type": "markdown",
   "metadata": {
    "slideshow": {
     "slide_type": "fragment"
    }
   },
   "source": [
    "<details>\n",
    "    <summary><b><u>Click Here for Answer Code</u></b></summary>\n",
    "\n",
    "```python \n",
    "pd.read_sql(\"\"\"\n",
    "\n",
    "SELECT DISTINCT country\n",
    "FROM airports\n",
    "ORDER BY country ASC\n",
    "\n",
    "\"\"\", con)\n",
    "```\n",
    "</details>"
   ]
  },
  {
   "cell_type": "markdown",
   "metadata": {
    "slideshow": {
     "slide_type": "slide"
    }
   },
   "source": [
    "## Southern Airports"
   ]
  },
  {
   "cell_type": "markdown",
   "metadata": {
    "slideshow": {
     "slide_type": "fragment"
    }
   },
   "source": [
    "Get the name, country and latitude of the 10 southern-most airports. \n",
    "\n",
    "> _Hint: Look for the smallest latitude._"
   ]
  },
  {
   "cell_type": "code",
   "execution_count": null,
   "metadata": {
    "slideshow": {
     "slide_type": "fragment"
    }
   },
   "outputs": [],
   "source": []
  },
  {
   "cell_type": "markdown",
   "metadata": {
    "slideshow": {
     "slide_type": "fragment"
    }
   },
   "source": [
    "<details>\n",
    "    <summary><b><u>Click Here for Answer Code</u></b></summary>\n",
    "\n",
    "```python \n",
    "pd.read_sql(\"\"\"\n",
    "\n",
    "SELECT name, country, CAST(latitude AS float) AS \"Airport Latitude\"\n",
    "FROM airports\n",
    "ORDER BY \"Airport Latitude\" ASC\n",
    "LIMIT 10\n",
    "\n",
    "\"\"\", con)\n",
    "``` \n",
    "</details>"
   ]
  },
  {
   "cell_type": "markdown",
   "metadata": {
    "slideshow": {
     "slide_type": "slide"
    }
   },
   "source": [
    "## Active UK Airlines"
   ]
  },
  {
   "cell_type": "markdown",
   "metadata": {
    "slideshow": {
     "slide_type": "fragment"
    }
   },
   "source": [
    "Create a list of active airlines in the United Kingdom from the airlines table. \n",
    "\n",
    "> _Hint: You will need to explore the airlines table to figure out how to do this._"
   ]
  },
  {
   "cell_type": "code",
   "execution_count": null,
   "metadata": {
    "slideshow": {
     "slide_type": "fragment"
    }
   },
   "outputs": [],
   "source": []
  },
  {
   "cell_type": "markdown",
   "metadata": {
    "slideshow": {
     "slide_type": "fragment"
    }
   },
   "source": [
    "<details>\n",
    "    <summary><b><u>Click Here for Answer Code</u></b></summary>\n",
    "\n",
    "```python \n",
    "pd.read_sql(\"\"\"\n",
    "\n",
    "SELECT name\n",
    "FROM airlines\n",
    "WHERE active='Y'\n",
    "AND country='United Kingdom'\n",
    "\n",
    "\"\"\", con)\n",
    "```\n",
    "</details>"
   ]
  },
  {
   "cell_type": "markdown",
   "metadata": {
    "slideshow": {
     "slide_type": "slide"
    }
   },
   "source": [
    "**Exercise**\n",
    "\n",
    "- Partition the airports into three latitude regions: \n",
    "\n",
    "- northern (>= 30), central (30,-30), and southern zones (<=-30).\n",
    "\n",
    "Get me all the airports in the central and southern zones:\n",
    "- whose altitude is greater than 3000 ft.\n",
    "- and anywhere but in Brazil, Venezuela, Papua New Guinea, South Africa and Madagascar"
   ]
  },
  {
   "cell_type": "code",
   "execution_count": null,
   "metadata": {
    "slideshow": {
     "slide_type": "fragment"
    }
   },
   "outputs": [],
   "source": []
  },
  {
   "cell_type": "markdown",
   "metadata": {
    "slideshow": {
     "slide_type": "fragment"
    }
   },
   "source": [
    "<details>\n",
    "    <summary><b><u>Click Here for Answer Code</u></b></summary>\n",
    "\n",
    "```python \n",
    "sql_query = pd.read_sql(\"\"\"\n",
    "\n",
    "SELECT name AS \"Airport Name\", country,\n",
    "       CAST(altitude AS int) AS \"Altitude (ft)\",\n",
    "       CAST(latitude AS float) AS \"Latitude (deg)\",\n",
    "       CASE \n",
    "            WHEN CAST(latitude AS float) >= 30 THEN \"Northern\"\n",
    "            WHEN CAST(latitude AS float) <= -30 THEN \"Southern\"\n",
    "            ELSE \"Central\"\n",
    "       END lat_category\n",
    "       \n",
    "FROM airports\n",
    "\n",
    "WHERE \"Altitude (ft)\" > 3000\n",
    "AND\n",
    "lat_category IN (\"Central\", \"Southern\")\n",
    "AND\n",
    "country NOT IN (\"Brazil\", \"Venezuela\", \"Papua New Guinea\", \"South Africa\", \"Madagascar\")\n",
    "\n",
    "\n",
    "\"\"\", con)\n",
    "\n",
    "sql_query\n",
    "```\n",
    "</details>"
   ]
  }
 ],
 "metadata": {
  "celltoolbar": "Slideshow",
  "kernelspec": {
   "display_name": "Python (learn-env)",
   "language": "python",
   "name": "learn-env"
  },
  "language_info": {
   "codemirror_mode": {
    "name": "ipython",
    "version": 3
   },
   "file_extension": ".py",
   "mimetype": "text/x-python",
   "name": "python",
   "nbconvert_exporter": "python",
   "pygments_lexer": "ipython3",
   "version": "3.8.5"
  }
 },
 "nbformat": 4,
 "nbformat_minor": 5
}
