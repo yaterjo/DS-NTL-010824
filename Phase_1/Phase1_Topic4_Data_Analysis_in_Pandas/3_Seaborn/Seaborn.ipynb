{
 "cells": [
  {
   "cell_type": "markdown",
   "id": "7e6585b5",
   "metadata": {
    "cell_style": "center",
    "slideshow": {
     "slide_type": "slide"
    }
   },
   "source": [
    "<div style=\"color:white;\n",
    "           display:fill;\n",
    "           border-radius:5px;\n",
    "           background-color:#5642C5;\n",
    "           font-size:200%;\n",
    "           font-family:Arial;letter-spacing:0.5px\">\n",
    "\n",
    "<p width = 20%, style=\"padding: 10px;\n",
    "              color:white;\">\n",
    "Seaborn: Data Visualization\n",
    "</p>\n",
    "</div>\n",
    "\n",
    "DS-NTL-010824\n",
    "<p>Phase 1: Topic 4.3</p>\n",
    "<br>\n",
    "<br>\n",
    "\n",
    "<div align = \"right\">\n",
    "<img src=\"Images/flatiron-school-logo.png\" align = \"right\" width=\"200\"/>\n",
    "</div>\n",
    "    "
   ]
  },
  {
   "cell_type": "code",
   "execution_count": null,
   "id": "e88c322c",
   "metadata": {
    "cell_style": "center",
    "slideshow": {
     "slide_type": "slide"
    }
   },
   "outputs": [],
   "source": [
    "import numpy as np\n",
    "import pandas as pd\n",
    "import matplotlib.pyplot as plt\n",
    "\n",
    "# seaborn is going to be your friend\n",
    "import seaborn as sns\n",
    "\n",
    "\n",
    "# supresses warnings\n",
    "#import warnings\n",
    "#warnings.filterwarnings('ignore')"
   ]
  },
  {
   "cell_type": "markdown",
   "id": "7155625a",
   "metadata": {
    "cell_style": "center",
    "slideshow": {
     "slide_type": "slide"
    }
   },
   "source": [
    "Let's also load the penguins dataset:\n",
    "- Seaborn has standard datasets that you can load in.\n",
    "- sns.get_dataset_names()"
   ]
  },
  {
   "cell_type": "code",
   "execution_count": null,
   "id": "3c8a5f37",
   "metadata": {
    "cell_style": "center",
    "slideshow": {
     "slide_type": "fragment"
    }
   },
   "outputs": [],
   "source": [
    "sns.get_dataset_names()"
   ]
  },
  {
   "cell_type": "code",
   "execution_count": null,
   "id": "dbc3b417",
   "metadata": {
    "cell_style": "center",
    "scrolled": true,
    "slideshow": {
     "slide_type": "slide"
    }
   },
   "outputs": [],
   "source": [
    "penguins_df = sns.load_dataset('penguins')\n",
    "penguins_df.head()"
   ]
  },
  {
   "cell_type": "code",
   "execution_count": null,
   "id": "696feae6",
   "metadata": {
    "cell_style": "split",
    "slideshow": {
     "slide_type": "slide"
    }
   },
   "outputs": [],
   "source": [
    "penguins_df.info()"
   ]
  },
  {
   "cell_type": "code",
   "execution_count": null,
   "id": "78431452",
   "metadata": {
    "cell_style": "split",
    "slideshow": {
     "slide_type": "fragment"
    }
   },
   "outputs": [],
   "source": [
    "penguins_df.describe()"
   ]
  },
  {
   "cell_type": "markdown",
   "id": "ce588d43",
   "metadata": {
    "slideshow": {
     "slide_type": "slide"
    }
   },
   "source": [
    "There are probably some cleaning tasks here:\n",
    "- e.g., drop missing values, etc."
   ]
  },
  {
   "cell_type": "code",
   "execution_count": null,
   "id": "e4c17ae2",
   "metadata": {
    "cell_style": "center",
    "scrolled": true,
    "slideshow": {
     "slide_type": "fragment"
    }
   },
   "outputs": [],
   "source": [
    "penguins_df.dropna(inplace = True)\n",
    "penguins_df.info()"
   ]
  },
  {
   "cell_type": "markdown",
   "id": "3f707c9f",
   "metadata": {
    "cell_style": "split",
    "slideshow": {
     "slide_type": "slide"
    }
   },
   "source": [
    "There are numeric columns (floats):\n",
    "- bill length\n",
    "- flipper length\n",
    "- body mass"
   ]
  },
  {
   "cell_type": "markdown",
   "id": "6ade4c2b",
   "metadata": {
    "cell_style": "split",
    "slideshow": {
     "slide_type": "fragment"
    }
   },
   "source": [
    "There are some categoricals as well:"
   ]
  },
  {
   "cell_type": "code",
   "execution_count": null,
   "id": "77c8daf7",
   "metadata": {
    "cell_style": "split",
    "slideshow": {
     "slide_type": "fragment"
    }
   },
   "outputs": [],
   "source": [
    "print(penguins_df.species.unique()) "
   ]
  },
  {
   "cell_type": "code",
   "execution_count": null,
   "id": "af676077",
   "metadata": {
    "cell_style": "split",
    "slideshow": {
     "slide_type": "fragment"
    }
   },
   "outputs": [],
   "source": [
    "print(penguins_df.sex.unique()) "
   ]
  },
  {
   "cell_type": "code",
   "execution_count": null,
   "id": "e2a44e53",
   "metadata": {
    "cell_style": "split",
    "slideshow": {
     "slide_type": "fragment"
    }
   },
   "outputs": [],
   "source": [
    "print(penguins_df.island.unique()) "
   ]
  },
  {
   "cell_type": "markdown",
   "id": "9cec6647",
   "metadata": {
    "cell_style": "split",
    "slideshow": {
     "slide_type": "slide"
    }
   },
   "source": [
    "For the purpose of speed/memory usage:\n",
    "- convert string columns (objects) to type categorical."
   ]
  },
  {
   "cell_type": "code",
   "execution_count": null,
   "id": "4a59002c",
   "metadata": {
    "cell_style": "split",
    "slideshow": {
     "slide_type": "fragment"
    }
   },
   "outputs": [],
   "source": [
    "cat_cols =  ['species', 'island', 'sex']\n",
    "\n",
    "penguins_df[cat_cols] = penguins_df[cat_cols].astype('category')"
   ]
  },
  {
   "cell_type": "code",
   "execution_count": null,
   "id": "1659247d",
   "metadata": {
    "scrolled": false,
    "slideshow": {
     "slide_type": "slide"
    }
   },
   "outputs": [],
   "source": [
    "penguins_df.info()"
   ]
  },
  {
   "cell_type": "markdown",
   "id": "9790a04d",
   "metadata": {
    "slideshow": {
     "slide_type": "slide"
    }
   },
   "source": [
    "#### The Seaborn package"
   ]
  },
  {
   "cell_type": "markdown",
   "id": "2543a6ef",
   "metadata": {
    "slideshow": {
     "slide_type": "fragment"
    }
   },
   "source": [
    "- Designed for statistical visualization and EDA\n",
    "- Library built on top of matplotlib\n",
    "- Seaborn can interface with plt.subplots()"
   ]
  },
  {
   "cell_type": "markdown",
   "id": "b6386611",
   "metadata": {
    "slideshow": {
     "slide_type": "slide"
    }
   },
   "source": [
    "#### A simple plot command: scatter plot \n",
    "- sns.scatterplot\n",
    "- reference dataframe (data = ___)\n",
    "- can reference column name strings directly"
   ]
  },
  {
   "cell_type": "code",
   "execution_count": null,
   "id": "1a6f153b",
   "metadata": {
    "cell_style": "center",
    "slideshow": {
     "slide_type": "fragment"
    }
   },
   "outputs": [],
   "source": [
    "# Creating a scatter plot: \n",
    "\n",
    "sns.scatterplot(x = 'body_mass_g', y = 'flipper_length_mm', data = penguins_df )\n",
    "plt.show()"
   ]
  },
  {
   "cell_type": "markdown",
   "id": "07a585a4",
   "metadata": {
    "cell_style": "center",
    "slideshow": {
     "slide_type": "slide"
    }
   },
   "source": [
    "Interfaces with plt.subplots:\n",
    "- ax = __ option: points seaborn to matplotlib ax object"
   ]
  },
  {
   "cell_type": "code",
   "execution_count": null,
   "id": "ced38d3c",
   "metadata": {
    "cell_style": "center",
    "slideshow": {
     "slide_type": "fragment"
    }
   },
   "outputs": [],
   "source": [
    "fig, ax = plt.subplots()\n",
    "sns.scatterplot(x = 'body_mass_g', y = 'flipper_length_mm', data = penguins_df, ax = ax )\n",
    "ax.set_title('Penguin Flipper-Mass relationship')\n",
    "\n",
    "ax.set_xlabel('Body Mass [grams]')\n",
    "ax.set_ylabel('Flipper Length [mm]')\n",
    "\n",
    "plt.show()"
   ]
  },
  {
   "cell_type": "markdown",
   "id": "ee3156a3",
   "metadata": {
    "slideshow": {
     "slide_type": "slide"
    }
   },
   "source": [
    "Multiple plots with seaborn and matplotlib:\n",
    "- Flipper length vs mass\n",
    "- Bill length vs mass"
   ]
  },
  {
   "cell_type": "code",
   "execution_count": null,
   "id": "c23057a5",
   "metadata": {
    "slideshow": {
     "slide_type": "slide"
    }
   },
   "outputs": [],
   "source": [
    "%%capture seaborn_subplots\n",
    "fig, ax = plt.subplots(1, 2)\n",
    "# can set overall title w figure object method\n",
    "fig.suptitle('Penguins: Physical measurements vs body mass')\n",
    "# creates scatterplots referencing different ax objects in ax array\n",
    "sns.scatterplot(x = 'body_mass_g', y = 'flipper_length_mm', data = penguins_df, ax = ax[0] )\n",
    "sns.scatterplot(x = 'body_mass_g', y = 'bill_length_mm', data = penguins_df, ax = ax[1] )\n",
    "# independently control xlabel, ylabel, etc.\n",
    "ax[0].set_xlabel('Body Mass [grams]')\n",
    "ax[0].set_ylabel('Flipper Length [mm]')\n",
    "\n",
    "ax[1].set_xlabel('Body Mass [grams]')\n",
    "ax[1].set_ylabel('Bill Length [mm]')\n",
    "\n",
    "plt.tight_layout()\n",
    "\n",
    "plt.show()"
   ]
  },
  {
   "cell_type": "code",
   "execution_count": null,
   "id": "8f705808",
   "metadata": {
    "slideshow": {
     "slide_type": "slide"
    }
   },
   "outputs": [],
   "source": [
    "seaborn_subplots()"
   ]
  },
  {
   "cell_type": "markdown",
   "id": "dbc3d202",
   "metadata": {
    "cell_style": "split",
    "slideshow": {
     "slide_type": "slide"
    }
   },
   "source": [
    "Let's take a look at that flipper length vs body mass relationship:\n",
    "- Linear relation\n",
    "- Two possible groups inside?\n",
    "- Male / Female?"
   ]
  },
  {
   "cell_type": "markdown",
   "id": "7e4fea52",
   "metadata": {
    "cell_style": "split",
    "slideshow": {
     "slide_type": "fragment"
    }
   },
   "source": [
    "- Data points and attributes can be conditioned on categorical:\n",
    "    - hue = __\n",
    "    - style = ___"
   ]
  },
  {
   "cell_type": "code",
   "execution_count": null,
   "id": "216dcd5c",
   "metadata": {
    "cell_style": "center",
    "slideshow": {
     "slide_type": "slide"
    }
   },
   "outputs": [],
   "source": [
    "sns.scatterplot(x = 'body_mass_g', y = 'flipper_length_mm', hue = 'sex', data = penguins_df )\n",
    "plt.show()"
   ]
  },
  {
   "cell_type": "markdown",
   "id": "f4b5d630",
   "metadata": {
    "slideshow": {
     "slide_type": "fragment"
    }
   },
   "source": [
    "Male/female are subgroups within an outer grouping structure:\n",
    "- Within each group:\n",
    "    - males have longer flipper length/ larger body mass"
   ]
  },
  {
   "cell_type": "markdown",
   "id": "9c933e24",
   "metadata": {
    "cell_style": "split",
    "slideshow": {
     "slide_type": "slide"
    }
   },
   "source": [
    "What is the outer grouping structure?\n",
    "- Derived from another categorical column in the dataset?"
   ]
  },
  {
   "cell_type": "code",
   "execution_count": null,
   "id": "65b3f93b",
   "metadata": {
    "cell_style": "split",
    "slideshow": {
     "slide_type": "fragment"
    }
   },
   "outputs": [],
   "source": [
    "penguins_df.info()"
   ]
  },
  {
   "cell_type": "code",
   "execution_count": null,
   "id": "b03e67ed",
   "metadata": {
    "cell_style": "center",
    "scrolled": false,
    "slideshow": {
     "slide_type": "slide"
    }
   },
   "outputs": [],
   "source": [
    "fig, ax = plt.subplots(figsize = (7,5))\n",
    "sns.scatterplot(x = 'body_mass_g', y = 'flipper_length_mm', \n",
    "                style = 'species', s = 100, hue = 'sex', data = penguins_df)\n",
    "plt.show()"
   ]
  },
  {
   "cell_type": "markdown",
   "id": "c03ee506",
   "metadata": {
    "slideshow": {
     "slide_type": "fragment"
    }
   },
   "source": [
    "What is this telling me?"
   ]
  },
  {
   "cell_type": "markdown",
   "id": "f56fd971",
   "metadata": {
    "cell_style": "split",
    "slideshow": {
     "slide_type": "slide"
    }
   },
   "source": [
    "Hue and style commands are keyword arguments of most seaborn commands:\n",
    "- Very useful for visualizing behavior across different categorical distributions."
   ]
  },
  {
   "cell_type": "markdown",
   "id": "d3b0edc6",
   "metadata": {
    "cell_style": "split",
    "slideshow": {
     "slide_type": "fragment"
    }
   },
   "source": [
    "Can also qualitatively visualize the numerical value of another numerical attribute:\n",
    "\n",
    "- variable size markers \n",
    "- conditioned on numeric column\n",
    "    "
   ]
  },
  {
   "cell_type": "code",
   "execution_count": null,
   "id": "5cb54c01",
   "metadata": {
    "slideshow": {
     "slide_type": "slide"
    }
   },
   "outputs": [],
   "source": [
    "fig, ax = plt.subplots(figsize = (7,5))\n",
    "sns.scatterplot(x = 'body_mass_g', y = 'flipper_length_mm', \n",
    "                style = 'species', size = 'bill_depth_mm',  hue = 'sex', data = penguins_df)\n",
    "plt.show()"
   ]
  },
  {
   "cell_type": "markdown",
   "id": "ab3d6352",
   "metadata": {
    "slideshow": {
     "slide_type": "slide"
    }
   },
   "source": [
    "Was this useful?"
   ]
  },
  {
   "cell_type": "markdown",
   "id": "ab5f753b",
   "metadata": {
    "slideshow": {
     "slide_type": "fragment"
    }
   },
   "source": [
    "- Tricky to compare sizes across markers\n",
    "- Too many variables to think about:\n",
    "    - different types\n",
    "    - different visual representations\n",
    "- Info overload"
   ]
  },
  {
   "cell_type": "markdown",
   "id": "96503b40",
   "metadata": {
    "slideshow": {
     "slide_type": "slide"
    }
   },
   "source": [
    "Golden mind-set:\n",
    "- One plot: keep it sufficiently simple to visualize target relationships\n",
    "- But rich enough that plot contains useful information.\n",
    "\n",
    "**This is an art**. Comes with practice."
   ]
  },
  {
   "cell_type": "markdown",
   "id": "4e631e05",
   "metadata": {
    "slideshow": {
     "slide_type": "slide"
    }
   },
   "source": [
    "#### Distribution plots\n",
    "\n",
    "- May be useful to take a look at this data from a different angle.\n",
    "- accents different aspect of the data"
   ]
  },
  {
   "cell_type": "markdown",
   "id": "9cf47e48",
   "metadata": {
    "slideshow": {
     "slide_type": "slide"
    }
   },
   "source": [
    "#### The Box plot"
   ]
  },
  {
   "cell_type": "markdown",
   "id": "01737b28",
   "metadata": {
    "cell_style": "split",
    "slideshow": {
     "slide_type": "fragment"
    }
   },
   "source": [
    "Visualize summary statistics of distribution for numerical variable:\n",
    "- conditioned across categorical variable."
   ]
  },
  {
   "cell_type": "markdown",
   "id": "12d773c8",
   "metadata": {
    "cell_style": "split",
    "slideshow": {
     "slide_type": "fragment"
    }
   },
   "source": [
    "Again:\n",
    "- comparison of spread/median across groups\n",
    "- useful for outlier detection"
   ]
  },
  {
   "cell_type": "code",
   "execution_count": null,
   "id": "58ee5b0c",
   "metadata": {
    "cell_style": "split",
    "slideshow": {
     "slide_type": "slide"
    }
   },
   "outputs": [],
   "source": [
    "sns.boxplot(x = 'species', y = 'body_mass_g', \n",
    "            data = penguins_df, orient = 'v')\n",
    "plt.show()"
   ]
  },
  {
   "cell_type": "markdown",
   "id": "18963668",
   "metadata": {
    "cell_style": "split",
    "slideshow": {
     "slide_type": "fragment"
    }
   },
   "source": [
    "- Line is the medium\n",
    "- Box is 25-75 IQR\n",
    "- Whisker: \n",
    "    - (Q1 - 1.5 IQR, Q1)\n",
    "    - (Q3, Q3 + 1.5 IQR)"
   ]
  },
  {
   "cell_type": "markdown",
   "id": "822ca4c6",
   "metadata": {
    "slideshow": {
     "slide_type": "slide"
    }
   },
   "source": [
    "For both body mass and flipper length:"
   ]
  },
  {
   "cell_type": "code",
   "execution_count": null,
   "id": "a6ac1e09",
   "metadata": {
    "slideshow": {
     "slide_type": "fragment"
    }
   },
   "outputs": [],
   "source": [
    "fig, ax = plt.subplots(1,2)\n",
    "sns.boxplot(x = 'species', y = 'body_mass_g', data = penguins_df, orient = 'v', ax = ax[0])\n",
    "sns.boxplot(x = 'species', y = 'flipper_length_mm', data = penguins_df, orient = 'v', ax = ax[1])\n",
    "plt.tight_layout()"
   ]
  },
  {
   "cell_type": "markdown",
   "id": "53a941c8",
   "metadata": {
    "slideshow": {
     "slide_type": "slide"
    }
   },
   "source": [
    "Some possible takeaways:\n",
    "- Wider variation in gentoo masses on absolute scale than chinstrap\n",
    "- Flipper length variation is similar for the two.\n",
    "\n",
    "Maybe some other factor responsible for difference in spreads?"
   ]
  },
  {
   "cell_type": "markdown",
   "id": "89d4799b",
   "metadata": {
    "slideshow": {
     "slide_type": "slide"
    }
   },
   "source": [
    "Seaborn has other numeric vs categorical distributional plots that are useful in this regard:\n",
    "- sns.striplot\n",
    "- sns.violinplot\n",
    "- sns.swarmplot"
   ]
  },
  {
   "cell_type": "markdown",
   "id": "4a0ef9e7",
   "metadata": {
    "cell_style": "split",
    "slideshow": {
     "slide_type": "slide"
    }
   },
   "source": [
    "#### striplot\n",
    "- represents distribution by plotting the numeric values for each data point in a strip\n",
    "- does for each categorical value\n",
    "- useful when you want to visualize individual points and get a feel for density."
   ]
  },
  {
   "cell_type": "code",
   "execution_count": null,
   "id": "c1b268da",
   "metadata": {
    "cell_style": "split",
    "slideshow": {
     "slide_type": "fragment"
    }
   },
   "outputs": [],
   "source": [
    "sns.stripplot(x = 'species', y = 'body_mass_g', \n",
    "            data = penguins_df, orient = 'v')\n",
    "plt.show()"
   ]
  },
  {
   "cell_type": "markdown",
   "id": "97fcb1ba",
   "metadata": {
    "cell_style": "split",
    "slideshow": {
     "slide_type": "slide"
    }
   },
   "source": [
    "stripplot usually overlayed with another distributional plot:\n",
    "- e.g., overlay with boxplot.\n",
    "- useful with hue as well."
   ]
  },
  {
   "cell_type": "code",
   "execution_count": null,
   "id": "2e29a239",
   "metadata": {
    "cell_style": "split",
    "slideshow": {
     "slide_type": "fragment"
    }
   },
   "outputs": [],
   "source": [
    "fig, ax = plt.subplots()\n",
    "sns.stripplot(x = 'species', y = 'body_mass_g', \n",
    "            data = penguins_df, \n",
    "              ax = ax, hue = 'sex', alpha = 0.5)\n",
    "sns.boxplot(x = 'species', y = 'body_mass_g', \n",
    "            data = penguins_df, ax = ax)\n",
    "plt.show()"
   ]
  },
  {
   "cell_type": "markdown",
   "id": "d4d5ddec",
   "metadata": {
    "cell_style": "center",
    "slideshow": {
     "slide_type": "slide"
    }
   },
   "source": [
    "Plotting this for both flipper length and body mass and side by side:"
   ]
  },
  {
   "cell_type": "code",
   "execution_count": null,
   "id": "0bae289a",
   "metadata": {
    "slideshow": {
     "slide_type": "fragment"
    }
   },
   "outputs": [],
   "source": [
    "%%capture boxstrip\n",
    "\n",
    "fig, ax = plt.subplots(1,2, figsize = (10,5))\n",
    "sns.stripplot(x = 'species', y = 'body_mass_g', data = penguins_df, ax = ax[0], hue = 'sex', alpha = 0.5)\n",
    "sns.boxplot(x = 'species', y = 'body_mass_g', data = penguins_df, orient = 'v', ax = ax[0])\n",
    "\n",
    "sns.boxplot(x = 'species', y = 'flipper_length_mm', data = penguins_df, orient = 'v', ax = ax[1])\n",
    "sns.stripplot(x = 'species', y = 'flipper_length_mm', data = penguins_df, ax = ax[1], hue = 'sex', alpha = 0.5)\n",
    "plt.tight_layout()"
   ]
  },
  {
   "cell_type": "code",
   "execution_count": null,
   "id": "b87a0496",
   "metadata": {
    "slideshow": {
     "slide_type": "slide"
    }
   },
   "outputs": [],
   "source": [
    "boxstrip()"
   ]
  },
  {
   "cell_type": "markdown",
   "id": "0795d844",
   "metadata": {
    "slideshow": {
     "slide_type": "fragment"
    }
   },
   "source": [
    "What is a reasonable thing to infer from these plots?"
   ]
  },
  {
   "cell_type": "markdown",
   "id": "3cb7e3d5",
   "metadata": {
    "cell_style": "split",
    "slideshow": {
     "slide_type": "slide"
    }
   },
   "source": [
    "Some downsides of:\n",
    "- stripplot\n",
    "- boxplot\n",
    "\n",
    "\n",
    "Neither provides a way to visualize shape of distributions. "
   ]
  },
  {
   "cell_type": "markdown",
   "id": "cd801829",
   "metadata": {
    "cell_style": "split",
    "slideshow": {
     "slide_type": "fragment"
    }
   },
   "source": [
    "Shape of mass distributions:\n",
    "\n",
    "- bimodal?\n",
    "- uniform?"
   ]
  },
  {
   "cell_type": "code",
   "execution_count": null,
   "id": "47592c63",
   "metadata": {
    "scrolled": false,
    "slideshow": {
     "slide_type": "slide"
    }
   },
   "outputs": [],
   "source": [
    "boxstrip()"
   ]
  },
  {
   "cell_type": "markdown",
   "id": "404a3eee",
   "metadata": {
    "cell_style": "split",
    "slideshow": {
     "slide_type": "slide"
    }
   },
   "source": [
    "Have not taken advantage of the lateral dimension:\n",
    "- use to represent distribution weight at particular values of numerical variable"
   ]
  },
  {
   "cell_type": "markdown",
   "id": "b5bfe4f4",
   "metadata": {
    "cell_style": "split",
    "slideshow": {
     "slide_type": "fragment"
    }
   },
   "source": [
    "- sns.swarmplot\n",
    "- sns.violinplot"
   ]
  },
  {
   "cell_type": "markdown",
   "id": "10283b55",
   "metadata": {
    "cell_style": "center",
    "slideshow": {
     "slide_type": "slide"
    }
   },
   "source": [
    "#### swarmplot (similar to stripplot, but)\n",
    "- points are adjusted (along the categorical axis) so that they don’t overlap. \n",
    "- fattens width where dense number of observations\n",
    "- better representation of the distribution of values"
   ]
  },
  {
   "cell_type": "code",
   "execution_count": null,
   "id": "45e4224d",
   "metadata": {
    "cell_style": "split",
    "slideshow": {
     "slide_type": "fragment"
    }
   },
   "outputs": [],
   "source": [
    "sns.stripplot(x = 'species', y = 'body_mass_g', \n",
    "            data = penguins_df)\n",
    "plt.show()"
   ]
  },
  {
   "cell_type": "code",
   "execution_count": null,
   "id": "fc9f085e",
   "metadata": {
    "cell_style": "split",
    "slideshow": {
     "slide_type": "fragment"
    }
   },
   "outputs": [],
   "source": [
    "sns.swarmplot(x = 'species', y = 'body_mass_g', \n",
    "            data = penguins_df)\n",
    "plt.show()"
   ]
  },
  {
   "cell_type": "markdown",
   "id": "3f012f54",
   "metadata": {
    "slideshow": {
     "slide_type": "fragment"
    }
   },
   "source": [
    "Bimodality apparent for Gentoo."
   ]
  },
  {
   "cell_type": "markdown",
   "id": "558211cb",
   "metadata": {
    "slideshow": {
     "slide_type": "slide"
    }
   },
   "source": [
    "Again, can overlay with a box plot if you want:\n",
    "- changing transparency on boxplot may be useful."
   ]
  },
  {
   "cell_type": "code",
   "execution_count": null,
   "id": "49fbc2d1",
   "metadata": {
    "slideshow": {
     "slide_type": "fragment"
    }
   },
   "outputs": [],
   "source": [
    "fig, ax = plt.subplots()\n",
    "sns.swarmplot(x = 'species', y = 'body_mass_g', data = penguins_df, ax = ax)\n",
    "sns.boxplot(x = 'species', y = 'body_mass_g', data = penguins_df, ax = ax)\n",
    "\n",
    "plt.show()"
   ]
  },
  {
   "cell_type": "markdown",
   "id": "b29e9b26",
   "metadata": {
    "slideshow": {
     "slide_type": "slide"
    }
   },
   "source": [
    "Now let's add a hue on sex:"
   ]
  },
  {
   "cell_type": "code",
   "execution_count": null,
   "id": "45d1d246",
   "metadata": {
    "scrolled": true,
    "slideshow": {
     "slide_type": "fragment"
    }
   },
   "outputs": [],
   "source": [
    "fig, ax = plt.subplots()\n",
    "sns.swarmplot(x = 'species', y = 'body_mass_g', hue = 'sex', data = penguins_df, ax = ax)\n",
    "sns.boxplot(x = 'species', y = 'body_mass_g', data = penguins_df, ax = ax)\n",
    "\n",
    "plt.show()"
   ]
  },
  {
   "cell_type": "markdown",
   "id": "423640e6",
   "metadata": {
    "cell_style": "split",
    "slideshow": {
     "slide_type": "slide"
    }
   },
   "source": [
    "One issue with swarmplots:\n",
    "- not scalable as data gets large.\n",
    "- warnings start to get thrown: cant fit data on plot\n",
    "- want a proper approximation of the continuous distribution."
   ]
  },
  {
   "cell_type": "markdown",
   "id": "59426b43",
   "metadata": {
    "cell_style": "split",
    "slideshow": {
     "slide_type": "fragment"
    }
   },
   "source": [
    "Enter: the violin plot\n",
    "- plots distribution for numerical attribute\n",
    "- width represents density of data"
   ]
  },
  {
   "cell_type": "code",
   "execution_count": null,
   "id": "8307b3c8",
   "metadata": {
    "slideshow": {
     "slide_type": "slide"
    }
   },
   "outputs": [],
   "source": [
    "sns.violinplot(x = 'species', y = 'body_mass_g', data = penguins_df)\n",
    "plt.show()"
   ]
  },
  {
   "cell_type": "markdown",
   "id": "96e93e64",
   "metadata": {
    "slideshow": {
     "slide_type": "slide"
    }
   },
   "source": [
    "Can hue to view distribution across another categorical side by side:"
   ]
  },
  {
   "cell_type": "code",
   "execution_count": null,
   "id": "321867e6",
   "metadata": {
    "slideshow": {
     "slide_type": "fragment"
    }
   },
   "outputs": [],
   "source": [
    "sns.violinplot(x = 'species', y = 'body_mass_g', hue = 'sex', data = penguins_df)\n",
    "plt.show()"
   ]
  },
  {
   "cell_type": "markdown",
   "id": "74e31594",
   "metadata": {
    "slideshow": {
     "slide_type": "slide"
    }
   },
   "source": [
    "In the specific but useful case where hue variable is binary:\n",
    "- Can use split = ___ argument"
   ]
  },
  {
   "cell_type": "code",
   "execution_count": null,
   "id": "1dfaccac",
   "metadata": {
    "cell_style": "split",
    "scrolled": true,
    "slideshow": {
     "slide_type": "fragment"
    }
   },
   "outputs": [],
   "source": [
    "sns.violinplot(x = 'species', y = 'body_mass_g',\n",
    "               hue = 'sex', split = True, \n",
    "               data = penguins_df)\n",
    "plt.show()"
   ]
  },
  {
   "cell_type": "markdown",
   "id": "2cff87de",
   "metadata": {
    "cell_style": "split",
    "slideshow": {
     "slide_type": "fragment"
    }
   },
   "source": [
    "- Median/IQR comparisons (less clear than boxplot but still good)\n",
    "- Sexual dimorphism is very apparent:\n",
    "    - Investigate subpopulation distributions: normal"
   ]
  },
  {
   "cell_type": "markdown",
   "id": "c9d2a069",
   "metadata": {
    "cell_style": "center",
    "slideshow": {
     "slide_type": "slide"
    }
   },
   "source": [
    "Can always overlay with a stripplot:"
   ]
  },
  {
   "cell_type": "code",
   "execution_count": null,
   "id": "af211792",
   "metadata": {
    "slideshow": {
     "slide_type": "fragment"
    }
   },
   "outputs": [],
   "source": [
    "%%capture violinsubplots\n",
    "fig, ax = plt.subplots(1, 2, figsize = (12,6))\n",
    "sns.violinplot(x = 'species', y = 'body_mass_g', hue = 'sex', split = True, data = penguins_df, ax = ax[0])\n",
    "sns.stripplot(x = 'species', y = 'body_mass_g', hue = 'sex', data = penguins_df, palette= ['orange','blue'], ax = ax[0])\n",
    "sns.violinplot(x = 'species', y = 'flipper_length_mm', hue = 'sex', split = True, data = penguins_df, ax = ax[1])\n",
    "sns.stripplot(x = 'species', y = 'flipper_length_mm', hue = 'sex', data = penguins_df, palette= ['blue', 'orange'], ax = ax[1])\n",
    "plt.show()"
   ]
  },
  {
   "cell_type": "code",
   "execution_count": null,
   "id": "eaa1543b",
   "metadata": {
    "slideshow": {
     "slide_type": "slide"
    }
   },
   "outputs": [],
   "source": [
    "violinsubplots()"
   ]
  },
  {
   "cell_type": "markdown",
   "id": "2f5f52f2",
   "metadata": {
    "slideshow": {
     "slide_type": "slide"
    }
   },
   "source": [
    "The same data displayed in a different format can make apparent different things:"
   ]
  },
  {
   "cell_type": "code",
   "execution_count": null,
   "id": "a609cc84",
   "metadata": {
    "cell_style": "split",
    "scrolled": true,
    "slideshow": {
     "slide_type": "fragment"
    }
   },
   "outputs": [],
   "source": [
    "violinsubplots()"
   ]
  },
  {
   "cell_type": "code",
   "execution_count": null,
   "id": "a92690cd",
   "metadata": {
    "cell_style": "split",
    "slideshow": {
     "slide_type": "fragment"
    }
   },
   "outputs": [],
   "source": [
    "fig, ax = plt.subplots(figsize = (6,5))\n",
    "sns.scatterplot(x = 'body_mass_g', y = 'flipper_length_mm', \n",
    "                style = 'species', s = 100, hue = 'sex', data = penguins_df)\n",
    "plt.show()"
   ]
  },
  {
   "cell_type": "markdown",
   "id": "e6a6d595",
   "metadata": {
    "slideshow": {
     "slide_type": "slide"
    }
   },
   "source": [
    "#### sns.histplot\n",
    "\n",
    "- just visualize the distribution of numerical variable with a histogram"
   ]
  },
  {
   "cell_type": "code",
   "execution_count": null,
   "id": "f86b7f1f",
   "metadata": {
    "slideshow": {
     "slide_type": "fragment"
    }
   },
   "outputs": [],
   "source": [
    "sns.histplot(x = 'body_mass_g', element=\"step\", data = penguins_df)\n",
    "plt.show()"
   ]
  },
  {
   "cell_type": "markdown",
   "id": "be1215ec",
   "metadata": {
    "slideshow": {
     "slide_type": "slide"
    }
   },
   "source": [
    "- also takes in hue argument\n",
    "- visualize histogram for subpopulations"
   ]
  },
  {
   "cell_type": "code",
   "execution_count": null,
   "id": "fcabc383",
   "metadata": {
    "slideshow": {
     "slide_type": "fragment"
    }
   },
   "outputs": [],
   "source": [
    "sns.histplot(x = 'body_mass_g', hue = 'species', element=\"step\", data = penguins_df)\n",
    "plt.show()"
   ]
  },
  {
   "cell_type": "markdown",
   "id": "ace108a3",
   "metadata": {
    "slideshow": {
     "slide_type": "slide"
    }
   },
   "source": [
    "Useful to normalize histograms to get proportion of subpopulations:\n",
    "- stat = ___ (count, percent, proportion, ...)\n",
    "- common_norm = ___ (true, false)"
   ]
  },
  {
   "cell_type": "code",
   "execution_count": null,
   "id": "196c5c44",
   "metadata": {
    "cell_style": "center",
    "slideshow": {
     "slide_type": "slide"
    }
   },
   "outputs": [],
   "source": [
    "sns.histplot(x = 'body_mass_g', hue = 'species', element=\"step\", stat=\"proportion\", \n",
    "             common_norm= False, data = penguins_df)\n",
    "plt.show()"
   ]
  },
  {
   "cell_type": "markdown",
   "id": "060add97",
   "metadata": {
    "slideshow": {
     "slide_type": "slide"
    }
   },
   "source": [
    "Can also change number of bins:\n"
   ]
  },
  {
   "cell_type": "code",
   "execution_count": null,
   "id": "8fdbafc6",
   "metadata": {
    "slideshow": {
     "slide_type": "fragment"
    }
   },
   "outputs": [],
   "source": [
    "# difference between 11 and 12 bins\n",
    "sns.histplot(x = 'body_mass_g', hue = 'species', element=\"step\", stat=\"proportion\", \n",
    "             common_norm=False, bins = 10, data = penguins_df)\n",
    "plt.show()"
   ]
  },
  {
   "cell_type": "markdown",
   "id": "b4a4bb3e",
   "metadata": {
    "slideshow": {
     "slide_type": "slide"
    }
   },
   "source": [
    "Binning bias can be an issue:\n",
    "- The empirical cumulative distribution solves this problem:"
   ]
  },
  {
   "cell_type": "code",
   "execution_count": null,
   "id": "9889f618",
   "metadata": {
    "cell_style": "split",
    "slideshow": {
     "slide_type": "slide"
    }
   },
   "outputs": [],
   "source": [
    "sns.ecdfplot(x = 'body_mass_g', data = penguins_df)\n",
    "plt.show()"
   ]
  },
  {
   "cell_type": "markdown",
   "id": "2bc135c8",
   "metadata": {
    "cell_style": "split",
    "slideshow": {
     "slide_type": "fragment"
    }
   },
   "source": [
    "For given $x$ value (mass):\n",
    "\n",
    "- percentage of data that is equal to or less than given value.\n",
    "- this value doesn't require data discretization: no binning artifacts"
   ]
  },
  {
   "cell_type": "markdown",
   "id": "feceebae",
   "metadata": {
    "slideshow": {
     "slide_type": "slide"
    }
   },
   "source": [
    "With hue:"
   ]
  },
  {
   "cell_type": "code",
   "execution_count": null,
   "id": "f02d08b9",
   "metadata": {
    "cell_style": "split",
    "slideshow": {
     "slide_type": "fragment"
    }
   },
   "outputs": [],
   "source": [
    "sns.ecdfplot(x = 'body_mass_g', hue = 'species',\n",
    "             data = penguins_df)\n",
    "plt.show()"
   ]
  },
  {
   "cell_type": "markdown",
   "id": "08af0cfe",
   "metadata": {
    "cell_style": "split",
    "slideshow": {
     "slide_type": "fragment"
    }
   },
   "source": [
    "- These plots can be very useful when comparing with theoretical cumulative distributions.\n",
    "- i.e. plot against a theoretical cdf:\n",
    "    - normal\n",
    "    - poisson\n",
    "    - exponential, etc..."
   ]
  },
  {
   "cell_type": "markdown",
   "id": "12b4c4fa",
   "metadata": {
    "cell_style": "center",
    "slideshow": {
     "slide_type": "slide"
    }
   },
   "source": [
    "#### Multivariate/Bivariate continuous data\n",
    "- want to look at how data is distributed across two continuous explanatory variables\n",
    "- Beak length and beak depth\n",
    "- See distributions on individual histograms (marginals)."
   ]
  },
  {
   "cell_type": "markdown",
   "id": "d7c594bf",
   "metadata": {
    "slideshow": {
     "slide_type": "fragment"
    }
   },
   "source": [
    "sns.jointplot is very useful here."
   ]
  },
  {
   "cell_type": "code",
   "execution_count": null,
   "id": "06586f86",
   "metadata": {
    "slideshow": {
     "slide_type": "slide"
    }
   },
   "outputs": [],
   "source": [
    "sns.jointplot(x = 'bill_depth_mm', y = 'bill_length_mm', data = penguins_df)\n",
    "plt.show()"
   ]
  },
  {
   "cell_type": "markdown",
   "id": "8e84ae07",
   "metadata": {
    "slideshow": {
     "slide_type": "slide"
    }
   },
   "source": [
    "Particularly when data is dense and overlapping:\n",
    "- will be true for larger datasets.\n",
    "- a 2D histogram / hex distribution might be useful."
   ]
  },
  {
   "cell_type": "code",
   "execution_count": null,
   "id": "cdfab032",
   "metadata": {
    "slideshow": {
     "slide_type": "slide"
    }
   },
   "outputs": [],
   "source": [
    "sns.histplot(x = 'bill_depth_mm', y = 'bill_length_mm',  bins = 15, data = penguins_df)\n",
    "plt.show()"
   ]
  },
  {
   "cell_type": "markdown",
   "id": "f0579042",
   "metadata": {
    "slideshow": {
     "slide_type": "slide"
    }
   },
   "source": [
    "Can be useful to view the marginal histograms on the side:"
   ]
  },
  {
   "cell_type": "code",
   "execution_count": null,
   "id": "b6eb7ec8",
   "metadata": {
    "slideshow": {
     "slide_type": "fragment"
    }
   },
   "outputs": [],
   "source": [
    "sns.jointplot(x = 'bill_depth_mm', y = 'bill_length_mm', kind = 'hist',\n",
    "               joint_kws = dict(bins = 15), data = penguins_df)\n",
    "plt.show()"
   ]
  },
  {
   "cell_type": "markdown",
   "id": "07349154",
   "metadata": {
    "slideshow": {
     "slide_type": "slide"
    }
   },
   "source": [
    "A hex distribution version of the jointplot can also be quite nice:"
   ]
  },
  {
   "cell_type": "code",
   "execution_count": null,
   "id": "c6939894",
   "metadata": {
    "slideshow": {
     "slide_type": "fragment"
    }
   },
   "outputs": [],
   "source": [
    "sns.jointplot(x = 'bill_depth_mm', y = 'bill_length_mm', kind = 'hex',\n",
    "              joint_kws = dict(gridsize = 15), data = penguins_df)\n",
    "plt.show()"
   ]
  },
  {
   "cell_type": "markdown",
   "id": "a670c283",
   "metadata": {
    "slideshow": {
     "slide_type": "slide"
    }
   },
   "source": [
    "There could legitimately be three clusters here:\n",
    "- is there a categorical that could explain these groupings?\n",
    "- let's hue by it."
   ]
  },
  {
   "cell_type": "code",
   "execution_count": null,
   "id": "2e857600",
   "metadata": {
    "cell_style": "center",
    "slideshow": {
     "slide_type": "fragment"
    }
   },
   "outputs": [],
   "source": [
    "sns.jointplot(x = 'bill_depth_mm', y = 'bill_length_mm', hue = 'species', data = penguins_df)\n",
    "plt.show()"
   ]
  },
  {
   "cell_type": "markdown",
   "id": "0d544bd4",
   "metadata": {
    "slideshow": {
     "slide_type": "slide"
    }
   },
   "source": [
    "That gives us a lot of info:\n",
    "- species clustering in this space\n",
    "- distribution differences across species in the marginal variables"
   ]
  },
  {
   "cell_type": "markdown",
   "id": "3847a7f6",
   "metadata": {
    "slideshow": {
     "slide_type": "slide"
    }
   },
   "source": [
    "#### Relational plotting and facet gridding\n",
    "- want to look at relationship between two continuous numerical variables:\n",
    "    - flipper length\n",
    "    - body mass\n",
    "- conditioned across multiple categorical variables (different species, different sex)\n",
    "\n"
   ]
  },
  {
   "cell_type": "markdown",
   "id": "4171b2e3",
   "metadata": {
    "slideshow": {
     "slide_type": "slide"
    }
   },
   "source": [
    "#### sns.relplot \n",
    "\n",
    "- can create a grid plotting relations between continuous numerical variables\n",
    "- for each realization of categoricals"
   ]
  },
  {
   "cell_type": "code",
   "execution_count": null,
   "id": "15df4050",
   "metadata": {
    "slideshow": {
     "slide_type": "slide"
    }
   },
   "outputs": [],
   "source": [
    "sns.relplot(x = 'body_mass_g', y = 'flipper_length_mm', hue = 'sex', col = 'species', data = penguins_df)\n",
    "plt.show()"
   ]
  },
  {
   "cell_type": "markdown",
   "id": "f44d37af",
   "metadata": {
    "slideshow": {
     "slide_type": "slide"
    }
   },
   "source": [
    "Extending this to include islands:\n",
    "- creates a grid (known as a facet grid)"
   ]
  },
  {
   "cell_type": "code",
   "execution_count": null,
   "id": "01f578db",
   "metadata": {
    "slideshow": {
     "slide_type": "slide"
    }
   },
   "outputs": [],
   "source": [
    "sns.relplot(x = 'body_mass_g', y = 'flipper_length_mm', hue = 'sex', row = 'island', col = 'species', data = penguins_df)\n",
    "plt.show()"
   ]
  },
  {
   "cell_type": "markdown",
   "id": "882e0e2a",
   "metadata": {
    "slideshow": {
     "slide_type": "slide"
    }
   },
   "source": [
    "This was cool:\n",
    "- Can we do a similar thing with our distribution plots?\n",
    "    - box plots\n",
    "    - violin plots\n",
    "    - stripplots, etc."
   ]
  },
  {
   "cell_type": "markdown",
   "id": "ab7adb88",
   "metadata": {
    "cell_style": "center",
    "slideshow": {
     "slide_type": "slide"
    }
   },
   "source": [
    "#### sns.catplot\n",
    "- exact same logic as relplot but with a numeric vs categorical variable"
   ]
  },
  {
   "cell_type": "code",
   "execution_count": null,
   "id": "2a2985d1",
   "metadata": {
    "slideshow": {
     "slide_type": "fragment"
    }
   },
   "outputs": [],
   "source": [
    "sns.catplot(x = 'species', y = 'body_mass_g', kind = 'box', col = 'sex', data = penguins_df)\n",
    "plt.show()"
   ]
  },
  {
   "cell_type": "markdown",
   "id": "c56db3c6",
   "metadata": {
    "slideshow": {
     "slide_type": "slide"
    }
   },
   "source": [
    "Can extend the facet with rows from another categorical."
   ]
  },
  {
   "cell_type": "code",
   "execution_count": null,
   "id": "f45ce098",
   "metadata": {
    "slideshow": {
     "slide_type": "slide"
    }
   },
   "outputs": [],
   "source": [
    "sns.catplot(x = 'species', y = 'body_mass_g', kind = 'box', col = 'island', row = 'sex', data = penguins_df)\n",
    "plt.show()"
   ]
  },
  {
   "cell_type": "markdown",
   "id": "495afbf0",
   "metadata": {
    "slideshow": {
     "slide_type": "slide"
    }
   },
   "source": [
    "But how do we overlay other plots on this grid of boxplots?\n",
    "- e.g. overlay swarmplots on grid of boxplots\n",
    "- Seaborn has a method for this.\n",
    "- .map_dataframe() method will do the trick."
   ]
  },
  {
   "cell_type": "code",
   "execution_count": null,
   "id": "c3716cc1",
   "metadata": {},
   "outputs": [],
   "source": [
    "penguins_df"
   ]
  },
  {
   "cell_type": "code",
   "execution_count": null,
   "id": "8af475c0",
   "metadata": {
    "scrolled": false,
    "slideshow": {
     "slide_type": "slide"
    }
   },
   "outputs": [],
   "source": [
    "g = sns.catplot(x = 'species', y = 'body_mass_g', kind = 'box', col = 'island', row = 'sex', data = penguins_df)\n",
    "g.map_dataframe(sns.swarmplot, x=\"species\", y = 'body_mass_g', color = 'yellow', alpha=0.6, dodge=True)\n",
    "\n",
    "plt.show()"
   ]
  },
  {
   "cell_type": "markdown",
   "id": "8ea34dd6",
   "metadata": {
    "slideshow": {
     "slide_type": "slide"
    }
   },
   "source": [
    "There are other forms of numerical variable vs categorical plots:"
   ]
  },
  {
   "cell_type": "markdown",
   "id": "01a6dae5",
   "metadata": {
    "cell_style": "center",
    "slideshow": {
     "slide_type": "fragment"
    }
   },
   "source": [
    "statistics of numerical feature vs. category: aggregations\n",
    "- bar plots\n",
    "- count plots\n",
    "- point plots "
   ]
  },
  {
   "cell_type": "markdown",
   "id": "67308558",
   "metadata": {
    "slideshow": {
     "slide_type": "slide"
    }
   },
   "source": [
    "Barplots in seaborn a little different than in matplotlib and pandas plot:\n",
    "- pandas plot case:"
   ]
  },
  {
   "cell_type": "markdown",
   "id": "bc1096ca",
   "metadata": {
    "slideshow": {
     "slide_type": "slide"
    }
   },
   "source": [
    "Get a barplot of mean body mass by species."
   ]
  },
  {
   "cell_type": "code",
   "execution_count": null,
   "id": "2765bad4",
   "metadata": {
    "cell_style": "split",
    "slideshow": {
     "slide_type": "fragment"
    }
   },
   "outputs": [],
   "source": [
    "species_means = penguins_df.groupby(\n",
    "    'species').mean(numeric_only = True)\n",
    "species_means['body_mass_g']"
   ]
  },
  {
   "cell_type": "markdown",
   "id": "5e81239b",
   "metadata": {
    "cell_style": "split",
    "slideshow": {
     "slide_type": "fragment"
    }
   },
   "source": [
    "Just plots values for each index value."
   ]
  },
  {
   "cell_type": "code",
   "execution_count": null,
   "id": "e24b4c32",
   "metadata": {
    "cell_style": "split",
    "slideshow": {
     "slide_type": "fragment"
    }
   },
   "outputs": [],
   "source": [
    "species_means['body_mass_g'].plot(\n",
    "    kind = 'bar')\n",
    "plt.show()"
   ]
  },
  {
   "cell_type": "markdown",
   "id": "99a95fe3",
   "metadata": {
    "slideshow": {
     "slide_type": "slide"
    }
   },
   "source": [
    "Seaborn barplot is designed to:\n",
    "- aggregate a numerical column and give us statistical information on the aggregation\n",
    "- as a function of a categorical grouping\n",
    "- estimate uncertainty on aggregation"
   ]
  },
  {
   "cell_type": "markdown",
   "id": "e95a7ba6",
   "metadata": {
    "cell_style": "split",
    "slideshow": {
     "slide_type": "slide"
    }
   },
   "source": [
    "Get a barplot of mean body mass by species:\n",
    "- note: using original dataframe.\n",
    "- seaborn does the groupby/aggregation for you."
   ]
  },
  {
   "cell_type": "markdown",
   "id": "ff957a87",
   "metadata": {
    "cell_style": "split",
    "slideshow": {
     "slide_type": "fragment"
    }
   },
   "source": [
    "sns.barplot:\n",
    "- default estimator is mean\n",
    "- error bars are default at 95% confidence interval"
   ]
  },
  {
   "cell_type": "code",
   "execution_count": null,
   "id": "2241a8e5",
   "metadata": {
    "scrolled": true,
    "slideshow": {
     "slide_type": "fragment"
    }
   },
   "outputs": [],
   "source": [
    "# ci specifies a measure of uncertainty in the mean.\n",
    "sns.barplot(x = 'species', y = 'body_mass_g', data = penguins_df)\n",
    "plt.show()"
   ]
  },
  {
   "cell_type": "markdown",
   "id": "5fe047a2",
   "metadata": {
    "slideshow": {
     "slide_type": "slide"
    }
   },
   "source": [
    "Can change the statistical estimator on the groupby:\n",
    "- change aggregation function to median\n",
    "- change confidence level"
   ]
  },
  {
   "cell_type": "code",
   "execution_count": null,
   "id": "e3fbc65f",
   "metadata": {
    "slideshow": {
     "slide_type": "fragment"
    }
   },
   "outputs": [],
   "source": [
    "sns.barplot(x = 'species', y = 'body_mass_g', data = penguins_df, errorbar=('ci', 99.9), estimator = np.median)\n",
    "plt.show()"
   ]
  },
  {
   "cell_type": "markdown",
   "id": "48ecc3a3",
   "metadata": {
    "slideshow": {
     "slide_type": "slide"
    }
   },
   "source": [
    "Can take in custom aggregation functions:\n",
    "- Will build confidence intervals (uncertainty measure) for you.\n",
    "- Does this by bootstrap estimation."
   ]
  },
  {
   "cell_type": "markdown",
   "id": "daf2e9f5",
   "metadata": {
    "slideshow": {
     "slide_type": "slide"
    }
   },
   "source": [
    "Let's extract the statistic:\n",
    "\n",
    "$$ \\hat{T} = \\sum_i \\Big| \\ X_i - \\bar{X} \\Big| $$\n",
    "\n",
    "Also want to visualize confidence interval in $T$ at 99.99% level"
   ]
  },
  {
   "cell_type": "code",
   "execution_count": null,
   "id": "5cb4aa1c",
   "metadata": {
    "slideshow": {
     "slide_type": "fragment"
    }
   },
   "outputs": [],
   "source": [
    "def fun_estimator(input_series):\n",
    "    \n",
    "    X_centered = input_series - input_series.mean()\n",
    "    fun_est = np.abs(X_centered).sum()\n",
    "    return fun_est\n",
    "    "
   ]
  },
  {
   "cell_type": "code",
   "execution_count": null,
   "id": "d55c3fb8",
   "metadata": {
    "scrolled": true,
    "slideshow": {
     "slide_type": "slide"
    }
   },
   "outputs": [],
   "source": [
    "sns.barplot(x = 'species', y = 'body_mass_g', data = penguins_df, errorbar=('ci', 99.99), estimator = fun_estimator)\n",
    "plt.show()"
   ]
  },
  {
   "cell_type": "markdown",
   "id": "db9950bc",
   "metadata": {
    "cell_style": "split",
    "slideshow": {
     "slide_type": "slide"
    }
   },
   "source": [
    "#### Point Plots\n",
    "\n",
    "- In some cases we want to pay attention just to difference in:\n",
    "    - aggregated statistics across groups\n",
    "    - their uncertainties"
   ]
  },
  {
   "cell_type": "markdown",
   "id": "729181cf",
   "metadata": {
    "cell_style": "split",
    "slideshow": {
     "slide_type": "fragment"
    }
   },
   "source": [
    "Might occur for full scale on a bar plot:\n",
    "- statistically significant differences harder to see."
   ]
  },
  {
   "cell_type": "code",
   "execution_count": null,
   "id": "4d17e94d",
   "metadata": {
    "cell_style": "center",
    "slideshow": {
     "slide_type": "slide"
    }
   },
   "outputs": [],
   "source": [
    "def another_fun_estimator(input_series):\n",
    "\n",
    "    chisquared_centered = (input_series - input_series.mean())**2\n",
    "    another_fun_est = np.log(chisquared_centered.sum())\n",
    "    return another_fun_est"
   ]
  },
  {
   "cell_type": "code",
   "execution_count": null,
   "id": "6a1ef43a",
   "metadata": {
    "slideshow": {
     "slide_type": "fragment"
    }
   },
   "outputs": [],
   "source": [
    "fig, ax = plt.subplots(1,2, figsize = (10,4))\n",
    "sns.barplot(x = 'species', y = 'body_mass_g', data = penguins_df, \n",
    "            errorbar=('ci', 99.99), estimator = another_fun_estimator, ax = ax[0])\n",
    "\n",
    "sns.pointplot(x = 'species', y = 'body_mass_g', data = penguins_df,\n",
    "              errorbar=('ci', 99.99),estimator = another_fun_estimator, ax = ax[1])\n",
    "plt.show()"
   ]
  },
  {
   "cell_type": "markdown",
   "id": "cd8fca49",
   "metadata": {
    "slideshow": {
     "slide_type": "fragment"
    }
   },
   "source": [
    "Point plots should be plotted next to their full scale bar plots:\n",
    "- Viewers can view statistical significance (point plot)\n",
    "- as well as think about *actual* significance (full scale)"
   ]
  },
  {
   "cell_type": "markdown",
   "id": "1b4f22a3",
   "metadata": {
    "slideshow": {
     "slide_type": "slide"
    }
   },
   "source": [
    "#### Countplots\n",
    "- We already know what these are. Counts on a categorical.\n",
    "- Seaborn can do this without needing an aggregation"
   ]
  },
  {
   "cell_type": "code",
   "execution_count": null,
   "id": "62e06849",
   "metadata": {
    "slideshow": {
     "slide_type": "fragment"
    }
   },
   "outputs": [],
   "source": [
    "sns.countplot(x = 'species', data = penguins_df)\n",
    "plt.show()"
   ]
  },
  {
   "cell_type": "markdown",
   "id": "e0895819",
   "metadata": {
    "slideshow": {
     "slide_type": "slide"
    }
   },
   "source": [
    "We might want to take barplots, countplots, pointplots:\n",
    "- construct a facet grid off of other categories\n",
    "\n",
    "**sns.catplot will work for this**"
   ]
  },
  {
   "cell_type": "markdown",
   "id": "0a6512d8",
   "metadata": {
    "cell_style": "split",
    "slideshow": {
     "slide_type": "slide"
    }
   },
   "source": [
    "Get counts for each species:\n",
    "- Across islands\n",
    "- Across sex"
   ]
  },
  {
   "cell_type": "markdown",
   "id": "ab5a3e0e",
   "metadata": {
    "cell_style": "split",
    "slideshow": {
     "slide_type": "fragment"
    }
   },
   "source": [
    "- catplot will do filtering by plot for each unique set of island and sex values.\n",
    "- groupby on species\n",
    "- count aggregation\n"
   ]
  },
  {
   "cell_type": "code",
   "execution_count": null,
   "id": "9f627bc0",
   "metadata": {
    "slideshow": {
     "slide_type": "slide"
    }
   },
   "outputs": [],
   "source": [
    "sns.catplot(x = 'species', kind = 'count', col = 'island', row = 'sex', data = penguins_df)\n",
    "plt.show()"
   ]
  },
  {
   "cell_type": "markdown",
   "id": "2830fa21",
   "metadata": {
    "slideshow": {
     "slide_type": "slide"
    }
   },
   "source": [
    "A similar thing follow for barplots and pointplots."
   ]
  },
  {
   "cell_type": "code",
   "execution_count": null,
   "id": "b155821a",
   "metadata": {
    "slideshow": {
     "slide_type": "fragment"
    }
   },
   "outputs": [],
   "source": [
    "sns.catplot(x = 'species', y = 'body_mass_g', kind = 'bar', \n",
    "            col = 'sex', errorbar=('ci', 99.99), estimator = np.median, data = penguins_df)\n",
    "plt.show()"
   ]
  },
  {
   "cell_type": "markdown",
   "id": "ff64a6be",
   "metadata": {
    "slideshow": {
     "slide_type": "slide"
    }
   },
   "source": [
    "#### Pair plots:\n",
    "- Useful for plotting relationships between numeric columns.\n",
    "- visualizing data distribution for each numeric column.\n",
    "\n",
    "**Probably one of the first visualizations you should try after data cleaning**"
   ]
  },
  {
   "cell_type": "code",
   "execution_count": null,
   "id": "0227f121",
   "metadata": {
    "cell_style": "split",
    "slideshow": {
     "slide_type": "fragment"
    }
   },
   "outputs": [],
   "source": [
    "sns.pairplot(penguins_df, corner = True)\n",
    "plt.show()"
   ]
  },
  {
   "cell_type": "markdown",
   "id": "696ac228",
   "metadata": {
    "cell_style": "split",
    "slideshow": {
     "slide_type": "fragment"
    }
   },
   "source": [
    "- Distributions on diagonals\n",
    "- Scatterplots on off diagonals."
   ]
  },
  {
   "cell_type": "markdown",
   "id": "922ef8c6",
   "metadata": {
    "cell_style": "center",
    "slideshow": {
     "slide_type": "slide"
    }
   },
   "source": [
    "Can also hue this:"
   ]
  },
  {
   "cell_type": "code",
   "execution_count": null,
   "id": "a01e3485",
   "metadata": {
    "cell_style": "split",
    "scrolled": false,
    "slideshow": {
     "slide_type": "fragment"
    }
   },
   "outputs": [],
   "source": [
    "sns.pairplot(penguins_df, hue = 'species', \n",
    "             corner = True)\n",
    "\n",
    "plt.show()"
   ]
  },
  {
   "cell_type": "markdown",
   "id": "a77da9f8",
   "metadata": {
    "cell_style": "split",
    "slideshow": {
     "slide_type": "fragment"
    }
   },
   "source": [
    "- Hue option defaults diagonals to kdes: smoothened distribution. "
   ]
  },
  {
   "cell_type": "markdown",
   "id": "6716160d",
   "metadata": {
    "slideshow": {
     "slide_type": "slide"
    }
   },
   "source": [
    "Pairplot can take additional arguments for:\n",
    "- type of diagonal plot (diag_kind = 'hist', 'kde')\n",
    "- type of off diagonal plot (kind = 'hist','kde')"
   ]
  },
  {
   "cell_type": "code",
   "execution_count": null,
   "id": "0ea7a338",
   "metadata": {
    "cell_style": "center",
    "scrolled": false,
    "slideshow": {
     "slide_type": "fragment"
    }
   },
   "outputs": [],
   "source": [
    "%%capture histhistpair\n",
    "sns.pairplot(penguins_df, hue = 'species', diag_kind= \"hist\", kind = \"hist\",\n",
    "             diag_kws = {'element': 'step'}, plot_kws = {'bins': 15}, corner = True)\n",
    "plt.show()"
   ]
  },
  {
   "cell_type": "code",
   "execution_count": null,
   "id": "97ad7fb0",
   "metadata": {
    "slideshow": {
     "slide_type": "slide"
    }
   },
   "outputs": [],
   "source": [
    "histhistpair()"
   ]
  },
  {
   "cell_type": "markdown",
   "id": "d9ab20fe",
   "metadata": {
    "slideshow": {
     "slide_type": "slide"
    }
   },
   "source": [
    "A caveat on pairplots:\n",
    "- very expensive memory-wise and time-wise to create\n",
    "- for larger datasets: may need to downsample dataframe\n",
    "- or else will take forever"
   ]
  },
  {
   "cell_type": "code",
   "execution_count": null,
   "id": "bb82ee98",
   "metadata": {
    "cell_style": "split",
    "slideshow": {
     "slide_type": "fragment"
    }
   },
   "outputs": [],
   "source": [
    "down_sample_df = penguins_df.sample(100)\n",
    "down_sample_df.info()"
   ]
  },
  {
   "cell_type": "code",
   "execution_count": null,
   "id": "cf0a895d",
   "metadata": {
    "cell_style": "split",
    "slideshow": {
     "slide_type": "fragment"
    }
   },
   "outputs": [],
   "source": [
    "sns.pairplot(down_sample_df, hue = 'species', \n",
    "             corner = True)\n",
    "plt.show()"
   ]
  },
  {
   "cell_type": "code",
   "execution_count": null,
   "id": "a21dc1ea",
   "metadata": {},
   "outputs": [],
   "source": []
  }
 ],
 "metadata": {
  "kernelspec": {
   "display_name": "dplearn",
   "language": "python",
   "name": "dplearn"
  },
  "language_info": {
   "codemirror_mode": {
    "name": "ipython",
    "version": 3
   },
   "file_extension": ".py",
   "mimetype": "text/x-python",
   "name": "python",
   "nbconvert_exporter": "python",
   "pygments_lexer": "ipython3",
   "version": "3.10.10"
  }
 },
 "nbformat": 4,
 "nbformat_minor": 5
}
