{
 "cells": [
  {
   "cell_type": "markdown",
   "id": "b1e2e623",
   "metadata": {
    "cell_style": "center",
    "slideshow": {
     "slide_type": "slide"
    }
   },
   "source": [
    "<div style=\"color:white;\n",
    "           display:fill;\n",
    "           border-radius:5px;\n",
    "           background-color:#5642C5;\n",
    "           font-size:200%;\n",
    "           font-family:Arial;letter-spacing:0.5px\">\n",
    "\n",
    "<p width = 20%, style=\"padding: 10px;\n",
    "              color:white;\">\n",
    "Aggregating And Combining DataFrames              \n",
    "</p>\n",
    "</div>\n",
    "\n",
    "DS-NTL-010824\n",
    "<p>Phase 1: Topic 5.2</p>\n",
    "<br>\n",
    "<br>\n",
    "\n",
    "<div align = \"right\">\n",
    "<img src=\"Images/flatiron-school-logo.png\" align = \"right\" width=\"200\"/>\n",
    "</div>\n",
    "    \n",
    "    "
   ]
  },
  {
   "cell_type": "markdown",
   "id": "e19cabca",
   "metadata": {
    "slideshow": {
     "slide_type": "slide"
    }
   },
   "source": [
    "## Objectives\n",
    "\n",
    "- Use GroupBy objects to organize and aggregate data\n",
    "- Create pivot tables from DataFrames\n",
    "- Combine DataFrames by merging, joining, and concatenating"
   ]
  },
  {
   "cell_type": "markdown",
   "id": "861b0f9d",
   "metadata": {
    "slideshow": {
     "slide_type": "slide"
    }
   },
   "source": [
    "Categorical variable taking on a few discrete values.\n",
    "\n",
    "Each of these values form a group. Want to:\n",
    "- Calculate statistics on various quantities for each group (mean, etc.)\n",
    "- Transform/scale certain columns differently for each group.\n",
    "\n",
    "\n",
    "DataFrame.groupby() allows us to do this."
   ]
  },
  {
   "cell_type": "markdown",
   "id": "6f1678c1",
   "metadata": {
    "slideshow": {
     "slide_type": "slide"
    }
   },
   "source": [
    "Take the Titanic dataset again:"
   ]
  },
  {
   "cell_type": "code",
   "execution_count": null,
   "id": "3309b922",
   "metadata": {
    "slideshow": {
     "slide_type": "fragment"
    }
   },
   "outputs": [],
   "source": [
    "import numpy as np\n",
    "import pandas as pd\n",
    "import matplotlib.pyplot as plt\n",
    "\n",
    "titanic_df = pd.read_csv('Data/titanic.csv')\n",
    "titanic_df.head()"
   ]
  },
  {
   "cell_type": "markdown",
   "id": "fd05fa5b",
   "metadata": {
    "slideshow": {
     "slide_type": "slide"
    }
   },
   "source": [
    "Sex as  relevant categorical variable:\n",
    "- survival rate\n",
    "- distribution of ages\n",
    "- fare"
   ]
  },
  {
   "cell_type": "markdown",
   "id": "2acd2c02",
   "metadata": {
    "slideshow": {
     "slide_type": "slide"
    }
   },
   "source": [
    "# groupby "
   ]
  },
  {
   "cell_type": "code",
   "execution_count": null,
   "id": "0e82a941",
   "metadata": {
    "slideshow": {
     "slide_type": "fragment"
    }
   },
   "outputs": [],
   "source": [
    "titanic_subset = titanic_df[['Sex', 'Survived', 'Age', 'Fare']]\n",
    "titanic_subset.groupby('Sex')"
   ]
  },
  {
   "cell_type": "markdown",
   "id": "7cb5c1d0",
   "metadata": {
    "slideshow": {
     "slide_type": "fragment"
    }
   },
   "source": [
    "groupby object has many useful methods for processing data by group."
   ]
  },
  {
   "cell_type": "markdown",
   "id": "8648838a",
   "metadata": {
    "slideshow": {
     "slide_type": "slide"
    }
   },
   "source": [
    "#### Aggregation methods \n",
    "\n",
    "- Methods that compute statistics across the different groups.\n",
    "- Common aggregation methods:\n",
    "    - .min(): returns the minimum value for each column by group\n",
    "    - .max(): returns the maximum value for each column by group\n",
    "    - .mean(): returns the average value for each column by group\n",
    "    - .median(): returns the median value for each column by group\n",
    "    - .count(): returns the count of each column by group\n",
    "    - .sum(): return sum of each column by group"
   ]
  },
  {
   "cell_type": "markdown",
   "id": "624681ac",
   "metadata": {
    "slideshow": {
     "slide_type": "slide"
    }
   },
   "source": [
    "Computing the mean of columns by group:\n",
    "- Note: mean of Survived is the survival fraction."
   ]
  },
  {
   "cell_type": "code",
   "execution_count": null,
   "id": "9c943888",
   "metadata": {
    "cell_style": "center",
    "slideshow": {
     "slide_type": "fragment"
    }
   },
   "outputs": [],
   "source": [
    "titanic_subset.groupby('Sex').mean()"
   ]
  },
  {
   "cell_type": "code",
   "execution_count": null,
   "id": "1c145b7e",
   "metadata": {
    "cell_style": "center",
    "slideshow": {
     "slide_type": "fragment"
    }
   },
   "outputs": [],
   "source": [
    "titanic_subset.groupby('Sex')['Fare'].mean()"
   ]
  },
  {
   "cell_type": "markdown",
   "id": "b0bf6ecb",
   "metadata": {
    "cell_style": "center",
    "slideshow": {
     "slide_type": "fragment"
    }
   },
   "source": [
    "Any obvious distinctions between groups here?"
   ]
  },
  {
   "cell_type": "markdown",
   "id": "775e214d",
   "metadata": {
    "slideshow": {
     "slide_type": "slide"
    }
   },
   "source": [
    "#### .agg(func) method\n",
    "Can write your own aggregations.\n",
    "- Get square root of the sum of squares of desired columns."
   ]
  },
  {
   "cell_type": "code",
   "execution_count": null,
   "id": "912a1728",
   "metadata": {
    "slideshow": {
     "slide_type": "fragment"
    }
   },
   "outputs": [],
   "source": [
    "titanic_subset.groupby('Sex').agg(lambda x: np.sqrt(np.sum(x**2)))"
   ]
  },
  {
   "cell_type": "markdown",
   "id": "a32b72e9",
   "metadata": {
    "slideshow": {
     "slide_type": "slide"
    }
   },
   "source": [
    "#### .transform(func) method\n",
    "- This is not an aggregation.\n",
    "- Transforms entries in each column differently according to their group.\n",
    "\n",
    "\n"
   ]
  },
  {
   "cell_type": "markdown",
   "id": "9ec1a61b",
   "metadata": {
    "slideshow": {
     "slide_type": "fragment"
    }
   },
   "source": [
    "Example: standardize columns for each sex separately:\n",
    "\n",
    "- Subtract entries of columns in each sex category by the column mean for that sex.\n",
    "- Then divide by the standard deviation of fare for that sex."
   ]
  },
  {
   "cell_type": "code",
   "execution_count": null,
   "id": "4e3c2a6d",
   "metadata": {
    "scrolled": true,
    "slideshow": {
     "slide_type": "slide"
    }
   },
   "outputs": [],
   "source": [
    "titanic_subset.groupby('Sex').transform(lambda col: (col - col.mean())/col.std())"
   ]
  },
  {
   "cell_type": "markdown",
   "id": "0185da2a",
   "metadata": {
    "slideshow": {
     "slide_type": "slide"
    }
   },
   "source": [
    "#### Grouping by multiple categorical variables\n",
    "\n",
    "- Split data into multiple levels of groups. \n",
    "- Group by sex (Male/Female) with subgroups in each according to passenger class.\n",
    "\n",
    "df.groupby() takes in list of categorical columns to group on:"
   ]
  },
  {
   "cell_type": "code",
   "execution_count": null,
   "id": "cd1eef20",
   "metadata": {
    "slideshow": {
     "slide_type": "fragment"
    }
   },
   "outputs": [],
   "source": [
    "titanic_subset2 = titanic_df[['Sex', 'Pclass', 'Survived', 'Age', 'Fare']]\n",
    "titanic_subset2.groupby(['Sex','Pclass'])"
   ]
  },
  {
   "cell_type": "markdown",
   "id": "b56c79fc",
   "metadata": {
    "slideshow": {
     "slide_type": "slide"
    }
   },
   "source": [
    "Calculate mean of attributes within these groups/subgroups:"
   ]
  },
  {
   "cell_type": "code",
   "execution_count": null,
   "id": "3534e9ad",
   "metadata": {
    "slideshow": {
     "slide_type": "fragment"
    }
   },
   "outputs": [],
   "source": [
    "grouped_df = titanic_subset2.groupby(['Sex','Pclass']).mean()\n",
    "#grouped_df = titanic_subset2.groupby(by =['Sex','Pclass']).agg('mean')\n",
    "\n",
    "grouped_df"
   ]
  },
  {
   "cell_type": "markdown",
   "id": "837df914",
   "metadata": {
    "slideshow": {
     "slide_type": "slide"
    }
   },
   "source": [
    "#### Basic Ideas of Data Shaping in Pandas\n",
    "1. Wide vs. Long Formats\n"
   ]
  },
  {
   "cell_type": "markdown",
   "id": "1a0da265",
   "metadata": {
    "cell_style": "split",
    "slideshow": {
     "slide_type": "fragment"
    }
   },
   "source": [
    "<div>\n",
    "    <center><img src=\"Images/hw_wide.png\" align = \"center\" width=\"400\"/></center>\n",
    "    <center>Wide format</center>\n",
    "</div>\n",
    "    "
   ]
  },
  {
   "cell_type": "markdown",
   "id": "aaeeb062",
   "metadata": {
    "cell_style": "split",
    "slideshow": {
     "slide_type": "fragment"
    }
   },
   "source": [
    "<div align>\n",
    "        <center><img src=\"Images/hw_long.png\" align = \"center\" width=\"300\"/></center>\n",
    "    <center>Long format</center>\n",
    "</div>"
   ]
  },
  {
   "cell_type": "markdown",
   "id": "6fb8fabb",
   "metadata": {
    "slideshow": {
     "slide_type": "slide"
    }
   },
   "source": [
    "#### Pivoting\n",
    "\n",
    "- Convert from a long to a wide format:\n",
    "\n",
    "   - DataFrame.pivot(index, columns, values):\n",
    "  \n",
    " One attribute becomes index, values in other attribute becomes labels for new columns.\n",
    " \n",
    " Best to see an example:"
   ]
  },
  {
   "cell_type": "code",
   "execution_count": null,
   "id": "ad26e178",
   "metadata": {
    "cell_style": "center",
    "slideshow": {
     "slide_type": "slide"
    }
   },
   "outputs": [],
   "source": [
    "value_list = [182, 160, 130, 78, 67, 52]\n",
    "physical_data = pd.DataFrame(np.array([['John', 'Christopher', 'Melinda']*2, ['Height', 'Weight']*3, value_list]).T,\n",
    "             columns = ['name', 'attribute', 'value'])\n",
    "\n",
    "physical_data\n"
   ]
  },
  {
   "cell_type": "markdown",
   "id": "664b5536",
   "metadata": {
    "cell_style": "center",
    "slideshow": {
     "slide_type": "fragment"
    }
   },
   "source": [
    "This is long form. Use pivot to convert to wide format."
   ]
  },
  {
   "cell_type": "code",
   "execution_count": null,
   "id": "b5ee9ee4",
   "metadata": {
    "cell_style": "center",
    "slideshow": {
     "slide_type": "slide"
    }
   },
   "outputs": [],
   "source": [
    "wide_form = physical_data.pivot(index = 'name', columns = 'attribute', values = 'value')\n",
    "wide_form"
   ]
  },
  {
   "cell_type": "markdown",
   "id": "60ec723b",
   "metadata": {
    "slideshow": {
     "slide_type": "slide"
    }
   },
   "source": [
    "#### Melting: the inverse of pivoting.\n",
    "\n",
    "- Take data from wide to long format.\n",
    "- pd.melt(dataframe, id_vars, value_vars, var_name, value_name)"
   ]
  },
  {
   "cell_type": "code",
   "execution_count": null,
   "id": "fcec8a36",
   "metadata": {
    "cell_style": "split",
    "slideshow": {
     "slide_type": "fragment"
    }
   },
   "outputs": [],
   "source": [
    "wide_form.reset_index(inplace = True)\n",
    "wide_form"
   ]
  },
  {
   "cell_type": "code",
   "execution_count": null,
   "id": "0eac6516",
   "metadata": {
    "cell_style": "split",
    "slideshow": {
     "slide_type": "fragment"
    }
   },
   "outputs": [],
   "source": [
    "pd.melt(wide_form, \n",
    "        id_vars = ['name'], \n",
    "        value_vars = ['Height', 'Weight'])"
   ]
  },
  {
   "cell_type": "markdown",
   "id": "53b61e6b",
   "metadata": {
    "slideshow": {
     "slide_type": "slide"
    }
   },
   "source": [
    "#### Pivot Tables\n",
    "\n",
    "- When the columns you want to pivot on have non-unique entries.\n",
    "- E.g., temperature as function of position X,Y for a given month but multiple measurements at each X,Y\n",
    "- Want average of these measurements at each X,Y in pivoted form:\n",
    "\n",
    "    - df.pivot_table(..., aggfunc = __)"
   ]
  },
  {
   "cell_type": "markdown",
   "id": "0ce45f85",
   "metadata": {
    "slideshow": {
     "slide_type": "fragment"
    }
   },
   "source": [
    "Forest fire dataset:\n",
    "\n",
    "Looks at temperature logged at various X, Y positions in a forest over several months."
   ]
  },
  {
   "cell_type": "code",
   "execution_count": null,
   "id": "b4e5e858",
   "metadata": {
    "slideshow": {
     "slide_type": "slide"
    }
   },
   "outputs": [],
   "source": [
    "forest_df = pd.read_csv('Data/forestfires.csv', usecols = ['X', 'Y', 'month', 'day', 'temp'])\n",
    "inamonth_df = forest_df[(forest_df['month'] == 'mar')]\n",
    "\n",
    "inamonth_df.head(10)"
   ]
  },
  {
   "cell_type": "markdown",
   "id": "06f9649c",
   "metadata": {
    "slideshow": {
     "slide_type": "slide"
    }
   },
   "source": [
    "Average temperature at (X, Y) positions for March. Organized as pivot table:"
   ]
  },
  {
   "cell_type": "code",
   "execution_count": null,
   "id": "345913cb",
   "metadata": {
    "slideshow": {
     "slide_type": "slide"
    }
   },
   "outputs": [],
   "source": [
    "inamonth_df.pivot_table(index = 'X', columns = 'Y', values = 'temp', aggfunc = 'mean')"
   ]
  },
  {
   "cell_type": "markdown",
   "id": "3b87af2c",
   "metadata": {
    "slideshow": {
     "slide_type": "slide"
    }
   },
   "source": [
    "#### Multiindexing\n",
    "- Setting multiple columns as index\n",
    "- Setting hierarchies.\n",
    "- Accessing data in multi-indexed DataFrames."
   ]
  },
  {
   "cell_type": "markdown",
   "id": "baad5c05",
   "metadata": {
    "slideshow": {
     "slide_type": "fragment"
    }
   },
   "source": [
    "Airfoil noise dataset:\n",
    "- Various factors affecting sound amplitude off of airplane wings."
   ]
  },
  {
   "cell_type": "code",
   "execution_count": null,
   "id": "f8bc0997",
   "metadata": {
    "slideshow": {
     "slide_type": "slide"
    }
   },
   "outputs": [],
   "source": [
    "colnames = ['Frequency [Hz]', 'Angle of attack [deg]', \\\n",
    "            'Chord length [m]', 'Free-stream velocity [m/s]', \\\n",
    "            'Suction side thickness [m]', 'Sound volume [dB]']\n",
    "airfoil_df = pd.read_csv('Data/airfoil_self_noise.dat', delimiter='\\t', header = None, names = colnames  )\n",
    "\n",
    "airfoil_df.head()"
   ]
  },
  {
   "cell_type": "markdown",
   "id": "c1b59694",
   "metadata": {
    "slideshow": {
     "slide_type": "slide"
    }
   },
   "source": [
    "Setting multiple attributes as indices can give us flexibility in addressing the data.\n",
    "- How does sound amplitude depend just on frequency, stream velocity, and foil chord length?\n",
    "- Create hierarchical Multiindex:"
   ]
  },
  {
   "cell_type": "code",
   "execution_count": null,
   "id": "a01b71fc",
   "metadata": {
    "slideshow": {
     "slide_type": "fragment"
    }
   },
   "outputs": [],
   "source": [
    "col_subset = ['Frequency [Hz]', 'Free-stream velocity [m/s]', 'Angle of attack [deg]', 'Sound volume [dB]']\n",
    "airfoil_df = airfoil_df[col_subset].set_index(col_subset[0:3])\n",
    "airfoil_df.head()"
   ]
  },
  {
   "cell_type": "markdown",
   "id": "ed96ff4c",
   "metadata": {
    "slideshow": {
     "slide_type": "fragment"
    }
   },
   "source": [
    "Moved columns to index, but hierarchical structure of indices not set:\n",
    "- Can be accomplished with the .sort_index() method."
   ]
  },
  {
   "cell_type": "code",
   "execution_count": null,
   "id": "7d319b3f",
   "metadata": {
    "slideshow": {
     "slide_type": "slide"
    }
   },
   "outputs": [],
   "source": [
    "airfoil_df = airfoil_df.sort_index()\n",
    "airfoil_df.head(10)"
   ]
  },
  {
   "cell_type": "code",
   "execution_count": null,
   "id": "1f15f5ec",
   "metadata": {
    "scrolled": true
   },
   "outputs": [],
   "source": [
    "for i in [200]:\n",
    "    airfoil_df.loc[i,31.7,: ].values/sum(airfoil_df.loc[200,31.7,: ].values) #[airfoil_df['Sound volume [dB]'].value_counts()"
   ]
  },
  {
   "cell_type": "markdown",
   "id": "14b1ef22",
   "metadata": {
    "slideshow": {
     "slide_type": "slide"
    }
   },
   "source": [
    "#### Accessing via the .loc accessor on multi-indices\n",
    "-DataFrame.loc[first_level_index, columns]\n",
    "- Dataframe.loc[(first_level_index, second_level_index, third_level_index), columns]"
   ]
  },
  {
   "cell_type": "code",
   "execution_count": null,
   "id": "5300e72e",
   "metadata": {
    "cell_style": "split",
    "slideshow": {
     "slide_type": "fragment"
    }
   },
   "outputs": [],
   "source": [
    "# at frequency = 1000 Hz\n",
    "airfoil_df.loc[1000, :]"
   ]
  },
  {
   "cell_type": "code",
   "execution_count": null,
   "id": "6dbe8c8d",
   "metadata": {
    "cell_style": "split",
    "slideshow": {
     "slide_type": "fragment"
    }
   },
   "outputs": [],
   "source": [
    "# sound vol vs angle of attack\n",
    "# fixed at 1000 Hz, 55.5 m/s stream velocity\n",
    "airfoil_df.loc[(1000, 55.5)]"
   ]
  },
  {
   "cell_type": "markdown",
   "id": "d998c36a",
   "metadata": {
    "slideshow": {
     "slide_type": "slide"
    }
   },
   "source": [
    "Swapping level hierarchy:\n",
    "- Look at measurement/response keeping one variable fixed and varying another.\n",
    "- Swapping level hierarchy switches which we keep fixed and which we vary.\n"
   ]
  },
  {
   "cell_type": "code",
   "execution_count": null,
   "id": "1c084648",
   "metadata": {
    "slideshow": {
     "slide_type": "fragment"
    }
   },
   "outputs": [],
   "source": [
    "swapped_df = airfoil_df.swaplevel('Free-stream velocity [m/s]', 'Angle of attack [deg]').sort_index()"
   ]
  },
  {
   "cell_type": "code",
   "execution_count": null,
   "id": "9aacc71a",
   "metadata": {
    "cell_style": "split",
    "slideshow": {
     "slide_type": "fragment"
    }
   },
   "outputs": [],
   "source": [
    "swapped_df.head()"
   ]
  },
  {
   "cell_type": "code",
   "execution_count": null,
   "id": "66f269c8",
   "metadata": {
    "cell_style": "split",
    "slideshow": {
     "slide_type": "fragment"
    }
   },
   "outputs": [],
   "source": [
    "swapped_df.loc[(1000, 7.3)]"
   ]
  },
  {
   "cell_type": "markdown",
   "id": "6aa4517a",
   "metadata": {
    "slideshow": {
     "slide_type": "slide"
    }
   },
   "source": [
    "Multi-indexing opens up many possibilities for data manipulation.\n",
    "\n",
    "Strongly encourage you to look at supplementary material and pandas documentation!"
   ]
  },
  {
   "cell_type": "markdown",
   "id": "d943e9d4",
   "metadata": {
    "cell_style": "center",
    "slideshow": {
     "slide_type": "slide"
    }
   },
   "source": [
    "# Methods for Combining DataFrames: `.join()`, `.merge()`, `.concat()`\n",
    "\n",
    "Many ways to combine dataframes! Luckily, pandas has great docs: https://pandas.pydata.org/pandas-docs/stable/user_guide/merging.html"
   ]
  },
  {
   "cell_type": "markdown",
   "id": "9c31a4ab",
   "metadata": {
    "slideshow": {
     "slide_type": "slide"
    }
   },
   "source": [
    "# Concat"
   ]
  },
  {
   "cell_type": "code",
   "execution_count": null,
   "id": "4b96b541",
   "metadata": {
    "cell_style": "split",
    "slideshow": {
     "slide_type": "fragment"
    }
   },
   "outputs": [],
   "source": [
    "ds_chars = pd.read_csv('data/ds_chars.csv',index_col=0)\n",
    "ds_chars"
   ]
  },
  {
   "cell_type": "code",
   "execution_count": null,
   "id": "3ea147ff",
   "metadata": {
    "cell_style": "split",
    "slideshow": {
     "slide_type": "fragment"
    }
   },
   "outputs": [],
   "source": [
    "prefs = pd.read_csv('data/preferences.csv', index_col=0)\n",
    "prefs"
   ]
  },
  {
   "cell_type": "markdown",
   "id": "21d36466",
   "metadata": {
    "slideshow": {
     "slide_type": "fragment"
    }
   },
   "source": [
    "Would you concat on axis = 0 or axis = 1"
   ]
  },
  {
   "cell_type": "code",
   "execution_count": null,
   "id": "e6a25567",
   "metadata": {
    "slideshow": {
     "slide_type": "slide"
    }
   },
   "outputs": [],
   "source": [
    "ds_full = pd.concat([ds_chars, prefs], axis=1)\n",
    "ds_full"
   ]
  },
  {
   "cell_type": "markdown",
   "id": "561175a2",
   "metadata": {
    "slideshow": {
     "slide_type": "slide"
    }
   },
   "source": [
    "# join & merge\n",
    "\n",
    "Datasets do not have to have same rows or columns.\n",
    "- Just a common key (or set of keys) used to match records.\n",
    "\n",
    "pd.merge() is the most flexible workhorse function for this:"
   ]
  },
  {
   "cell_type": "markdown",
   "id": "44397faa",
   "metadata": {
    "slideshow": {
     "slide_type": "slide"
    }
   },
   "source": [
    "This parameter in both `.join()` and `.merge()` tells the compiler what sort of join to effect. We'll cover this in detail when we discuss SQL.\n",
    "\n",
    "![image showcasing how the how parameter in a join/merge would combine the two datasets, using venn-style diagrams](https://www.datasciencemadesimple.com/wp-content/uploads/2017/09/join-or-merge-in-python-pandas-1.png)\n",
    "[[Image Source]](https://www.datasciencemadesimple.com/join-merge-data-frames-pandas-python/)"
   ]
  },
  {
   "cell_type": "code",
   "execution_count": null,
   "id": "a6e829de",
   "metadata": {
    "slideshow": {
     "slide_type": "slide"
    }
   },
   "outputs": [],
   "source": [
    "# create two datasets\n",
    "import pandas as pd\n",
    "df1 = pd.DataFrame({'employee': ['Chadwick', 'Bartholemew', 'Jake', 'Brunnhilde', 'Sue', 'Jimbo Jr.'],\n",
    "                    'group': ['Building' ,'Accounting', 'Engineering', 'Engineering', 'HR', 'Compliance']})\n",
    "\n",
    "df2 = pd.DataFrame({'group': ['Accounting', 'Engineering', 'HR', 'Endowment'],\n",
    "                    'supervisor': ['Carly', 'Guido', 'Steve', 'Eileen']})\n",
    "df3 = pd.DataFrame({'name': ['Brunnhilde', 'Bartholemew', 'Jake', 'Sue'],\n",
    "                    'hire_date': [2004, 2008, 2012, 2014]})\n"
   ]
  },
  {
   "cell_type": "code",
   "execution_count": null,
   "id": "ecbdfe39",
   "metadata": {
    "cell_style": "split",
    "slideshow": {
     "slide_type": "slide"
    }
   },
   "outputs": [],
   "source": [
    "df1"
   ]
  },
  {
   "cell_type": "code",
   "execution_count": null,
   "id": "a678725a",
   "metadata": {
    "cell_style": "split",
    "slideshow": {
     "slide_type": "fragment"
    }
   },
   "outputs": [],
   "source": [
    "df2"
   ]
  },
  {
   "cell_type": "code",
   "execution_count": null,
   "id": "2a412811",
   "metadata": {
    "slideshow": {
     "slide_type": "fragment"
    }
   },
   "outputs": [],
   "source": [
    "pd.merge(df1, df2, how = 'inner', on = 'group')"
   ]
  },
  {
   "cell_type": "code",
   "execution_count": null,
   "id": "211e96e3",
   "metadata": {
    "cell_style": "split",
    "slideshow": {
     "slide_type": "slide"
    }
   },
   "outputs": [],
   "source": [
    "pd.merge(df1, df2, how = 'left', on = 'group')"
   ]
  },
  {
   "cell_type": "code",
   "execution_count": null,
   "id": "dda71833",
   "metadata": {
    "cell_style": "split",
    "slideshow": {
     "slide_type": "fragment"
    }
   },
   "outputs": [],
   "source": [
    "pd.merge(df1, df2, how = 'right', on = 'group')"
   ]
  },
  {
   "cell_type": "markdown",
   "id": "d80f88b2",
   "metadata": {
    "slideshow": {
     "slide_type": "slide"
    }
   },
   "source": [
    "merge on key with different label:"
   ]
  },
  {
   "cell_type": "code",
   "execution_count": null,
   "id": "ca093d04",
   "metadata": {
    "cell_style": "split",
    "slideshow": {
     "slide_type": "fragment"
    }
   },
   "outputs": [],
   "source": [
    "df1\n"
   ]
  },
  {
   "cell_type": "code",
   "execution_count": null,
   "id": "b7dc603d",
   "metadata": {
    "cell_style": "split",
    "slideshow": {
     "slide_type": "fragment"
    }
   },
   "outputs": [],
   "source": [
    "df3"
   ]
  },
  {
   "cell_type": "code",
   "execution_count": null,
   "id": "83dfde06",
   "metadata": {
    "slideshow": {
     "slide_type": "fragment"
    }
   },
   "outputs": [],
   "source": [
    "pd.merge(df1, df3, left_on = 'employee', right_on = 'name', how = 'inner')\n",
    "# what names will ne included?"
   ]
  },
  {
   "cell_type": "markdown",
   "id": "635dbf3b",
   "metadata": {
    "slideshow": {
     "slide_type": "slide"
    }
   },
   "source": [
    "Can do a bit more with merge: \n",
    "- merge matching on multiple columns as opposed to one.\n",
    "- df1.join(df2, how = ' '): similar to merge but less flexible. Joins on index. Faster than merge.\n"
   ]
  },
  {
   "cell_type": "code",
   "execution_count": null,
   "id": "0fe3c671",
   "metadata": {
    "slideshow": {
     "slide_type": "slide"
    }
   },
   "outputs": [],
   "source": [
    "df1.set_index('group').join(df2.set_index('group'), how = 'inner')"
   ]
  },
  {
   "cell_type": "markdown",
   "id": "48db18e5",
   "metadata": {
    "slideshow": {
     "slide_type": "slide"
    }
   },
   "source": [
    "Data in real life can be messy:\n",
    "\n",
    "- Often keys have mispellings or don't exactly match up\n",
    "- Determine whether key is similar enough.\n",
    "- Then link record if true."
   ]
  }
 ],
 "metadata": {
  "celltoolbar": "Slideshow",
  "kernelspec": {
   "display_name": "dplearn",
   "language": "python",
   "name": "dplearn"
  },
  "language_info": {
   "codemirror_mode": {
    "name": "ipython",
    "version": 3
   },
   "file_extension": ".py",
   "mimetype": "text/x-python",
   "name": "python",
   "nbconvert_exporter": "python",
   "pygments_lexer": "ipython3",
   "version": "3.10.10"
  }
 },
 "nbformat": 4,
 "nbformat_minor": 5
}
